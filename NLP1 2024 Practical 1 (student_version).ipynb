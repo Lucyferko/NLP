{
  "cells": [
    {
      "cell_type": "markdown",
      "metadata": {
        "id": "1-aRiOgl4nHg"
      },
      "source": [
        "------\n",
        "**You cannot save any changes you make to this file, so please make sure to save it on your Google Colab drive or download it as a .ipynb file.**\n",
        "\n",
        "------\n",
        "\n"
      ]
    },
    {
      "cell_type": "markdown",
      "metadata": {
        "id": "lIZrAUx57vsM"
      },
      "source": [
        "Practical 1: Sentiment Detection in Movie Reviews\n",
        "========================================\n",
        "\n"
      ]
    },
    {
      "cell_type": "markdown",
      "metadata": {
        "id": "J4kXPMhyngZW"
      },
      "source": [
        "This practical concerns detecting sentiment in movie reviews. This is a typical NLP classification task.\n",
        "In [this file](https://gist.githubusercontent.com/bastings/d47423301cca214e3930061a5a75e177/raw/5113687382919e22b1f09ce71a8fecd1687a5760/reviews.json) (80MB) you will find 1000 positive and 1000 negative **movie reviews**.\n",
        "Each review is a **document** and consists of one or more sentences.\n",
        "\n",
        "To prepare yourself for this practical, you should\n",
        "have a look at a few of these texts to understand the difficulties of\n",
        "the task: how might one go about classifying the texts? You will write\n",
        "code that decides whether a movie review conveys positive or\n",
        "negative sentiment.\n",
        "\n",
        "Please make sure you have read the following paper:\n",
        "\n",
        ">   Bo Pang, Lillian Lee, and Shivakumar Vaithyanathan\n",
        "(2002).\n",
        "[Thumbs up? Sentiment Classification using Machine Learning\n",
        "Techniques](https://dl.acm.org/citation.cfm?id=1118704). EMNLP.\n",
        "\n",
        "Bo Pang et al. introduced the movie review sentiment\n",
        "classification task, and the above paper was one of the first papers on\n",
        "the topic. The first version of your sentiment classifier will do\n",
        "something similar to Pang et al.'s system. If you have questions about it,\n",
        "you should resolve you doubts as soon as possible with your TA.\n"
      ]
    },
    {
      "cell_type": "markdown",
      "metadata": {
        "id": "cb7errgRASzZ"
      },
      "source": [
        "**Advice**\n",
        "\n",
        "Please read through the entire practical and familiarise\n",
        "yourself with all requirements before you start coding or otherwise\n",
        "solving the tasks. Writing clean and concise code can make the difference\n",
        "between solving the assignment in a matter of hours, and taking days to\n",
        "run all experiments.\n",
        "\n",
        "\n",
        "**Implementation**\n",
        "\n",
        "While we inserted code cells to indicate where you should implement your own code, please feel free to add/remove code blocks where you see fit (but make sure that the general structure of the assignment is preserved). Also, please keep in mind that it is always good practice to structure your code properly, e.g., by implementing separate classes and functions that can be reused. **Make sure you run all your code before submitting the notebook, and do not leave unnecessary print statements / cells in your notebook that are not intended for the grader.**\n",
        "\n",
        "## Environment\n",
        "\n",
        "All code should be written in **Python 3**.\n",
        "This is the default in Google Colab."
      ]
    },
    {
      "cell_type": "code",
      "execution_count": 1,
      "metadata": {
        "colab": {
          "base_uri": "https://localhost:8080/"
        },
        "id": "SaZnxptMJiD7",
        "outputId": "360ce99c-9a04-42ab-9a02-9931d7e4e860"
      },
      "outputs": [
        {
          "output_type": "stream",
          "name": "stdout",
          "text": [
            "Python 3.10.12\n"
          ]
        }
      ],
      "source": [
        "!python --version"
      ]
    },
    {
      "cell_type": "markdown",
      "metadata": {
        "id": "BYZyIF7lJnGn"
      },
      "source": [
        "If you want to run code on your own computer, then download this notebook through `File -> Download .ipynb`.\n",
        "The easiest way to\n",
        "install Python is through downloading\n",
        "[Anaconda](https://www.anaconda.com/download).\n",
        "After installation, you can start the notebook by typing `jupyter notebook filename.ipynb`.\n",
        "You can also use an IDE\n",
        "such as [PyCharm](https://www.jetbrains.com/pycharm/download/) to make\n",
        "coding and debugging easier. It is good practice to create a [virtual\n",
        "environment](https://docs.python.org/3/tutorial/venv.html) for this\n",
        "project, so that any Python packages don’t interfere with other\n",
        "projects.\n",
        "\n",
        "\n",
        "**Learning Python 3**\n",
        "\n",
        "If you are new to Python 3, you may want to check out a few of these resources:\n",
        "- https://learnxinyminutes.com/docs/python3/\n",
        "- https://www.learnpython.org/\n",
        "- https://docs.python.org/3/tutorial/"
      ]
    },
    {
      "cell_type": "code",
      "execution_count": 2,
      "metadata": {
        "id": "hok-BFu9lGoK"
      },
      "outputs": [],
      "source": [
        "import math\n",
        "import os\n",
        "import sys\n",
        "from subprocess import call\n",
        "from nltk import FreqDist\n",
        "from nltk.util import ngrams\n",
        "from nltk.stem.porter import PorterStemmer\n",
        "import sklearn as sk\n",
        "# from google.colab import drive\n",
        "import pickle\n",
        "import json\n",
        "import requests\n",
        "import matplotlib.pyplot as plt\n",
        "import numpy as np\n",
        "from collections import Counter, defaultdict\n",
        "import math"
      ]
    },
    {
      "cell_type": "markdown",
      "metadata": {
        "id": "bXWyGHwE-ieQ"
      },
      "source": [
        "## Loading the data\n",
        "\n",
        "**Download the sentiment lexicon and the movie reviews dataset.**"
      ]
    },
    {
      "cell_type": "code",
      "execution_count": 3,
      "metadata": {
        "colab": {
          "base_uri": "https://localhost:8080/"
        },
        "id": "lm-rakqtlMOT",
        "outputId": "e6e04af7-ab0a-44e8-8e92-5b261c3353c0"
      },
      "outputs": [
        {
          "output_type": "stream",
          "name": "stdout",
          "text": [
            "--2024-11-12 08:25:31--  https://gist.githubusercontent.com/bastings/d6f99dcb6c82231b94b013031356ba05/raw/f80a0281eba8621b122012c89c8b5e2200b39fd6/sent_lexicon\n",
            "Resolving gist.githubusercontent.com (gist.githubusercontent.com)... 185.199.108.133, 185.199.109.133, 185.199.110.133, ...\n",
            "Connecting to gist.githubusercontent.com (gist.githubusercontent.com)|185.199.108.133|:443... connected.\n",
            "HTTP request sent, awaiting response... 200 OK\n",
            "Length: 662577 (647K) [text/plain]\n",
            "Saving to: ‘sent_lexicon’\n",
            "\n",
            "\rsent_lexicon          0%[                    ]       0  --.-KB/s               \rsent_lexicon        100%[===================>] 647.05K  --.-KB/s    in 0.009s  \n",
            "\n",
            "2024-11-12 08:25:31 (70.9 MB/s) - ‘sent_lexicon’ saved [662577/662577]\n",
            "\n",
            "--2024-11-12 08:25:31--  https://gist.githubusercontent.com/bastings/d47423301cca214e3930061a5a75e177/raw/5113687382919e22b1f09ce71a8fecd1687a5760/reviews.json\n",
            "Resolving gist.githubusercontent.com (gist.githubusercontent.com)... 185.199.108.133, 185.199.109.133, 185.199.110.133, ...\n",
            "Connecting to gist.githubusercontent.com (gist.githubusercontent.com)|185.199.108.133|:443... connected.\n",
            "HTTP request sent, awaiting response... 200 OK\n",
            "Length: 83503869 (80M) [text/plain]\n",
            "Saving to: ‘reviews.json’\n",
            "\n",
            "reviews.json        100%[===================>]  79.63M   134MB/s    in 0.6s    \n",
            "\n",
            "2024-11-12 08:25:32 (134 MB/s) - ‘reviews.json’ saved [83503869/83503869]\n",
            "\n"
          ]
        }
      ],
      "source": [
        "# download sentiment lexicon\n",
        "!wget https://gist.githubusercontent.com/bastings/d6f99dcb6c82231b94b013031356ba05/raw/f80a0281eba8621b122012c89c8b5e2200b39fd6/sent_lexicon\n",
        "# download review data\n",
        "!wget https://gist.githubusercontent.com/bastings/d47423301cca214e3930061a5a75e177/raw/5113687382919e22b1f09ce71a8fecd1687a5760/reviews.json"
      ]
    },
    {
      "cell_type": "markdown",
      "metadata": {
        "id": "AkPwuHp5LSuQ"
      },
      "source": [
        "**Load the movie reviews.**\n",
        "\n",
        "Each word in a review comes with its part-of-speech tag. For documentation on POS-tags, see https://catalog.ldc.upenn.edu/docs/LDC99T42/tagguid1.pdf.\n"
      ]
    },
    {
      "cell_type": "code",
      "execution_count": 4,
      "metadata": {
        "colab": {
          "base_uri": "https://localhost:8080/"
        },
        "id": "careEKj-mRpl",
        "outputId": "8c815b7e-9f66-49fc-d273-68777cd11f05"
      },
      "outputs": [
        {
          "output_type": "stream",
          "name": "stdout",
          "text": [
            "Total number of reviews: 2000 \n",
            "\n",
            "0 NEG 29\n",
            "Two/CD teen/JJ couples/NNS go/VBP to/TO a/DT church/NN party/NN ,/, drink/NN and/CC then/RB drive/NN ./.\n",
            "1 NEG 11\n",
            "Damn/JJ that/IN Y2K/CD bug/NN ./.\n",
            "2 NEG 24\n",
            "It/PRP is/VBZ movies/NNS like/IN these/DT that/WDT make/VBP a/DT jaded/JJ movie/NN viewer/NN thankful/JJ for/IN the/DT invention/NN of/IN the/DT Timex/NNP IndiGlo/NNP watch/NN ./.\n",
            "3 NEG 19\n",
            "QUEST/NN FOR/IN CAMELOT/NNP ``/`` Quest/NNP for/IN Camelot/NNP ''/'' is/VBZ Warner/NNP Bros./NNP '/POS first/JJ feature-length/JJ ,/, fully-animated/JJ attempt/NN to/TO steal/VB clout/NN from/IN Disney/NNP 's/POS cartoon/NN empire/NN ,/, but/CC the/DT mouse/NN has/VBZ no/DT reason/NN to/TO be/VB worried/VBN ./.\n",
            "4 NEG 38\n",
            "Synopsis/NNPS :/: A/DT mentally/RB unstable/JJ man/NN undergoing/VBG psychotherapy/NN saves/VBZ a/DT boy/NN from/IN a/DT potentially/RB fatal/JJ accident/NN and/CC then/RB falls/VBZ in/IN love/NN with/IN the/DT boy/NN 's/POS mother/NN ,/, a/DT fledgling/NN restauranteur/NN ./.\n",
            "\n",
            "Number of word types: 47743\n",
            "Number of word tokens: 1512359\n",
            "\n",
            "Most common tokens:\n",
            "         , :    77842\n",
            "       the :    75948\n",
            "         . :    59027\n",
            "         a :    37583\n",
            "       and :    35235\n",
            "        of :    33864\n",
            "        to :    31601\n",
            "        is :    25972\n",
            "        in :    21563\n",
            "        's :    18043\n",
            "        it :    15904\n",
            "      that :    15820\n",
            "     -rrb- :    11768\n",
            "     -lrb- :    11670\n",
            "        as :    11312\n",
            "      with :    10739\n",
            "       for :     9816\n",
            "       his :     9542\n",
            "      this :     9497\n",
            "      film :     9404\n"
          ]
        }
      ],
      "source": [
        "# file structure:\n",
        "# [\n",
        "#  {\"cv\": integer, \"sentiment\": str, \"content\": list}\n",
        "#  {\"cv\": integer, \"sentiment\": str, \"content\": list}\n",
        "#   ..\n",
        "# ]\n",
        "# where `content` is a list of sentences,\n",
        "# with a sentence being a list of (token, pos_tag) pairs.\n",
        "\n",
        "\n",
        "with open(\"reviews.json\", mode=\"r\", encoding=\"utf-8\") as f:\n",
        "  reviews = json.load(f)\n",
        "\n",
        "print(\"Total number of reviews:\", len(reviews), '\\n')\n",
        "\n",
        "def print_sentence_with_pos(s):\n",
        "  print(\" \".join(\"%s/%s\" % (token, pos_tag) for token, pos_tag in s))\n",
        "\n",
        "for i, r in enumerate(reviews):\n",
        "  print(r[\"cv\"], r[\"sentiment\"], len(r[\"content\"]))  # cv, sentiment, num sents\n",
        "  print_sentence_with_pos(r[\"content\"][0])\n",
        "  if i == 4:\n",
        "    break\n",
        "\n",
        "c = Counter()\n",
        "for review in reviews:\n",
        "  for sentence in review[\"content\"]:\n",
        "    for token, pos_tag in sentence:\n",
        "      c[token.lower()] += 1\n",
        "\n",
        "print(\"\\nNumber of word types:\", len(c))\n",
        "print(\"Number of word tokens:\", sum(c.values()))\n",
        "\n",
        "print(\"\\nMost common tokens:\")\n",
        "for token, count in c.most_common(20):\n",
        "  print(\"%10s : %8d\" % (token, count))\n"
      ]
    },
    {
      "cell_type": "markdown",
      "metadata": {
        "id": "E6PWaEoh8B34"
      },
      "source": [
        "#(1) Lexicon-based approach (3.5pts)\n",
        "\n"
      ]
    },
    {
      "cell_type": "markdown",
      "metadata": {
        "id": "JsTSMb6ma4E8"
      },
      "source": [
        "A traditional approach to classify documents according to their sentiment is the lexicon-based approach. To implement this approach, you need a **sentiment lexicon**, i.e., a list of words annotated with a sentiment label (e.g., positive and negative, or a score from 0 to 5).\n",
        "\n",
        "In this practical, you will use the sentiment\n",
        "lexicon released by Wilson et al. (2005).\n",
        "\n",
        "> Theresa Wilson, Janyce Wiebe, and Paul Hoffmann\n",
        "(2005). [Recognizing Contextual Polarity in Phrase-Level Sentiment\n",
        "Analysis](http://www.aclweb.org/anthology/H/H05/H05-1044.pdf). HLT-EMNLP.\n",
        "\n",
        "Pay attention to all the information available in the sentiment lexicon. The field *word1* contains the lemma, *priorpolarity* contains the sentiment label (positive, negative, both, or neutral), *type* gives you the magnitude of the word's sentiment (strong or weak), and *pos1* gives you the part-of-speech tag of the lemma. Some lemmas can have multiple part-of-speech tags and thus multiple entries in the lexicon. The path of the lexicon file is `\"sent_lexicon\"`.\n"
      ]
    },
    {
      "cell_type": "code",
      "execution_count": 5,
      "metadata": {
        "colab": {
          "base_uri": "https://localhost:8080/"
        },
        "id": "Ogq0Eq2hQglh",
        "outputId": "b1ffce08-b986-498d-f192-e10286f464c4"
      },
      "outputs": [
        {
          "output_type": "stream",
          "name": "stdout",
          "text": [
            "type=weaksubj len=1 word1=abandoned pos1=adj stemmed1=n priorpolarity=negative\n",
            "type=weaksubj len=1 word1=abandonment pos1=noun stemmed1=n priorpolarity=negative\n",
            "type=weaksubj len=1 word1=abandon pos1=verb stemmed1=y priorpolarity=negative\n",
            "type=strongsubj len=1 word1=abase pos1=verb stemmed1=y priorpolarity=negative\n",
            "type=strongsubj len=1 word1=abasement pos1=anypos stemmed1=y priorpolarity=negative\n"
          ]
        }
      ],
      "source": [
        "with open(\"sent_lexicon\", mode=\"r\", encoding=\"utf-8\") as f:\n",
        "  line_cnt = 0\n",
        "  for line in f:\n",
        "    print(line.strip())\n",
        "    line_cnt += 1\n",
        "    if line_cnt > 4:\n",
        "      break"
      ]
    },
    {
      "cell_type": "markdown",
      "metadata": {
        "id": "Mml4nOtIUBhn"
      },
      "source": [
        "Lexica such as this can be used to solve\n",
        "the classification task without using Machine Learning. For example, one might look up every word $w_1 ... w_n$ in a document, and compute a **binary score**\n",
        "$S_{binary}$ by counting how many words have a positive or a\n",
        "negative label in the sentiment lexicon $SLex$.\n",
        "\n",
        "$$S_{binary}(w_1 w_2 ... w_n) = \\sum_{i = 1}^{n}\\text{sign}(SLex\\big[w_i\\big])$$\n",
        "\n",
        "where $\\text{sign}(SLex\\big[w_i\\big])$ refers to the polarity of $w_i$.\n",
        "\n",
        "**Threshold.** On average, there are more positive than negative words per review (~7.13 more positive than negative per review) to take this bias into account you should use a threshold of **8** (roughly the bias itself) to make it harder to classify as positive.\n",
        "\n",
        "$$\n",
        "\\text{classify}(S_{binary}(w_1 w_2 ... w_n)) = \\bigg\\{\\begin{array}{ll}\n",
        "        \\text{positive} & \\text{if } S_{binary}(w_1w_2...w_n) > threshold\\\\\n",
        "        \\text{negative} & \\text{otherwise}\n",
        "        \\end{array}\n",
        "$$\n"
      ]
    },
    {
      "cell_type": "markdown",
      "metadata": {
        "id": "tOFnMvbeeZrc"
      },
      "source": [
        "#### (Q1.1) Implement this approach and report its classification accuracy. (1 pt)"
      ]
    },
    {
      "cell_type": "code",
      "execution_count": 6,
      "metadata": {
        "id": "ED2aTEYutW1-"
      },
      "outputs": [],
      "source": [
        "def parse_lexicon(file_path):\n",
        "    lexicon = {}\n",
        "    with open(file_path, 'r') as f:\n",
        "        for line in f:\n",
        "            attributes = line.strip().split()\n",
        "            word = None\n",
        "            polarity = None\n",
        "\n",
        "            for attr in attributes:\n",
        "                key, value = attr.split('=')\n",
        "                if key == \"word1\":\n",
        "                    word = value\n",
        "                elif key == \"priorpolarity\":\n",
        "                    polarity = value\n",
        "\n",
        "            if polarity == \"positive\":\n",
        "                lexicon[word] = 1\n",
        "            elif polarity == \"negative\":\n",
        "                lexicon[word] = -1\n",
        "            elif polarity == \"neutral\":\n",
        "                lexicon[word] = 0\n",
        "\n",
        "    return lexicon\n",
        "\n",
        "def compute_review_scores(json_file_path, lexicon):\n",
        "    with open(json_file_path, 'r') as f:\n",
        "        reviews = json.load(f)\n",
        "\n",
        "    review_scores = []\n",
        "    real_scores = []\n",
        "\n",
        "    for review in reviews:\n",
        "        score = 0\n",
        "        for sentence in review[\"content\"]:\n",
        "            for word, tag in sentence:\n",
        "                word = word.lower()\n",
        "                if word in lexicon:\n",
        "                    score += lexicon[word]\n",
        "\n",
        "        if score > 8:\n",
        "            binary_score = 1\n",
        "        else:\n",
        "            binary_score = -1\n",
        "\n",
        "        review_scores.append(binary_score)\n",
        "        real_scores.append(1 if review[\"sentiment\"] == \"POS\" else -1)\n",
        "\n",
        "    return review_scores, real_scores\n",
        "\n",
        "# Example usage:\n",
        "lexicon = parse_lexicon(\"sent_lexicon\")\n",
        "review_scores, real_scores = compute_review_scores(\"reviews.json\", lexicon)\n"
      ]
    },
    {
      "cell_type": "code",
      "execution_count": 7,
      "metadata": {
        "colab": {
          "base_uri": "https://localhost:8080/"
        },
        "id": "iy528EUTphz5",
        "outputId": "9df26c17-85c3-4448-fa55-39df27e6b815"
      },
      "outputs": [
        {
          "output_type": "stream",
          "name": "stdout",
          "text": [
            "Accuracy: 0.6775\n"
          ]
        }
      ],
      "source": [
        "# token_results should be a list of binary indicators; for example [1, 0, 1, ...]\n",
        "# where 1 indicates a correct classification and 0 an incorrect classification.\n",
        "\n",
        "token_results = []\n",
        "for i in range(len(review_scores)):\n",
        "    if review_scores[i] == real_scores[i]:\n",
        "        token_results.append(1)\n",
        "    else:\n",
        "        token_results.append(0)\n",
        "# print(token_results)\n",
        "\n",
        "token_accuracy = np.sum(token_results)/len(review_scores)\n",
        "\n",
        "print(\"Accuracy:\", token_accuracy)"
      ]
    },
    {
      "cell_type": "markdown",
      "metadata": {
        "id": "Twox0s_3eS0V"
      },
      "source": [
        "As the sentiment lexicon also has information about the **magnitude** of\n",
        "sentiment (e.g., *“excellent\"* has the same sentiment _polarity_ as *“good\"* but it has a higher magnitude), we can take a more fine-grained approach by adding up all\n",
        "sentiment scores, and deciding the polarity of the movie review using\n",
        "the sign of the weighted score $S_{weighted}$.\n",
        "\n",
        "$$S_{weighted}(w_1w_2...w_n) = \\sum_{i = 1}^{n}SLex\\big[w_i\\big]$$\n",
        "\n",
        "\n",
        "Make sure you define an appropriate threshold for this approach.\n",
        "\n",
        "#### (Q1.2) Now incorporate magnitude information and report the classification accuracy. Don't forget to use the threshold. (1pt)"
      ]
    },
    {
      "cell_type": "code",
      "execution_count": 8,
      "metadata": {
        "id": "qG3hUDnPtkhS"
      },
      "outputs": [],
      "source": [
        "def parse_lexicon(file_path):\n",
        "    lexicon = {}\n",
        "    with open(file_path, 'r') as f:\n",
        "        for line in f:\n",
        "            attributes = line.strip().split()\n",
        "            word = None\n",
        "            polarity = None\n",
        "            magnitude = None\n",
        "\n",
        "            for attr in attributes:\n",
        "                key, value = attr.split('=')\n",
        "                if key == \"word1\":\n",
        "                    word = value\n",
        "                elif key == \"priorpolarity\":\n",
        "                    polarity = value\n",
        "                elif key == \"type\":\n",
        "                    magnitude = value\n",
        "\n",
        "            if polarity == \"positive\" and magnitude == \"strongsubj\":\n",
        "                lexicon[word] = 3 #chosen arbitrarily\n",
        "            elif polarity == \"positive\" and magnitude == \"weaksubj\":\n",
        "                lexicon[word] = 1\n",
        "            elif polarity == \"neutral\":\n",
        "                lexicon[word] = 0\n",
        "            elif polarity == \"negative\" and magnitude == \"strongsubj\":\n",
        "                lexicon[word] = -3 #chosen arbitrarily\n",
        "            elif polarity == \"negative\" and magnitude == \"weaksubj\":\n",
        "                lexicon[word] = -1\n",
        "\n",
        "    return lexicon\n",
        "\n",
        "def compute_review_scores(json_file_path, lexicon):\n",
        "    with open(json_file_path, 'r') as f:\n",
        "        reviews = json.load(f)\n",
        "\n",
        "    review_scores = []\n",
        "    real_scores = []\n",
        "    mean_score = 0\n",
        "    for review in reviews:\n",
        "        score = 0\n",
        "        for sentence in review[\"content\"]:\n",
        "            for word, _ in sentence:\n",
        "                word = word.lower()\n",
        "                if word in lexicon:\n",
        "                    score += lexicon[word]\n",
        "\n",
        "        if score > 8:\n",
        "            binary_score = 1\n",
        "        elif score <= 8:\n",
        "            binary_score = -1\n",
        "        mean_score += score\n",
        "\n",
        "        review_scores.append(binary_score)\n",
        "        real_scores.append(1 if review[\"sentiment\"] == \"POS\" else -1)\n",
        "\n",
        "    # print((mean_score)/len(reviews))\n",
        "\n",
        "    return review_scores, real_scores\n",
        "\n",
        "\n",
        "lexicon = parse_lexicon(\"sent_lexicon\")\n",
        "review_scores, real_scores = compute_review_scores(\"reviews.json\", lexicon)"
      ]
    },
    {
      "cell_type": "code",
      "execution_count": 9,
      "metadata": {
        "colab": {
          "base_uri": "https://localhost:8080/"
        },
        "id": "9vVk7CvDpyka",
        "outputId": "6a963023-be87-4c90-c995-4453186ce763"
      },
      "outputs": [
        {
          "output_type": "stream",
          "name": "stdout",
          "text": [
            "Accuracy: 0.6925\n"
          ]
        }
      ],
      "source": [
        "magnitude_results = []\n",
        "for i in range(len(review_scores)):\n",
        "    if review_scores[i] == real_scores[i]:\n",
        "        magnitude_results.append(1)\n",
        "    else:\n",
        "        magnitude_results.append(0)\n",
        "# print(magnitude_results)\n",
        "\n",
        "magnitude_accuracy = np.sum(magnitude_results)/len(magnitude_results)\n",
        "print(\"Accuracy:\" , magnitude_accuracy)"
      ]
    },
    {
      "cell_type": "markdown",
      "metadata": {
        "id": "h9SHoGPfsAHV"
      },
      "source": [
        "#### (Q.1.3) Make a barplot of the two results (0.5pt)"
      ]
    },
    {
      "cell_type": "code",
      "execution_count": 10,
      "metadata": {
        "id": "8LgBcYcXsEk3",
        "outputId": "88c8e82d-7d8c-4c8f-8201-14b8a7ab956e",
        "colab": {
          "base_uri": "https://localhost:8080/",
          "height": 487
        }
      },
      "outputs": [
        {
          "output_type": "display_data",
          "data": {
            "text/plain": [
              "<Figure size 800x500 with 1 Axes>"
            ],
            "image/png": "[encoded data removed]"
          },
          "metadata": {}
        }
      ],
      "source": [
        "labels = ['Normal Magnitude', 'Adjusted Magnitude']\n",
        "values = [token_accuracy, magnitude_accuracy]\n",
        "\n",
        "plt.figure(figsize=(8, 5))\n",
        "plt.bar(labels, values, color = ['teal', 'orange'])\n",
        "plt.xlabel('Approaches')\n",
        "plt.ylabel('Accuracy')\n",
        "plt.title('Change with Magnitude')\n",
        "plt.show()"
      ]
    },
    {
      "cell_type": "markdown",
      "metadata": {
        "id": "sNhS8OCVxMHd"
      },
      "source": [
        "#### (Q1.4) A better threshold (1pt)\n",
        "Above we have defined a threshold to account for an inherent bias in the dataset: there are more positive than negative words per review.\n",
        "However, that threshold does not take into account *document length*. Explain why this is a problem and implement an alternative way to compute the threshold."
      ]
    },
    {
      "cell_type": "markdown",
      "metadata": {
        "id": "xo7gk1I-omLI"
      },
      "source": [
        "*Write your answer here.*"
      ]
    },
    {
      "cell_type": "code",
      "execution_count": 11,
      "metadata": {
        "id": "Dwt0B8h8aKjr",
        "outputId": "44f49a96-464f-418e-f259-f22105193cc6",
        "colab": {
          "base_uri": "https://localhost:8080/"
        }
      },
      "outputs": [
        {
          "output_type": "stream",
          "name": "stdout",
          "text": [
            "0.01841402592400109\n"
          ]
        }
      ],
      "source": [
        "# YOUR CODE HERE\n",
        "\n",
        "def parse_lexicon(file_path):\n",
        "    lexicon = {}\n",
        "    with open(file_path, 'r') as f:\n",
        "\n",
        "        for line in f:\n",
        "\n",
        "            attributes = line.strip().split()\n",
        "            word = None\n",
        "            polarity = None\n",
        "            magnitude = None\n",
        "\n",
        "            for attr in attributes:\n",
        "                key, value = attr.split('=')\n",
        "                if key == \"word1\":\n",
        "                    word = value\n",
        "                elif key == \"priorpolarity\":\n",
        "                    polarity = value\n",
        "                elif key == \"type\":\n",
        "                    magnitude = value\n",
        "\n",
        "            if polarity == \"positive\" and magnitude == \"strongsubj\":\n",
        "                lexicon[word] = 3 #chosen arbitrarily\n",
        "            elif polarity == \"positive\" and magnitude == \"weaksubj\":\n",
        "                lexicon[word] = 1\n",
        "            elif polarity == \"neutral\":\n",
        "                lexicon[word] = 0\n",
        "            elif polarity == \"negative\" and magnitude == \"strongsubj\":\n",
        "                lexicon[word] = -3 #chosen arbitrarily\n",
        "            elif polarity == \"negative\" and magnitude == \"weaksubj\":\n",
        "                lexicon[word] = -1\n",
        "\n",
        "    return lexicon\n",
        "\n",
        "def compute_review_scores(json_file_path, lexicon):\n",
        "    with open(json_file_path, 'r') as f:\n",
        "        reviews = json.load(f)\n",
        "\n",
        "    review_scores = []\n",
        "    real_scores = []\n",
        "    mean_score = 0\n",
        "    for review in reviews:\n",
        "        score = 0\n",
        "        sentence_count  = 0\n",
        "        word_count = 0\n",
        "        for sentence in review[\"content\"]:\n",
        "            sentence_count += 1\n",
        "            for word, _ in sentence:\n",
        "                word = word.lower()\n",
        "                word_count += 1\n",
        "                if word in lexicon:\n",
        "                    score += lexicon[word]\n",
        "\n",
        "        if word_count > 0:\n",
        "            norm_score = score / word_count\n",
        "\n",
        "        else: # if somehow there are no words in the review prevent division by zero\n",
        "            norm_score = score\n",
        "\n",
        "        if norm_score > 0.018:\n",
        "            binary_score = 1\n",
        "        else:\n",
        "            binary_score = -1\n",
        "        mean_score += norm_score\n",
        "        review_scores.append(binary_score)\n",
        "        real_scores.append(1 if review[\"sentiment\"] == \"POS\" else -1)\n",
        "\n",
        "    print(mean_score/len(reviews)) # this is how i get my threshold\n",
        "\n",
        "    return review_scores, real_scores\n",
        "\n",
        "lexicon = parse_lexicon(\"sent_lexicon\")\n",
        "\n",
        "review_scores, real_scores = compute_review_scores(\"reviews.json\", lexicon)\n",
        "\n",
        "accuracy = 0\n",
        "for i in range(len(review_scores)):\n",
        "    if review_scores[i] == real_scores[i]:\n",
        "        accuracy += 1\n",
        "accuracy = accuracy / len(review_scores)\n",
        "\n",
        "\n",
        "# print(review_scores)\n",
        "# print(real_scores)\n",
        "# print(accuracy)"
      ]
    },
    {
      "cell_type": "code",
      "execution_count": 12,
      "metadata": {
        "id": "FwYxnDxccsX0",
        "outputId": "f7d12f03-f148-48bf-dda4-77d97c7f4d21",
        "colab": {
          "base_uri": "https://localhost:8080/"
        }
      },
      "outputs": [
        {
          "output_type": "stream",
          "name": "stdout",
          "text": [
            "Accuracy: 0.695\n"
          ]
        }
      ],
      "source": [
        "count_results = []\n",
        "for i in range(len(review_scores)):\n",
        "    if review_scores[i] == real_scores[i]:\n",
        "        count_results.append(1)\n",
        "    else:\n",
        "        count_results.append(0)\n",
        "# print(count_results)\n",
        "\n",
        "count_accuracy = np.sum(count_results)/len(count_results)\n",
        "print(\"Accuracy:\" , count_accuracy)"
      ]
    },
    {
      "cell_type": "markdown",
      "metadata": {
        "id": "LibV4nR89BXb"
      },
      "source": [
        "# (2) Naive Bayes (9.5pts)"
      ]
    },
    {
      "cell_type": "markdown",
      "metadata": {
        "id": "fnF9adQnuwia"
      },
      "source": [
        "\n",
        "Your second task is to program a simple Machine Learning approach that operates\n",
        "on a simple Bag-of-Words (BoW) representation of the text data, as\n",
        "described by Pang et al. (2002). In this approach, the only features we\n",
        "will consider are the words in the text themselves, without bringing in\n",
        "external sources of information. The BoW model is a popular way of\n",
        "representing texts as vectors, making it\n",
        "easy to apply classical Machine Learning algorithms on NLP tasks.\n",
        "However, the BoW representation is also very crude, since it discards\n",
        "all information related to word order and grammatical structure in the\n",
        "original text—as the name suggests.\n",
        "\n",
        "## Writing your own classifier (4pts)\n",
        "\n",
        "Write your own code to implement the Naive Bayes (NB) classifier. As\n",
        "a reminder, the Naive Bayes classifier works according to the following\n",
        "equation:\n",
        "$$\\hat{c} = \\operatorname*{arg\\,max}_{c \\in C} P(c|\\bar{f}) = \\operatorname*{arg\\,max}_{c \\in C} P(c)\\prod^n_{i=1} P(f_i|c)$$\n",
        "where $C = \\{ \\text{POS}, \\text{NEG} \\}$ is the set of possible classes,\n",
        "$\\hat{c} \\in C$ is the most probable class, and $\\bar{f}$ is the feature\n",
        "vector. Remember that we use the log of these probabilities when making\n",
        "a prediction:\n",
        "$$\\hat{c} = \\operatorname*{arg\\,max}_{c \\in C} \\Big\\{\\log P(c) + \\sum^n_{i=1} \\log P(f_i|c)\\Big\\}$$\n",
        "\n",
        "You can find more details about Naive Bayes in [Jurafsky &\n",
        "Martin](https://web.stanford.edu/~jurafsky/slp3/). You can also look at\n",
        "this helpful\n",
        "[pseudo-code](https://nlp.stanford.edu/IR-book/html/htmledition/naive-bayes-text-classification-1.html).\n",
        "\n",
        "*Note: this section and the next aim to put you in a position to replicate\n",
        "    Pang et al.'s Naive Bayes results. However, your numerical results\n",
        "    will differ from theirs, as they used different data.*\n",
        "\n",
        "**You must write the Naive Bayes training and prediction code from\n",
        "scratch.** You will not be given credit for using off-the-shelf Machine\n",
        "Learning libraries.\n",
        "\n",
        "The data contains the text of the reviews, where each document consists\n",
        "of the sentences in the review, the sentiment of the review and an index\n",
        "(cv) that you will later use for cross-validation. The\n",
        "text has already been tokenised and POS-tagged for you. Your algorithm\n",
        "should read in the text, **lowercase it**, store the words and their\n",
        "frequencies in an appropriate data structure that allows for easy\n",
        "computation of the probabilities used in the Naive Bayes algorithm, and\n",
        "then make predictions for new instances.\n"
      ]
    },
    {
      "cell_type": "markdown",
      "metadata": {
        "id": "vEpyQSBSkb33"
      },
      "source": [
        "#### (Q2.1) Unseen words (1pt)\n",
        "The presence of words in the test dataset that\n",
        "have not been seen during training can cause probabilities in the Naive Bayes classifier to equal $0$.\n",
        "These can be words which are unseen in both positive and negative training reviews (case 1), but also words which are seen in reviews _of only one sentiment class_ in the training dataset (case 2). In both cases, **you should skip these words for both classes at test time**.  What would be the problem instead with skipping words only for one class in case 2?"
      ]
    },
    {
      "cell_type": "markdown",
      "metadata": {
        "id": "BanFiYYnoxDW"
      },
      "source": [
        "When we skip words for only one class in case 2, the classifier becomes biased. Suppose the word \"xyz\" appears in the training set for class C1 but is absent from class C2's training set. By excluding this word only in class C2 during test-time calculations, we effectively penalize class C1. In Naive Bayes, probabilities are calculated by multiplying fractions, so removing a word from one class results in performing 1 less fraction multiplication, leading to larger overall probability for that class. This creates a bias in favor of class C2, regardless of how frequently \"xyz\" occurs in C1. This approach is counterintuitive, as observed words should increase the likelihood of a review belonging to their respective class, not reduce it."
      ]
    },
    {
      "cell_type": "markdown",
      "metadata": {
        "id": "gsZRhaI3WvzC"
      },
      "source": [
        "#### (Q2.2) Train your classifier on (positive and negative) reviews with cv-value 000-899, and test it on the remaining (positive and negative) reviews cv900–cv999.  Report results using classification accuracy as your evaluation metric. Your  features are the word vocabulary. The value of a feature is the count of that feature (word) in the document. (2pts)\n"
      ]
    },
    {
      "cell_type": "code",
      "execution_count": 13,
      "metadata": {
        "colab": {
          "base_uri": "https://localhost:8080/"
        },
        "id": "G7zaJYGFvIJ3",
        "outputId": "55c27e93-3ede-40f0-deb7-fcaced0e678c"
      },
      "outputs": [
        {
          "output_type": "stream",
          "name": "stdout",
          "text": [
            "Classification accuracy: 0.825\n"
          ]
        }
      ],
      "source": [
        "# Split data into train and test sets\n",
        "train_reviews = [r for r in reviews if 0 <= r[\"cv\"] <= 899]\n",
        "test_reviews = [r for r in reviews if 900 <= r[\"cv\"] <= 999]\n",
        "\n",
        "# Vocabulary and word counts by class\n",
        "vocab = Counter()\n",
        "class_word_counts = {\"POS\": Counter(), \"NEG\": Counter()}\n",
        "class_counts = {\"POS\": 0, \"NEG\": 0}\n",
        "\n",
        "# Build vocabulary and class word counts from training data\n",
        "for review in train_reviews:\n",
        "    sentiment = review[\"sentiment\"]\n",
        "    class_counts[sentiment] += 1\n",
        "    for sentence in review[\"content\"]:\n",
        "        for token, pos_tag in sentence:\n",
        "            word = token.lower()\n",
        "            vocab[word] += 1\n",
        "            class_word_counts[sentiment][word] += 1\n",
        "\n",
        "def calculate_piors(train_reviews, class_counts):\n",
        "  # Calculate prior probabilities\n",
        "  total_train_reviews = len(train_reviews)\n",
        "  priors = {\n",
        "      \"POS\": class_counts[\"POS\"] / total_train_reviews,\n",
        "      \"NEG\": class_counts[\"NEG\"] / total_train_reviews\n",
        "  }\n",
        "\n",
        "  return priors\n",
        "\n",
        "# Function to calculate log-probabilities (skipping unseen words)\n",
        "def calculate_log_prob(review, sentiment, priors):\n",
        "    log_prob = math.log(priors[sentiment])\n",
        "    total_words_in_class = sum(class_word_counts[sentiment].values())\n",
        "\n",
        "    for sentence in review[\"content\"]:\n",
        "        for token, pos_tag in sentence:\n",
        "            word = token.lower()\n",
        "            # Ignore words unseen in the training set for either class\n",
        "            if word in class_word_counts[\"POS\"] and word in class_word_counts[\"NEG\"]:\n",
        "                word_count = class_word_counts[sentiment].get(word, 0)\n",
        "                log_prob += math.log(word_count / total_words_in_class)\n",
        "\n",
        "    return log_prob\n",
        "\n",
        "# Predict on test set and calculate accuracy\n",
        "correct_predictions = 0\n",
        "\n",
        "# Calculate prior probabilities\n",
        "priors = calculate_piors(train_reviews, class_counts)\n",
        "\n",
        "for review in test_reviews:\n",
        "    pos_log_prob = calculate_log_prob(review, \"POS\", priors)\n",
        "    neg_log_prob = calculate_log_prob(review, \"NEG\", priors)\n",
        "\n",
        "    predicted_sentiment = \"POS\" if pos_log_prob > neg_log_prob else \"NEG\"\n",
        "\n",
        "    if predicted_sentiment == review[\"sentiment\"]:\n",
        "        correct_predictions += 1\n",
        "\n",
        "accuracy = correct_predictions / len(test_reviews)\n",
        "print(\"Classification accuracy:\", accuracy)\n"
      ]
    },
    {
      "cell_type": "markdown",
      "metadata": {
        "id": "0INK-PBoM6CB"
      },
      "source": [
        "#### (Q2.3) Would you consider accuracy to also be a good way to evaluate your classifier in a situation where 90% of your data instances are of positive movie reviews? (1pt)\n",
        "\n",
        "Simulate this scenario by keeping the positive reviews\n",
        "data unchanged, but only using negative reviews cv000–cv089 for\n",
        "training, and cv900–cv909 for testing. Calculate the classification\n",
        "accuracy, and explain what changed."
      ]
    },
    {
      "cell_type": "markdown",
      "metadata": {
        "id": "oFbcsYlipBAw"
      },
      "source": [
        "No, using accuracy to evaluate the classifier in such situation would not be a good approach. It usually is not a good approach in cases with big class imbalance, as the classifier could learn to predict only the majority class. If the test set was imbalanced as well, then using a classifier which predicts only the positive class would lead to 90% accuracy.\n",
        "\n",
        "This usually will not be the exact case for Naive Bayes classifier. The classifier will most likely be biased towards one of the classes, but not neccessarily towards the majority class. On one hand, the prior becomes much stronger for the majority class. On the other hand, the lower total word counts in the denominator will lead to higher likelihoods of the words in the minority class.\n",
        "\n",
        "We can see that the accuracy drops from 82.5% to 60% when using the imbalanced dataset. We can also notice that the classifier is biased towards the minority class by examining precision, recall and f1 scores.\n"
      ]
    },
    {
      "cell_type": "code",
      "execution_count": 14,
      "metadata": {
        "colab": {
          "base_uri": "https://localhost:8080/"
        },
        "id": "wL2Su5AoXOF9",
        "outputId": "f79ca548-654c-4255-f33d-63f035f30c27"
      },
      "outputs": [
        {
          "output_type": "stream",
          "name": "stdout",
          "text": [
            "Classification accuracy: 0.6\n",
            "POS - Precision: 0.9828, Recall: 0.5700, F1 Score: 0.7215\n",
            "NEG - Precision: 0.1731, Recall: 0.9000, F1 Score: 0.2903\n",
            "Macro-averaged F1 Score: 0.5059\n"
          ]
        }
      ],
      "source": [
        "# Split data into train and test sets\n",
        "train_reviews_biased = [r for r in reviews if ((0 <= r[\"cv\"] <= 89) or ((90 <= r[\"cv\"] <= 899) and r['sentiment'] == 'POS'))]\n",
        "test_reviews_biased = [r for r in reviews if ((900 <= r[\"cv\"] <= 909) or ((900 <= r[\"cv\"] <= 999) and r['sentiment'] == 'POS'))]\n",
        "\n",
        "# Vocabulary and word counts by class\n",
        "vocab_biased = Counter()\n",
        "class_word_counts_biased = {\"POS\": Counter(), \"NEG\": Counter()}\n",
        "class_counts_biased = {\"POS\": 0, \"NEG\": 0}\n",
        "\n",
        "# Build vocabulary and class word counts from training data\n",
        "for review in train_reviews_biased:\n",
        "    sentiment = review[\"sentiment\"]\n",
        "    class_counts_biased[sentiment] += 1\n",
        "    for sentence in review[\"content\"]:\n",
        "        for token, pos_tag in sentence:\n",
        "            word = token.lower()\n",
        "            vocab_biased[word] += 1\n",
        "            class_word_counts_biased[sentiment][word] += 1\n",
        "\n",
        "# Calculate prior probabilities\n",
        "total_train_reviews = len(train_reviews_biased)\n",
        "priors = {\n",
        "    \"POS\": class_counts_biased[\"POS\"] / total_train_reviews,\n",
        "    \"NEG\": class_counts_biased[\"NEG\"] / total_train_reviews\n",
        "}\n",
        "\n",
        "# Function to calculate log-probabilities (skipping unseen words)\n",
        "def calculate_log_prob(review, sentiment):\n",
        "    log_prob = math.log(priors[sentiment])\n",
        "    total_words_in_class = sum(class_word_counts_biased[sentiment].values())\n",
        "\n",
        "    for sentence in review[\"content\"]:\n",
        "        for token, pos_tag in sentence:\n",
        "            word = token.lower()\n",
        "            # Ignore words unseen in the training set for either class\n",
        "            if word in class_word_counts_biased[\"POS\"] and word in class_word_counts_biased[\"NEG\"]:\n",
        "                word_count = class_word_counts_biased[sentiment].get(word, 0)\n",
        "                log_prob += math.log(word_count / total_words_in_class)\n",
        "\n",
        "    return log_prob\n",
        "\n",
        "# Predict on test set and calculate accuracy, precision, recall, and F1 score\n",
        "correct_predictions = 0\n",
        "tp = {\"POS\": 0, \"NEG\": 0}  # True positives for each class\n",
        "fp = {\"POS\": 0, \"NEG\": 0}  # False positives for each class\n",
        "fn = {\"POS\": 0, \"NEG\": 0}  # False negatives for each class\n",
        "\n",
        "for review in test_reviews_biased:\n",
        "    pos_log_prob = calculate_log_prob(review, \"POS\")\n",
        "    neg_log_prob = calculate_log_prob(review, \"NEG\")\n",
        "\n",
        "    predicted_sentiment = \"POS\" if pos_log_prob > neg_log_prob else \"NEG\"\n",
        "    actual_sentiment = review[\"sentiment\"]\n",
        "\n",
        "    if predicted_sentiment == actual_sentiment:\n",
        "        correct_predictions += 1\n",
        "        tp[actual_sentiment] += 1\n",
        "    else:\n",
        "        fp[predicted_sentiment] += 1\n",
        "        fn[actual_sentiment] += 1\n",
        "\n",
        "accuracy = correct_predictions / len(test_reviews_biased)\n",
        "print(\"Classification accuracy:\", accuracy)\n",
        "\n",
        "# Calculate precision, recall, and F1 score for each class\n",
        "for sentiment in [\"POS\", \"NEG\"]:\n",
        "    precision = tp[sentiment] / (tp[sentiment] + fp[sentiment]) if (tp[sentiment] + fp[sentiment]) > 0 else 0\n",
        "    recall = tp[sentiment] / (tp[sentiment] + fn[sentiment]) if (tp[sentiment] + fn[sentiment]) > 0 else 0\n",
        "    f1_score = (2 * precision * recall) / (precision + recall) if (precision + recall) > 0 else 0\n",
        "\n",
        "    print(f\"{sentiment} - Precision: {precision:.4f}, Recall: {recall:.4f}, F1 Score: {f1_score:.4f}\")\n",
        "\n",
        "# Calculate the macro-averaged F1 score\n",
        "macro_f1_score = sum((2 * (tp[s] / (tp[s] + fp[s])) * (tp[s] / (tp[s] + fn[s]))) / ((tp[s] / (tp[s] + fp[s])) + (tp[s] / (tp[s] + fn[s]))) if ((tp[s] / (tp[s] + fp[s])) + (tp[s] / (tp[s] + fn[s]))) > 0 else 0 for s in [\"POS\", \"NEG\"]) / 2\n",
        "print(f\"Macro-averaged F1 Score: {macro_f1_score:.4f}\")\n"
      ]
    },
    {
      "cell_type": "code",
      "execution_count": 15,
      "metadata": {
        "colab": {
          "base_uri": "https://localhost:8080/"
        },
        "id": "3bH79LXVhztx",
        "outputId": "d7bae963-e1d5-4185-8bd1-6fc380c374ad"
      },
      "outputs": [
        {
          "output_type": "stream",
          "name": "stdout",
          "text": [
            "{'POS': 57, 'NEG': 9}\n",
            "{'POS': 1, 'NEG': 43}\n"
          ]
        }
      ],
      "source": [
        "print(tp)\n",
        "print(fp)"
      ]
    },
    {
      "cell_type": "code",
      "execution_count": 16,
      "metadata": {
        "colab": {
          "base_uri": "https://localhost:8080/"
        },
        "id": "jnNukhJfccoG",
        "outputId": "03c6baa0-ad5e-48d7-bd2e-ace8e5114d19"
      },
      "outputs": [
        {
          "output_type": "stream",
          "name": "stdout",
          "text": [
            "{'POS': 0.9090909090909091, 'NEG': 0.09090909090909091}\n"
          ]
        }
      ],
      "source": [
        "print(priors)"
      ]
    },
    {
      "cell_type": "markdown",
      "metadata": {
        "id": "6wJzcHX3WUDm"
      },
      "source": [
        "## Smoothing (1pt)\n",
        "\n",
        "As mentioned above, the presence of words in the test dataset that\n",
        "have not been seen during training can cause probabilities in the Naive\n",
        "Bayes classifier to be $0$, thus making that particular test instance\n",
        "undecidable. The standard way to mitigate this effect (as well as to\n",
        "give more clout to rare words) is to use smoothing, in which the\n",
        "probability fraction\n",
        "$$\\frac{\\text{count}(w_i, c)}{\\sum\\limits_{w\\in V} \\text{count}(w, c)}$$ for a word\n",
        "$w_i$ becomes\n",
        "$$\\frac{\\text{count}(w_i, c) + \\text{smoothing}(w_i)}{\\sum\\limits_{w\\in V} \\text{count}(w, c) + \\sum\\limits_{w \\in V} \\text{smoothing}(w)}$$\n",
        "\n",
        "\n",
        "\n"
      ]
    },
    {
      "cell_type": "markdown",
      "metadata": {
        "id": "PBNIcbwUWphC"
      },
      "source": [
        "#### (Q2.4) Implement Laplace feature smoothing (1pt)\n",
        "Implement Laplace smoothing, i.e., smoothing with a constant value ($smoothing(w) = \\kappa, \\forall w \\in V$), in your Naive\n",
        "Bayes classifier’s code, and report the accuracy.\n",
        "Use $\\kappa = 1$."
      ]
    },
    {
      "cell_type": "code",
      "execution_count": 17,
      "metadata": {
        "colab": {
          "base_uri": "https://localhost:8080/"
        },
        "id": "g03yflCc9kpW",
        "outputId": "58f717da-df31-467d-cd10-eb109e99f495"
      },
      "outputs": [
        {
          "output_type": "stream",
          "name": "stdout",
          "text": [
            "Classification accuracy: 0.825\n"
          ]
        }
      ],
      "source": [
        "# Function to calculate log-probabilities (Laplace smoothing)\n",
        "def calculate_log_prob_Laplace(review, sentiment, priors, stemmer = None):\n",
        "    log_prob = math.log(priors[sentiment])\n",
        "    total_words_in_class = sum(class_word_counts[sentiment].values())\n",
        "\n",
        "    for sentence in review[\"content\"]:\n",
        "        for token, pos_tag in sentence:\n",
        "            word = token.lower()\n",
        "            if stemmer is not None:\n",
        "                word = stemmer.stem(word)\n",
        "            # Laplace smoothing k = 1\n",
        "            word_count = class_word_counts[sentiment].get(word, 0) + 1\n",
        "            log_prob += math.log(word_count / (total_words_in_class + len(vocab)))\n",
        "\n",
        "    return log_prob\n",
        "\n",
        "def test_Laplace(test_reviews, priors, stemmer = None):\n",
        "  # Predict on test set and calculate accuracy\n",
        "  correct_predictions = 0\n",
        "\n",
        "  for review in test_reviews:\n",
        "      pos_log_prob = calculate_log_prob_Laplace(review, \"POS\", priors, stemmer)\n",
        "      neg_log_prob = calculate_log_prob_Laplace(review, \"NEG\", priors, stemmer)\n",
        "\n",
        "      predicted_sentiment = \"POS\" if pos_log_prob > neg_log_prob else \"NEG\"\n",
        "\n",
        "      if predicted_sentiment == review[\"sentiment\"]:\n",
        "          correct_predictions += 1\n",
        "\n",
        "  accuracy = correct_predictions / len(test_reviews)\n",
        "\n",
        "  return accuracy\n",
        "\n",
        "# Report the accuracy\n",
        "print(\"Classification accuracy:\", test_Laplace(test_reviews, priors))\n"
      ]
    },
    {
      "cell_type": "markdown",
      "metadata": {
        "id": "ZiGcgwba87D5"
      },
      "source": [
        "## Cross-Validation (1.5pts)\n",
        "\n",
        "A serious danger in using Machine Learning on small datasets, with many\n",
        "iterations of slightly different versions of the algorithms, is ending up with Type III errors, also called the “testing hypotheses\n",
        "suggested by the data” errors. This type of error occurs when we make\n",
        "repeated improvements to our classifiers by playing with features and\n",
        "their processing, but we don’t get a fresh, never-before seen test\n",
        "dataset every time. Thus, we risk developing a classifier that gets better\n",
        "and better on our data, but only gets worse at generalizing to new, unseen data. In other words, we risk developping a classifier that overfits.\n",
        "\n",
        "A simple method to guard against Type III errors is to use\n",
        "Cross-Validation. In **N-fold Cross-Validation**, we divide the data into N\n",
        "distinct chunks, or folds. Then, we repeat the experiment N times: each\n",
        "time holding out one of the folds for testing, training our classifier\n",
        "on the remaining N - 1 data folds, and reporting performance on the\n",
        "held-out fold. We can use different strategies for dividing the data:\n",
        "\n",
        "-   Consecutive splitting:\n",
        "  - cv000–cv099 = Split 1\n",
        "  - cv100–cv199 = Split 2\n",
        "  - etc.\n",
        "  \n",
        "-   Round-robin splitting (mod 10):\n",
        "  - cv000, cv010, cv020, … = Split 1\n",
        "  - cv001, cv011, cv021, … = Split 2\n",
        "  - etc.\n",
        "\n",
        "-   Random sampling/splitting\n",
        "  - Not used here (but you may choose to split this way in a non-educational situation)\n",
        "\n"
      ]
    },
    {
      "cell_type": "markdown",
      "metadata": {
        "id": "8OeLcbSauGtR"
      },
      "source": [
        "#### (Q2.5) Write the code to implement 10-fold cross-validation using round-robin splitting for your Naive Bayes classifier from Q2.4 and compute the 10 accuracies. Report the final performance, which is the average of the performances per fold. If all splits perform equally well, this is a good sign. (1pt)"
      ]
    },
    {
      "cell_type": "code",
      "execution_count": 18,
      "metadata": {
        "id": "WMVhukbqykB9"
      },
      "outputs": [],
      "source": [
        "def build_vocab(train_reviews, stemmer = None):\n",
        "\n",
        "  # Vocabulary and word counts by class for training data\n",
        "  vocab = Counter()\n",
        "  class_word_counts = {\"POS\": Counter(), \"NEG\": Counter()}\n",
        "  class_counts = {\"POS\": 0, \"NEG\": 0}\n",
        "\n",
        "  # Build vocabulary and class word counts from training data\n",
        "  for review in train_reviews:\n",
        "      sentiment = review[\"sentiment\"]\n",
        "      class_counts[sentiment] += 1\n",
        "      for sentence in review[\"content\"]:\n",
        "          for token, pos_tag in sentence:\n",
        "              word = token.lower()\n",
        "              if stemmer is not None:\n",
        "                word = stemmer.stem(word)\n",
        "              vocab[word] += 1\n",
        "              class_word_counts[sentiment][word] += 1\n",
        "  return vocab, class_word_counts, class_counts"
      ]
    },
    {
      "cell_type": "code",
      "execution_count": 19,
      "metadata": {
        "colab": {
          "base_uri": "https://localhost:8080/"
        },
        "id": "3KeCGPa7Nuzx",
        "outputId": "37a1425f-397d-4eef-c490-e238625a2039"
      },
      "outputs": [
        {
          "output_type": "stream",
          "name": "stdout",
          "text": [
            "Fold 0 accuracy: 0.9550\n",
            "Fold 1 accuracy: 0.9600\n",
            "Fold 2 accuracy: 0.9350\n",
            "Fold 3 accuracy: 0.9650\n",
            "Fold 4 accuracy: 0.9650\n",
            "Fold 5 accuracy: 0.9750\n",
            "Fold 6 accuracy: 0.9700\n",
            "Fold 7 accuracy: 0.9400\n",
            "Fold 8 accuracy: 0.9700\n",
            "Fold 9 accuracy: 0.9600\n",
            "Average accuracy across 10 folds: 0.9595\n"
          ]
        }
      ],
      "source": [
        "# The function for 10-fold cross-validation with round-robin splitting\n",
        "def round_robin_cv(reviews, stemmer = None):\n",
        "    accuracies = []\n",
        "\n",
        "    # Loop over each fold from 0 to 9\n",
        "    for fold in range(10):\n",
        "        # Split the dataset into training and testing based on round-robin rule\n",
        "        train_reviews = [r for r in reviews if r[\"cv\"] % 10 != fold]\n",
        "        test_reviews = [r for r in reviews if r[\"cv\"] % 10 == fold]\n",
        "\n",
        "        vocab, class_word_counts, class_counts = build_vocab(train_reviews)\n",
        "\n",
        "        # Calculate prior probabilities\n",
        "        priors = calculate_piors(train_reviews, class_counts)\n",
        "\n",
        "        # Calculate accuracy\n",
        "        accuracy = test_Laplace(test_reviews, priors, stemmer)\n",
        "        accuracies.append(accuracy)\n",
        "        print(f\"Fold {fold} accuracy: {accuracy:.4f}\")\n",
        "\n",
        "    # Calculate and report final accuracy\n",
        "    average_accuracy = sum(accuracies) / len(accuracies)\n",
        "    print(f\"Average accuracy across 10 folds: {average_accuracy:.4f}\")\n",
        "    return average_accuracy, accuracies\n",
        "\n",
        "# Perform CV for the reviews dataset\n",
        "average_accuracy, accuracies = round_robin_cv(reviews)\n"
      ]
    },
    {
      "cell_type": "markdown",
      "metadata": {
        "id": "otdlsDXBNyOa"
      },
      "source": [
        "#### (Q2.6) Report the variance of the 10 accuracy scores. (0.5pt)\n",
        "\n",
        "**Please report all future results using 10-fold cross-validation now\n",
        "(unless told to use the held-out test set).** Note: you're not allowed to use a library for computing the variance."
      ]
    },
    {
      "cell_type": "code",
      "execution_count": 20,
      "metadata": {
        "colab": {
          "base_uri": "https://localhost:8080/"
        },
        "id": "ZoBQm1KuNzNR",
        "outputId": "f4348b91-9ea4-4e3f-8604-05c912163b45"
      },
      "outputs": [
        {
          "output_type": "stream",
          "name": "stdout",
          "text": [
            "Variance of the 10 accuracy scores: 0.00015224999999999972\n"
          ]
        }
      ],
      "source": [
        "# Calculate variance using previously found average accuracy and list of all accuracies\n",
        "variance = sum((accuracy - average_accuracy) ** 2 for accuracy in accuracies) / len(accuracies)\n",
        "\n",
        "print(\"Variance of the 10 accuracy scores:\", variance)\n"
      ]
    },
    {
      "cell_type": "markdown",
      "metadata": {
        "id": "s6A2zX9_BRKm"
      },
      "source": [
        "## Features, overfitting, and the curse of dimensionality\n",
        "\n",
        "In the Bag-of-Words model, ideally we would like each distinct word in\n",
        "the text to be mapped to its own dimension in the output vector\n",
        "representation. However, real world text is messy, and we need to decide\n",
        "on what we consider to be a word. For example, is “`word`\" different\n",
        "from “`Word`\", from “`word`”, or from “`words`\"? Too strict a\n",
        "definition, and the number of features explodes, while our algorithm\n",
        "fails to learn anything generalisable. Too lax, and we risk destroying\n",
        "our learning signal. In the following section, you will learn about\n",
        "confronting the feature sparsity and the overfitting problems as they\n",
        "occur in NLP classification tasks."
      ]
    },
    {
      "cell_type": "markdown",
      "metadata": {
        "id": "EKK8FNt8VtcZ"
      },
      "source": [
        "### Stemming (1.5pts)\n",
        "\n",
        "To make your algorithm more robust, use stemming and hash different inflections of a word to the same feature in the BoW vector space. Please use the [Porter stemming\n",
        "    algorithm](http://www.nltk.org/howto/stem.html) from NLTK.\n",
        "\n"
      ]
    },
    {
      "cell_type": "code",
      "execution_count": 21,
      "metadata": {
        "colab": {
          "base_uri": "https://localhost:8080/"
        },
        "id": "NxtCul1IrBi_",
        "outputId": "89a10f9f-64e9-4656-fb2f-391147c118bd"
      },
      "outputs": [
        {
          "output_type": "stream",
          "name": "stdout",
          "text": [
            "Already included the possibility of using the stemmer in previously defined helper functions.\n"
          ]
        }
      ],
      "source": [
        "print('Already included the possibility of using the stemmer in previously defined helper functions.')"
      ]
    },
    {
      "cell_type": "markdown",
      "metadata": {
        "id": "6SrJ1BeLXTnk"
      },
      "source": [
        "#### (Q2.7): How does the performance of your classifier change when you use stemming on your training and test datasets? (1pt)\n",
        "Use cross-validation to evaluate the classifier.\n"
      ]
    },
    {
      "cell_type": "code",
      "execution_count": 22,
      "metadata": {
        "colab": {
          "base_uri": "https://localhost:8080/"
        },
        "id": "gYqKBOiIrInT",
        "outputId": "8234f063-c171-4a70-ffae-fdc81cfa2fa4"
      },
      "outputs": [
        {
          "output_type": "stream",
          "name": "stdout",
          "text": [
            "Fold 0 accuracy: 0.8550\n",
            "Fold 1 accuracy: 0.8900\n",
            "Fold 2 accuracy: 0.8650\n",
            "Fold 3 accuracy: 0.9100\n",
            "Fold 4 accuracy: 0.8700\n",
            "Fold 5 accuracy: 0.9100\n",
            "Fold 6 accuracy: 0.9000\n",
            "Fold 7 accuracy: 0.8950\n",
            "Fold 8 accuracy: 0.9050\n",
            "Fold 9 accuracy: 0.8700\n",
            "Average accuracy across 10 folds: 0.8870\n"
          ]
        }
      ],
      "source": [
        "# Perform CV for the reviews dataset using Porter stemmer\n",
        "average_accuracy, accuracies = round_robin_cv(reviews, stemmer = PorterStemmer())"
      ]
    },
    {
      "cell_type": "markdown",
      "metadata": {
        "id": "BWovxWThMmkY"
      },
      "source": [
        "Surprisingly, the average accuracy drops when using stemming."
      ]
    },
    {
      "cell_type": "markdown",
      "metadata": {
        "id": "JkDHVq_1XUVP"
      },
      "source": [
        "#### (Q2.8) What happens to the number of features (i.e., the size of the vocabulary) when using stemming as opposed to (Q2.4)? (0.5pt)\n",
        "Give actual numbers. You can use the held-out training set to determine these."
      ]
    },
    {
      "cell_type": "code",
      "execution_count": 23,
      "metadata": {
        "colab": {
          "base_uri": "https://localhost:8080/"
        },
        "id": "MA3vee5-rJyy",
        "outputId": "9c7325cd-5903-4fc3-d35e-6577aace3902"
      },
      "outputs": [
        {
          "output_type": "stream",
          "name": "stdout",
          "text": [
            "Amount of training samples: 1800\n",
            "Size of the vocabulary when not using stemming: 45348\n",
            "Size of the vocabulary when using Porter stemming: 32404\n"
          ]
        }
      ],
      "source": [
        "print(f'Amount of training samples: {len(train_reviews)}')\n",
        "\n",
        "vocab_no_stemmer,_,_ = build_vocab(train_reviews, stemmer = None)\n",
        "print(f'Size of the vocabulary when not using stemming: {len(vocab_no_stemmer)}')\n",
        "\n",
        "vocab_porter,_,_ = build_vocab(train_reviews, stemmer = PorterStemmer())\n",
        "print(f'Size of the vocabulary when using Porter stemming: {len(vocab_porter)}')"
      ]
    },
    {
      "cell_type": "markdown",
      "metadata": {
        "id": "ZAywRohq4g-q"
      },
      "source": [
        "The vocabulary size significantly decreases when using stemming."
      ]
    },
    {
      "cell_type": "markdown",
      "metadata": {
        "id": "SoazfxbNV5Lq"
      },
      "source": [
        "### N-grams (1.5pts)\n",
        "\n",
        "A simple way of retaining some of the word\n",
        "order information when using bag-of-words representations is to use **n-gram** features.\n",
        "\n",
        "\n",
        "\n",
        "\n"
      ]
    },
    {
      "cell_type": "markdown",
      "metadata": {
        "id": "OHjy3I7-qWiu"
      },
      "source": [
        "#### (Q2.9) Retrain your classifier from (Q2.4) using **unigrams+bigrams** and **unigrams+bigrams+trigrams** as features. (1pt)\n",
        "Report accuracy and compare it with that of the approaches you have previously implemented. You are allowed to use NLTK to build n-grams from sentences."
      ]
    },
    {
      "cell_type": "code",
      "execution_count": 24,
      "metadata": {
        "id": "mrN3BMTh9PNs"
      },
      "outputs": [],
      "source": [
        "# Define function to create n-grams from sentences\n",
        "def create_ngrams(tokens, n):\n",
        "    return [' '.join(gram) for gram in ngrams(tokens, n)]\n",
        "\n",
        "def build_vocab_ngram(train_reviews, stemmer = None, ngram_values = [1]):\n",
        "\n",
        "  # Vocabulary and word counts by class for training data\n",
        "  vocab = Counter()\n",
        "  class_word_counts = {\"POS\": Counter(), \"NEG\": Counter()}\n",
        "  class_counts = {\"POS\": 0, \"NEG\": 0}\n",
        "\n",
        "  # Build vocabulary and class word counts from training data\n",
        "  for review in train_reviews:\n",
        "      sentiment = review[\"sentiment\"]\n",
        "      class_counts[sentiment] += 1\n",
        "      for sentence in review[\"content\"]:\n",
        "          # Tokenize the sentence\n",
        "          tokens = [token.lower() for token, pos_tag in sentence]\n",
        "          if stemmer is not None:\n",
        "              tokens = [stemmer.stem(token) for token in tokens]\n",
        "          # Create n-grams based on the specified values\n",
        "          for n in ngram_values:\n",
        "              n_grams = create_ngrams(tokens, n)\n",
        "              for n_gram in n_grams:\n",
        "                  vocab[n_gram] += 1\n",
        "                  class_word_counts[sentiment][n_gram] += 1\n",
        "\n",
        "  return vocab, class_word_counts, class_counts"
      ]
    },
    {
      "cell_type": "code",
      "execution_count": null,
      "metadata": {
        "colab": {
          "base_uri": "https://localhost:8080/"
        },
        "id": "ZYj-m17KQw7M",
        "outputId": "2e1dc0ee-1a1e-4051-a5de-2559c9fe5ed3"
      },
      "outputs": [
        {
          "output_type": "stream",
          "name": "stdout",
          "text": [
            "Using unigrams and bigrams\n",
            "Fold 0 accuracy: 0.8000\n",
            "Fold 1 accuracy: 0.8650\n",
            "Fold 2 accuracy: 0.8350\n",
            "Fold 3 accuracy: 0.8700\n",
            "Fold 4 accuracy: 0.8150\n",
            "Fold 5 accuracy: 0.8750\n",
            "Fold 6 accuracy: 0.8250\n",
            "Fold 7 accuracy: 0.8400\n",
            "Fold 8 accuracy: 0.8650\n",
            "Fold 9 accuracy: 0.8450\n",
            "Average accuracy across 10 folds: 0.8435\n",
            "\n",
            "\n",
            "------------------------------\n",
            "\n",
            "\n",
            "Using unigrams, bigrams and trigrams\n",
            "Fold 0 accuracy: 0.8000\n",
            "Fold 1 accuracy: 0.8700\n",
            "Fold 2 accuracy: 0.8500\n",
            "Fold 3 accuracy: 0.8800\n",
            "Fold 4 accuracy: 0.8100\n",
            "Fold 5 accuracy: 0.9000\n"
          ]
        }
      ],
      "source": [
        "# Define function for 10-fold cross-validation with round-robin splitting\n",
        "def round_robin_cv_ngram(reviews, stemmer=None, ngram_values=[1]):\n",
        "    accuracies = []\n",
        "\n",
        "    for fold in range(10):\n",
        "        train_reviews = [r for r in reviews if r[\"cv\"] % 10 != fold]\n",
        "        test_reviews = [r for r in reviews if r[\"cv\"] % 10 == fold]\n",
        "\n",
        "        # Use the new function to build the vocabulary and class counts\n",
        "        vocab, class_word_counts, class_counts = build_vocab_ngram(train_reviews, stemmer, ngram_values)\n",
        "\n",
        "        # Calculate prior probabilities\n",
        "        total_train_reviews = len(train_reviews)\n",
        "        priors = {\n",
        "            \"POS\": class_counts[\"POS\"] / total_train_reviews,\n",
        "            \"NEG\": class_counts[\"NEG\"] / total_train_reviews\n",
        "        }\n",
        "\n",
        "        # Function to calculate log-probabilities with Laplace smoothing\n",
        "        def calculate_log_prob(review, sentiment):\n",
        "            log_prob = math.log(priors[sentiment])\n",
        "            total_words_in_class = sum(class_word_counts[sentiment].values())\n",
        "\n",
        "            for sentence in review[\"content\"]:\n",
        "                tokens = [token.lower() for token, pos_tag in sentence]\n",
        "                for n in ngram_values:\n",
        "                    n_grams = create_ngrams(tokens, n)\n",
        "                    for n_gram in n_grams:\n",
        "                        word_count = class_word_counts[sentiment].get(n_gram, 0) + 1\n",
        "                        log_prob += math.log(word_count / (total_words_in_class + len(vocab)))\n",
        "\n",
        "            return log_prob\n",
        "\n",
        "        # Predict on test set and calculate accuracy\n",
        "        correct_predictions = 0\n",
        "\n",
        "        for review in test_reviews:\n",
        "            pos_log_prob = calculate_log_prob(review, \"POS\")\n",
        "            neg_log_prob = calculate_log_prob(review, \"NEG\")\n",
        "\n",
        "            predicted_sentiment = \"POS\" if pos_log_prob > neg_log_prob else \"NEG\"\n",
        "            if predicted_sentiment == review[\"sentiment\"]:\n",
        "                correct_predictions += 1\n",
        "\n",
        "        accuracy = correct_predictions / len(test_reviews)\n",
        "        accuracies.append(accuracy)\n",
        "        print(f\"Fold {fold} accuracy: {accuracy:.4f}\")\n",
        "\n",
        "    final_performance = sum(accuracies) / len(accuracies)\n",
        "    print(f\"Average accuracy across 10 folds: {final_performance:.4f}\")\n",
        "\n",
        "# Perform CV for the reviews dataset using 1,2-grams\n",
        "print('Using unigrams and bigrams')\n",
        "round_robin_cv_ngram(reviews, ngram_values=[1,2])\n",
        "\n",
        "# Perform CV for the reviews dataset using 1,2,3-grams\n",
        "print('\\n')\n",
        "print('-'*30)\n",
        "print('\\n')\n",
        "print('Using unigrams, bigrams and trigrams')\n",
        "round_robin_cv_ngram(reviews, ngram_values=[1,2,3])\n"
      ]
    },
    {
      "cell_type": "markdown",
      "metadata": {
        "id": "dVrGGArkrWoL"
      },
      "source": [
        "\n",
        "#### Q2.10: How many features does the BoW model have to take into account now? (0.5pt)\n",
        "How would you expect the number of features to increase theoretically (e.g., linear, square, cubed, exponential)? How do the number of features increase in the held-out training set (compared to Q2.8)?\n",
        "Do you expect this rate of increase to continue for (much) larger n-grams?\n",
        "\n",
        "Use the held-out training set once again for this.\n"
      ]
    },
    {
      "cell_type": "markdown",
      "metadata": {
        "id": "yEGZ9SV8pPaa"
      },
      "source": [
        "The number of features could in theory increase exponentially. In reality, most of the potential n-grams do not occur in the observed sentences. Therefore the growth is much slower than the theoretical maximum growth.\n",
        "\n",
        " All calculations done on the 10th CV training set.\n",
        "When not using stemming:\n",
        " - the size of the unigram vocabulary is 45348.\n",
        " - the size of unigram+bigram vocabulary is 465262.\n",
        "  - $≈10$ times the size of the unigram vocab\n",
        " - the size of unigram+bigram+trigram vocabulary is 1346107\n",
        "  - $≈30$ times the size of the unigram vocab\n",
        "  - $≈3$ times the size of the unigram+bigram vocab\n",
        "\n",
        "As we can see, the rate of increase already diminishes when moving from bigrams to trigrams. We therefore expect that the rare of increase will continue to decrease for larger n-grams.\n",
        "\n"
      ]
    },
    {
      "cell_type": "code",
      "execution_count": null,
      "metadata": {
        "id": "_z8sAJeUrdtM"
      },
      "outputs": [],
      "source": [
        "print(f'Amount of training samples: {len(train_reviews)}')\n",
        "stemmer = PorterStemmer()\n",
        "\n",
        "vocab_no_stemmer,_,_ = build_vocab(train_reviews, stemmer = None)\n",
        "print(f'Size of the unigram vocabulary when not using stemming: {len(vocab_no_stemmer)}')\n",
        "\n",
        "vocab_porter,_,_ = build_vocab(train_reviews, stemmer)\n",
        "print(f'Size of the unigram vocabulary when using Porter stemming: {len(vocab_porter)}')\n",
        "\n",
        "two_gram_vocab_no_stemmer,_,_ = build_vocab_ngram(train_reviews, stemmer = None, ngram_values = [1,2])\n",
        "print(f'Size of the 1,2-gram vocabulary when not using stemming: {len(two_gram_vocab_no_stemmer)}')\n",
        "\n",
        "two_gram_vocab_porter,_,_ = build_vocab_ngram(train_reviews, stemmer, ngram_values = [1,2])\n",
        "print(f'Size of the 1,2-gram vocabulary when using Porter stemming: {len(two_gram_vocab_porter)}')\n",
        "\n",
        "three_gram_vocab_no_stemmer,_,_ = build_vocab_ngram(train_reviews, stemmer = None, ngram_values = [1,2,3])\n",
        "print(f'Size of the 1,2,3-gram vocabulary when not using stemming: {len(three_gram_vocab_no_stemmer)}')\n",
        "\n",
        "three_gram_vocab_porter,_,_ = build_vocab_ngram(train_reviews, stemmer, ngram_values = [1,2,3])\n",
        "print(f'Size of the 1,2,3-gram vocabulary when using Porter stemming: {len(three_gram_vocab_porter)}')"
      ]
    },
    {
      "cell_type": "code",
      "execution_count": null,
      "metadata": {
        "id": "EK2n94uOGRWn"
      },
      "outputs": [],
      "source": [
        "# Collecting the vocabulary sizes\n",
        "sizes = {\n",
        "    'Unigram': [len(vocab_no_stemmer), len(vocab_porter)],\n",
        "    '1,2-Gram': [len(two_gram_vocab_no_stemmer), len(two_gram_vocab_porter)],\n",
        "    '1,2,3-Gram': [len(three_gram_vocab_no_stemmer), len(three_gram_vocab_porter)],\n",
        "}\n",
        "\n",
        "# Setting the x-axis labels and bar width\n",
        "labels = list(sizes.keys())\n",
        "bar_width = 0.35\n",
        "\n",
        "# Create the figure and axis\n",
        "fig, ax = plt.subplots()\n",
        "\n",
        "# Setting positions for the bars\n",
        "x = range(len(labels))\n",
        "\n",
        "# Plotting the bars for each set of vocabulary sizes\n",
        "bars1 = ax.bar([i - bar_width/2 for i in x], [sizes[label][0] for label in labels],\n",
        "                width=bar_width, label='Without Stemming', color='lightblue')\n",
        "bars2 = ax.bar([i + bar_width/2 for i in x], [sizes[label][1] for label in labels],\n",
        "                width=bar_width, label='With Porter Stemming', color='salmon')\n",
        "\n",
        "# Adding labels and title\n",
        "ax.set_xlabel('N-Gram Type')\n",
        "ax.set_ylabel('Vocabulary Size')\n",
        "ax.set_title('Vocabulary Sizes with and without Stemming')\n",
        "ax.set_xticks(x)\n",
        "ax.set_xticklabels(labels)\n",
        "ax.legend()\n",
        "\n",
        "# Show the plot\n",
        "plt.tight_layout()\n",
        "plt.show()\n"
      ]
    },
    {
      "cell_type": "markdown",
      "metadata": {
        "id": "CHWKDL3YV6vh"
      },
      "source": [
        "# (3) Support Vector Machines (4pts)"
      ]
    },
    {
      "cell_type": "markdown",
      "metadata": {
        "id": "hJSYhcVaoJGt"
      },
      "source": [
        "Though simple to understand, implement, and debug, one\n",
        "major problem with the Naive Bayes classifier is that its performance\n",
        "deteriorates (becomes skewed) when it is being used with features which\n",
        "are not independent (i.e., are correlated). Another popular classifier\n",
        "that doesn’t scale as well to big data, and is not as simple to debug as\n",
        "Naive Bayes, but that doesn’t assume feature independence is the Support\n",
        "Vector Machine (SVM) classifier.\n",
        "\n",
        "You can find more details about SVMs in Chapter 7 of Bishop: Pattern Recognition and Machine Learning.\n",
        "Other sources for learning SVM:\n",
        "* http://web.mit.edu/zoya/www/SVM.pdf\n",
        "* http://www.cs.columbia.edu/~kathy/cs4701/documents/jason_svm_tutorial.pdf\n",
        "* https://pythonprogramming.net/support-vector-machine-intro-machine-learning-tutorial/\n",
        "\n",
        "\n",
        "\n",
        "\n",
        "\n",
        "\n",
        "\n",
        "Use the scikit-learn implementation of\n",
        "[SVM](http://scikit-learn.org/stable/modules/svm.html) with the default parameters. (You are not expected to perform any hyperparameter tuning, but feel free to do it if you think it gives you good insights for the discussion in question 5.)\n",
        "\n"
      ]
    },
    {
      "cell_type": "markdown",
      "metadata": {
        "id": "0LnzNtQBV8gr"
      },
      "source": [
        "#### (Q3.1): Train SVM and compare to Naive Bayes (2pts)\n",
        "\n",
        "Train an SVM classifier (sklearn.svm.LinearSVC) using the features collected for Naive Bayes. Compare the\n",
        "classification performance of the SVM classifier to that of the Naive\n",
        "Bayes classifier with smoothing.\n",
        "Use cross-validation to evaluate the performance of the classifiers.\n",
        "\n"
      ]
    },
    {
      "cell_type": "code",
      "execution_count": null,
      "metadata": {
        "id": "JBscui8Mvoz0"
      },
      "outputs": [],
      "source": [
        "from sklearn.feature_extraction.text import CountVectorizer\n",
        "\n",
        "X = [\" \".join([token for sentence in review[\"content\"] for token, pos_tag in sentence]) for review in reviews]\n",
        "y = [1 if review[\"sentiment\"] == \"POS\" else 0 for review in reviews]\n",
        "\n",
        "vectorizer = CountVectorizer(stop_words='english')\n",
        "X_vec = vectorizer.fit_transform(X)\n"
      ]
    },
    {
      "cell_type": "code",
      "execution_count": null,
      "metadata": {
        "id": "dHr_-6LhcsY1"
      },
      "outputs": [],
      "source": [
        "from sklearn.svm import LinearSVC\n",
        "from sklearn.model_selection import train_test_split\n",
        "from sklearn.metrics import classification_report\n",
        "\n",
        "# Split the data into training and testing sets\n",
        "X_train, X_test, y_train, y_test = train_test_split(X_vec, y, test_size=0.2, random_state=42)\n",
        "\n",
        "# Train the SVM classifier\n",
        "svm_clf = LinearSVC(max_iter=10000)\n",
        "svm_clf.fit(X_train, y_train)\n",
        "\n",
        "# Predict on the test set\n",
        "y_pred_svm = svm_clf.predict(X_test)\n",
        "\n",
        "# Evaluate performance\n",
        "print(\"SVM Classifier Performance:\")\n",
        "print(classification_report(y_test, y_pred_svm))"
      ]
    },
    {
      "cell_type": "code",
      "execution_count": null,
      "metadata": {
        "id": "RdsXeZ7ncsY5"
      },
      "outputs": [],
      "source": [
        "# Cross-validation to evaluate the performance of the SVM classifier\n",
        "svm_cv_scores = cross_val_score(svm_clf, X_vec, y, cv=5, scoring='accuracy')\n",
        "print(f\"SVM Classifier Cross-Validation Accuracy: {svm_cv_scores.mean():.4f} ± {svm_cv_scores.std():.4f}\")"
      ]
    },
    {
      "cell_type": "markdown",
      "metadata": {
        "id": "j9el9stucsY7"
      },
      "source": [
        "> Comapre to NAive Bayes"
      ]
    },
    {
      "cell_type": "markdown",
      "metadata": {
        "id": "ifXVWcK0V9qY"
      },
      "source": [
        "### POS disambiguation (2pts)\n",
        "\n",
        "Now add in part-of-speech features. You will find the\n",
        "movie review dataset has already been POS-tagged for you ([here](https://catalog.ldc.upenn.edu/docs/LDC99T42/tagguid1.pdf) you find the tagset). Try to\n",
        "replicate the results obtained by Pang et al. (2002).\n",
        "\n"
      ]
    },
    {
      "cell_type": "markdown",
      "metadata": {
        "id": "xA3I82o4oWGu"
      },
      "source": [
        "####(Q3.2) Replace your features with word+POS features, and report performance with the SVM. Use cross-validation to evaluate the classifier and compare the results with (Q3.1). Does part-of-speech information help? Explain why this may be the case. (1pt)\n"
      ]
    },
    {
      "cell_type": "code",
      "execution_count": null,
      "metadata": {
        "id": "NOvjYe-t2Br6"
      },
      "outputs": [],
      "source": [
        "X_pos = [\" \".join([f\"{token}/{pos_tag}\" for sentence in review[\"content\"] for token, pos_tag in sentence]) for review in reviews]\n",
        "y = [1 if review[\"sentiment\"] == \"POS\" else 0 for review in reviews]\n",
        "\n",
        "vectorizer = CountVectorizer(stop_words='english')\n",
        "X_vec_pos = vectorizer.fit_transform(X_pos)\n",
        "\n",
        "\n",
        "X_train, X_test, y_train, y_test = train_test_split(X_vec_pos, y, test_size=0.2, random_state=42)\n",
        "\n",
        "svm_clf_pos = LinearSVC(max_iter=10000)\n",
        "svm_clf_pos.fit(X_train, y_train)\n",
        "\n",
        "y_pred_svm_pos = svm_clf_pos.predict(X_test)\n",
        "\n",
        "print(\"SVM Classifier Performance (Word+POS features) (Test Set):\")\n",
        "print(classification_report(y_test, y_pred_svm_pos))\n",
        "\n",
        "svm_cv_scores_pos = cross_val_score(svm_clf_pos, X_vec_pos, y, cv=5, scoring='accuracy')\n",
        "print(f\"SVM Classifier Cross-Validation Accuracy (Word+POS features): {svm_cv_scores_pos.mean():.4f} ± {svm_cv_scores_pos.std():.4f}\")\n"
      ]
    },
    {
      "cell_type": "markdown",
      "metadata": {
        "id": "L0dt_oQupUNe"
      },
      "source": [
        "> *Write your answer here.*"
      ]
    },
    {
      "cell_type": "markdown",
      "metadata": {
        "id": "Su-3w87eMW0w"
      },
      "source": [
        "#### (Q3.3) Discard all closed-class words from your data (keep only nouns, verbs, adjectives, and adverbs), and report performance. Does this help? Use cross-validation to evaluate the classifier and compare the results with (Q3.2). Are closed-class words detrimental to the classifier? Explain why this may be the case. (1pt)"
      ]
    },
    {
      "cell_type": "code",
      "execution_count": null,
      "metadata": {
        "id": "CCUPlPozCYUX"
      },
      "outputs": [],
      "source": [
        "open_class_tags = {'NN', 'NNS', 'NNP', 'NNPS', 'VB', 'VBD', 'VBG', 'VBN', 'VBP', 'VBZ', 'JJ', 'JJR', 'JJS', 'RB', 'RBR', 'RBS'}\n",
        "X_open_class = [\" \".join([f\"{token}/{pos_tag}\" for sentence in review[\"content\"]\n",
        "                         for token, pos_tag in sentence if pos_tag in open_class_tags]) for review in reviews]\n",
        "\n",
        "vectorizer = CountVectorizer(stop_words='english')\n",
        "X_vec_open_class = vectorizer.fit_transform(X_open_class)\n",
        "\n",
        "X_train, X_test, y_train, y_test = train_test_split(X_vec_open_class, y, test_size=0.2, random_state=42)\n",
        "\n",
        "svm_clf_open_class = LinearSVC(max_iter=10000)\n",
        "svm_clf_open_class.fit(X_train, y_train)\n",
        "\n",
        "y_pred_svm_open_class = svm_clf_open_class.predict(X_test)\n",
        "print(\"SVM Classifier Performance (Open-Class Features Only):\")\n",
        "print(classification_report(y_test, y_pred_svm_open_class))\n",
        "\n",
        "svm_cv_scores_open_class = cross_val_score(svm_clf_open_class, X_vec_open_class, y, cv=5, scoring='accuracy')\n",
        "print(f\"SVM Classifier Cross-Validation Accuracy (Open-Class Features Only): {svm_cv_scores_open_class.mean():.4f} ± {svm_cv_scores_open_class.std():.4f}\")\n"
      ]
    },
    {
      "cell_type": "markdown",
      "metadata": {
        "id": "Km-fgE6JcsZI"
      },
      "source": [
        "> *Write your answer here.*"
      ]
    },
    {
      "cell_type": "markdown",
      "metadata": {
        "id": "nfwqOciAl2No"
      },
      "source": [
        "# (4) Discussion (max. 500 words). (5pts)\n",
        "\n",
        "> Based on your experiments, what are the effective features and techniques in sentiment analysis? What information do different features encode?\n",
        "Why is this important? What are the limitations of these features and techniques?\n",
        "\n"
      ]
    },
    {
      "cell_type": "markdown",
      "metadata": {
        "id": "ZYuse5WLmekZ"
      },
      "source": [
        "*Write your answer here in up to 500 words (-0.25pt for >50 extra words, -0.5 points for >100 extra words, ...)*.\n"
      ]
    },
    {
      "cell_type": "markdown",
      "metadata": {
        "id": "iwaKwfWQhRk_"
      },
      "source": [
        "# Submission\n"
      ]
    },
    {
      "cell_type": "code",
      "execution_count": null,
      "metadata": {
        "id": "aOUeaET5ijk-"
      },
      "outputs": [],
      "source": [
        "# Write your names and student numbers here:\n",
        "# Student 1 #12345\n",
        "# Student 2 #12345"
      ]
    },
    {
      "cell_type": "markdown",
      "metadata": {
        "id": "3A9K-H6Tii3X"
      },
      "source": [
        "**That's it!**\n",
        "\n",
        "- Check if you answered all questions fully and correctly.\n",
        "- Download your completed notebook using `File -> Download .ipynb`\n",
        "- Check if your answers are all included in the file you submit.\n",
        "- Submit your .ipynb file via *Canvas*. One submission per group."
      ]
    },
    {
      "cell_type": "code",
      "execution_count": null,
      "metadata": {
        "id": "YHslatYAKBrF"
      },
      "outputs": [],
      "source": []
    }
  ],
  "metadata": {
    "colab": {
      "provenance": []
    },
    "kernelspec": {
      "display_name": "Python 3",
      "name": "python3"
    }
  },
  "nbformat": 4,
  "nbformat_minor": 0
}