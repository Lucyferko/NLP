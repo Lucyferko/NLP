{
  "cells": [
    {
      "cell_type": "markdown",
      "metadata": {
        "id": "ptMZZMQlfn7c"
      },
      "source": [
        "------\n",
        "**You cannot apply any changes to this file, so please make sure to save it on your Google Colab drive or download it as a .ipynb file.**\n",
        "\n",
        "------\n"
      ]
    },
    {
      "cell_type": "markdown",
      "metadata": {
        "id": "jILqpPLlE9r0"
      },
      "source": [
        "# Practical 2: Representing Sentences with Neural Models"
      ]
    },
    {
      "cell_type": "markdown",
      "metadata": {
        "id": "YbNKef3lymaj"
      },
      "source": [
        "## Preparing the data"
      ]
    },
    {
      "cell_type": "markdown",
      "metadata": {
        "id": "9jxTkpg59FlU"
      },
      "source": [
        "Let's first download the data set and take a look."
      ]
    },
    {
      "cell_type": "code",
      "execution_count": 1,
      "metadata": {
        "id": "WZp53HmMP3F2"
      },
      "outputs": [],
      "source": [
        "import re\n",
        "import random\n",
        "import time\n",
        "import math\n",
        "import numpy as np\n",
        "import nltk\n",
        "import matplotlib.pyplot as plt\n",
        "plt.style.use('default')"
      ]
    },
    {
      "cell_type": "code",
      "execution_count": 2,
      "metadata": {
        "id": "TovFkDTgE_d6",
        "outputId": "0a6182a3-a968-4290-b2b9-935601a8a1ab",
        "colab": {
          "base_uri": "https://localhost:8080/"
        }
      },
      "outputs": [
        {
          "output_type": "stream",
          "name": "stdout",
          "text": [
            "--2024-12-13 16:25:55--  http://nlp.stanford.edu/sentiment/trainDevTestTrees_PTB.zip\n",
            "Resolving nlp.stanford.edu (nlp.stanford.edu)... 171.64.67.140\n",
            "Connecting to nlp.stanford.edu (nlp.stanford.edu)|171.64.67.140|:80... connected.\n",
            "HTTP request sent, awaiting response... 302 Found\n",
            "Location: https://nlp.stanford.edu/sentiment/trainDevTestTrees_PTB.zip [following]\n",
            "--2024-12-13 16:25:55--  https://nlp.stanford.edu/sentiment/trainDevTestTrees_PTB.zip\n",
            "Connecting to nlp.stanford.edu (nlp.stanford.edu)|171.64.67.140|:443... connected.\n",
            "HTTP request sent, awaiting response... 200 OK\n",
            "Length: 789539 (771K) [application/zip]\n",
            "Saving to: ‘trainDevTestTrees_PTB.zip.1’\n",
            "\n",
            "trainDevTestTrees_P 100%[===================>] 771.03K   320KB/s    in 2.4s    \n",
            "\n",
            "2024-12-13 16:25:58 (320 KB/s) - ‘trainDevTestTrees_PTB.zip.1’ saved [789539/789539]\n",
            "\n",
            "Archive:  trainDevTestTrees_PTB.zip\n",
            "replace trees/dev.txt? [y]es, [n]o, [A]ll, [N]one, [r]ename: N\n"
          ]
        }
      ],
      "source": [
        "!wget http://nlp.stanford.edu/sentiment/trainDevTestTrees_PTB.zip\n",
        "!unzip trainDevTestTrees_PTB.zip"
      ]
    },
    {
      "cell_type": "code",
      "execution_count": 3,
      "metadata": {
        "id": "0IpAphkBO5eW"
      },
      "outputs": [],
      "source": [
        "# this function reads in a textfile and fixes an issue with \"\\\\\"\n",
        "def filereader(path):\n",
        "  with open(path, mode=\"r\", encoding=\"utf-8\") as f:\n",
        "    for line in f:\n",
        "      yield line.strip().replace(\"\\\\\",\"\")"
      ]
    },
    {
      "cell_type": "markdown",
      "metadata": {
        "id": "yP_jpquiprH8"
      },
      "source": [
        "Let's look at a data point. It is a **flattened binary tree**, with sentiment scores at every node, and words as the leaves (or *terminal nodes*)."
      ]
    },
    {
      "cell_type": "code",
      "execution_count": 4,
      "metadata": {
        "colab": {
          "base_uri": "https://localhost:8080/"
        },
        "id": "ylkIopm0QJML",
        "outputId": "c774b38e-5f38-422d-c7f7-bd1c0c54fd1b"
      },
      "outputs": [
        {
          "output_type": "stream",
          "name": "stdout",
          "text": [
            "(3 (2 It) (4 (4 (2 's) (4 (3 (2 a) (4 (3 lovely) (2 film))) (3 (2 with) (4 (3 (3 lovely) (2 performances)) (2 (2 by) (2 (2 (2 Buy) (2 and)) (2 Accorsi))))))) (2 .)))\n"
          ]
        }
      ],
      "source": [
        "s = next(filereader(\"trees/dev.txt\"))\n",
        "print(s)"
      ]
    },
    {
      "cell_type": "markdown",
      "metadata": {
        "id": "ekAWKsji9t93"
      },
      "source": [
        "The sentiment scores range from 0 (very negative) to 5 (very positive). Again, as you can see, every node in the tree is labeled with a sentiment score. For now, we will only use the score at the **root node**, i.e., the sentiment score for the complete sentence."
      ]
    },
    {
      "cell_type": "code",
      "execution_count": 5,
      "metadata": {
        "colab": {
          "base_uri": "https://localhost:8080/"
        },
        "id": "DKynLm0xPKr2",
        "outputId": "487ee98f-cea8-4bef-8d88-1018667fc785"
      },
      "outputs": [
        {
          "output_type": "stream",
          "name": "stdout",
          "text": [
            "['It', \"'s\", 'a', 'lovely', 'film', 'with', 'lovely', 'performances', 'by', 'Buy', 'and', 'Accorsi', '.']\n",
            "13\n"
          ]
        }
      ],
      "source": [
        "# Let's first make a function that extracts the tokens (the leaves).\n",
        "\n",
        "def tokens_from_treestring(s):\n",
        "  \"\"\"extract the tokens from a sentiment tree\"\"\"\n",
        "  return re.sub(r\"\\([0-9] |\\)\", \"\", s).split()\n",
        "\n",
        "# let's try it on our example tree\n",
        "tokens = tokens_from_treestring(s)\n",
        "print(tokens)\n",
        "print(len(tokens))"
      ]
    },
    {
      "cell_type": "markdown",
      "metadata": {
        "id": "B8vFkeqN-NLP"
      },
      "source": [
        "> *Warning: you could also parse a treestring using NLTK and ask it to return the leaves, but there seems to be an issue with NLTK not always correctly parsing the input, so do not rely on it.*"
      ]
    },
    {
      "cell_type": "code",
      "execution_count": 6,
      "metadata": {
        "id": "Akr9K_Mv4dym"
      },
      "outputs": [],
      "source": [
        "# We will also need the following function, but you can ignore this for now.\n",
        "# It is explained later on.\n",
        "\n",
        "SHIFT = 0\n",
        "REDUCE = 1\n",
        "\n",
        "\n",
        "def transitions_from_treestring(s):\n",
        "  s = re.sub(\"\\([0-5] ([^)]+)\\)\", \"0\", s)\n",
        "  s = re.sub(\"\\)\", \" )\", s)\n",
        "  s = re.sub(\"\\([0-4] \", \"\", s)\n",
        "  s = re.sub(\"\\([0-4] \", \"\", s)\n",
        "  s = re.sub(\"\\)\", \"1\", s)\n",
        "  return list(map(int, s.split()))"
      ]
    },
    {
      "cell_type": "code",
      "execution_count": 7,
      "metadata": {
        "colab": {
          "base_uri": "https://localhost:8080/"
        },
        "id": "mNtPdlwPgRat",
        "outputId": "ade2bc56-8d4f-4a6b-8cf9-5cb1c256f6d3"
      },
      "outputs": [
        {
          "output_type": "stream",
          "name": "stdout",
          "text": [
            "trees/train.txt  8544\n",
            "trees/dev.txt    1101\n",
            "trees/test.txt   2210\n"
          ]
        }
      ],
      "source": [
        "# Now let's first see how large our data sets are.\n",
        "for path in (\"trees/train.txt\", \"trees/dev.txt\", \"trees/test.txt\"):\n",
        "  print(\"{:16s} {:4d}\".format(path, sum(1 for _ in filereader(path))))"
      ]
    },
    {
      "cell_type": "markdown",
      "metadata": {
        "id": "HexlSqTR_UrY"
      },
      "source": [
        "You can see that the number of sentences is not very large. That's probably because the data set required so much manual annotation. However, it is large enough to train a neural network on."
      ]
    },
    {
      "cell_type": "markdown",
      "metadata": {
        "id": "IfRjelOcsXuC"
      },
      "source": [
        "It will be useful to store each data example in an `Example` object,\n",
        "containing everything that we may need for each data point.\n",
        "It will contain the tokens, the tree, the top-level sentiment label, and\n",
        "the transitions (explained later)."
      ]
    },
    {
      "cell_type": "code",
      "execution_count": 8,
      "metadata": {
        "colab": {
          "base_uri": "https://localhost:8080/"
        },
        "id": "4I07Hb_-q8wg",
        "outputId": "d9b34537-090d-477b-aeec-fd7d3b7a8dd4"
      },
      "outputs": [
        {
          "output_type": "stream",
          "name": "stdout",
          "text": [
            "train 8544\n",
            "dev 1101\n",
            "test 2210\n"
          ]
        }
      ],
      "source": [
        "from collections import namedtuple\n",
        "from nltk import Tree\n",
        "\n",
        "# A simple way to define a class is using namedtuple.\n",
        "Example = namedtuple(\"Example\", [\"tokens\", \"tree\", \"label\", \"transitions\"])\n",
        "\n",
        "\n",
        "def examplereader(path, lower=False):\n",
        "  \"\"\"Returns all examples in a file one by one.\"\"\"\n",
        "  for line in filereader(path):\n",
        "    line = line.lower() if lower else line\n",
        "    tokens = tokens_from_treestring(line)\n",
        "    tree = Tree.fromstring(line)  # use NLTK's Tree\n",
        "    label = int(line[1])\n",
        "    trans = transitions_from_treestring(line)\n",
        "    yield Example(tokens=tokens, tree=tree, label=label, transitions=trans)\n",
        "\n",
        "\n",
        "# Let's load the data into memory.\n",
        "LOWER = False  # we will keep the original casing\n",
        "train_data = list(examplereader(\"trees/train.txt\", lower=LOWER))\n",
        "dev_data = list(examplereader(\"trees/dev.txt\", lower=LOWER))\n",
        "test_data = list(examplereader(\"trees/test.txt\", lower=LOWER))\n",
        "\n",
        "print(\"train\", len(train_data))\n",
        "print(\"dev\", len(dev_data))\n",
        "print(\"test\", len(test_data))"
      ]
    },
    {
      "cell_type": "markdown",
      "metadata": {
        "id": "6KM0bDyeVZtP"
      },
      "source": [
        "Let's check out an `Example` object."
      ]
    },
    {
      "cell_type": "code",
      "execution_count": 9,
      "metadata": {
        "colab": {
          "base_uri": "https://localhost:8080/"
        },
        "id": "J8mwcaZwxP1c",
        "outputId": "0fed4d2b-3a49-452b-d381-ebb4afc0d768"
      },
      "outputs": [
        {
          "output_type": "stream",
          "name": "stdout",
          "text": [
            "First example: Example(tokens=['It', \"'s\", 'a', 'lovely', 'film', 'with', 'lovely', 'performances', 'by', 'Buy', 'and', 'Accorsi', '.'], tree=Tree('3', [Tree('2', ['It']), Tree('4', [Tree('4', [Tree('2', [\"'s\"]), Tree('4', [Tree('3', [Tree('2', ['a']), Tree('4', [Tree('3', ['lovely']), Tree('2', ['film'])])]), Tree('3', [Tree('2', ['with']), Tree('4', [Tree('3', [Tree('3', ['lovely']), Tree('2', ['performances'])]), Tree('2', [Tree('2', ['by']), Tree('2', [Tree('2', [Tree('2', ['Buy']), Tree('2', ['and'])]), Tree('2', ['Accorsi'])])])])])])]), Tree('2', ['.'])])]), label=3, transitions=[0, 0, 0, 0, 0, 1, 1, 0, 0, 0, 1, 0, 0, 0, 1, 0, 1, 1, 1, 1, 1, 1, 0, 1, 1])\n",
            "First example tokens: ['It', \"'s\", 'a', 'lovely', 'film', 'with', 'lovely', 'performances', 'by', 'Buy', 'and', 'Accorsi', '.']\n",
            "First example label: 3\n"
          ]
        }
      ],
      "source": [
        "example = dev_data[0]\n",
        "print(\"First example:\", example)\n",
        "print(\"First example tokens:\", example.tokens)\n",
        "print(\"First example label:\",  example.label)"
      ]
    },
    {
      "cell_type": "markdown",
      "metadata": {
        "id": "nGWaZahKV_dH"
      },
      "source": [
        "#### Sentiment label vocabulary"
      ]
    },
    {
      "cell_type": "code",
      "execution_count": 10,
      "metadata": {
        "colab": {
          "base_uri": "https://localhost:8080/"
        },
        "id": "AmTC-rvQelpl",
        "outputId": "59d9136a-75aa-4f0a-ad8b-f4012fc82468"
      },
      "outputs": [
        {
          "output_type": "stream",
          "name": "stdout",
          "text": [
            "['very negative', 'negative', 'neutral', 'positive', 'very positive']\n",
            "very positive\n"
          ]
        }
      ],
      "source": [
        "# Now let's map the sentiment labels 0-4 to a more readable form\n",
        "i2t = [\"very negative\", \"negative\", \"neutral\", \"positive\", \"very positive\"]\n",
        "print(i2t)\n",
        "print(i2t[4])"
      ]
    },
    {
      "cell_type": "code",
      "execution_count": 11,
      "metadata": {
        "colab": {
          "base_uri": "https://localhost:8080/"
        },
        "id": "D7UI26DP2dr2",
        "outputId": "194e52c5-e1d1-4ed7-8587-bf87cf05c33a"
      },
      "outputs": [
        {
          "output_type": "stream",
          "name": "stdout",
          "text": [
            "OrderedDict([('very negative', 0), ('negative', 1), ('neutral', 2), ('positive', 3), ('very positive', 4)])\n",
            "4\n"
          ]
        }
      ],
      "source": [
        "from collections import OrderedDict\n",
        "# And let's also create the opposite mapping.\n",
        "# We won't use a Vocabulary for this (although we could), since the labels\n",
        "# are already numeric.\n",
        "t2i = OrderedDict({p : i for p, i in zip(i2t, range(len(i2t)))})\n",
        "print(t2i)\n",
        "print(t2i['very positive'])"
      ]
    },
    {
      "cell_type": "markdown",
      "source": [
        "## Using subtrees for training\n"
      ],
      "metadata": {
        "id": "UyoHcch1Ny7-"
      }
    },
    {
      "cell_type": "code",
      "source": [
        "# Used this to understand the required structure\n",
        "# commented out to make the notebook shorter.\n",
        "for subtree in example.tree.subtrees():\n",
        "  print(f'subtree:{subtree}')\n",
        "  print(f'tokens:{subtree.leaves()}')\n",
        "  print(f'label:{subtree.label()}')\n",
        "  print(type(subtree.label()))\n",
        "  print(f'string: {str(subtree)}')\n",
        "  cleaned_string = \" \".join(str(subtree).split())\n",
        "  print(f'cleaned string: {cleaned_string}')\n",
        "  print(f'transitions: {transitions_from_treestring(cleaned_string)}')"
      ],
      "metadata": {
        "colab": {
          "base_uri": "https://localhost:8080/"
        },
        "id": "XllliHrsgcDM",
        "outputId": "e79e7d40-0b8d-48d1-9e87-36d128087b45"
      },
      "execution_count": 12,
      "outputs": [
        {
          "output_type": "stream",
          "name": "stdout",
          "text": [
            "subtree:(3\n",
            "  (2 It)\n",
            "  (4\n",
            "    (4\n",
            "      (2 's)\n",
            "      (4\n",
            "        (3 (2 a) (4 (3 lovely) (2 film)))\n",
            "        (3\n",
            "          (2 with)\n",
            "          (4\n",
            "            (3 (3 lovely) (2 performances))\n",
            "            (2 (2 by) (2 (2 (2 Buy) (2 and)) (2 Accorsi)))))))\n",
            "    (2 .)))\n",
            "tokens:['It', \"'s\", 'a', 'lovely', 'film', 'with', 'lovely', 'performances', 'by', 'Buy', 'and', 'Accorsi', '.']\n",
            "label:3\n",
            "<class 'str'>\n",
            "string: (3\n",
            "  (2 It)\n",
            "  (4\n",
            "    (4\n",
            "      (2 's)\n",
            "      (4\n",
            "        (3 (2 a) (4 (3 lovely) (2 film)))\n",
            "        (3\n",
            "          (2 with)\n",
            "          (4\n",
            "            (3 (3 lovely) (2 performances))\n",
            "            (2 (2 by) (2 (2 (2 Buy) (2 and)) (2 Accorsi)))))))\n",
            "    (2 .)))\n",
            "cleaned string: (3 (2 It) (4 (4 (2 's) (4 (3 (2 a) (4 (3 lovely) (2 film))) (3 (2 with) (4 (3 (3 lovely) (2 performances)) (2 (2 by) (2 (2 (2 Buy) (2 and)) (2 Accorsi))))))) (2 .)))\n",
            "transitions: [0, 0, 0, 0, 0, 1, 1, 0, 0, 0, 1, 0, 0, 0, 1, 0, 1, 1, 1, 1, 1, 1, 0, 1, 1]\n",
            "subtree:(2 It)\n",
            "tokens:['It']\n",
            "label:2\n",
            "<class 'str'>\n",
            "string: (2 It)\n",
            "cleaned string: (2 It)\n",
            "transitions: [0]\n",
            "subtree:(4\n",
            "  (4\n",
            "    (2 's)\n",
            "    (4\n",
            "      (3 (2 a) (4 (3 lovely) (2 film)))\n",
            "      (3\n",
            "        (2 with)\n",
            "        (4\n",
            "          (3 (3 lovely) (2 performances))\n",
            "          (2 (2 by) (2 (2 (2 Buy) (2 and)) (2 Accorsi)))))))\n",
            "  (2 .))\n",
            "tokens:[\"'s\", 'a', 'lovely', 'film', 'with', 'lovely', 'performances', 'by', 'Buy', 'and', 'Accorsi', '.']\n",
            "label:4\n",
            "<class 'str'>\n",
            "string: (4\n",
            "  (4\n",
            "    (2 's)\n",
            "    (4\n",
            "      (3 (2 a) (4 (3 lovely) (2 film)))\n",
            "      (3\n",
            "        (2 with)\n",
            "        (4\n",
            "          (3 (3 lovely) (2 performances))\n",
            "          (2 (2 by) (2 (2 (2 Buy) (2 and)) (2 Accorsi)))))))\n",
            "  (2 .))\n",
            "cleaned string: (4 (4 (2 's) (4 (3 (2 a) (4 (3 lovely) (2 film))) (3 (2 with) (4 (3 (3 lovely) (2 performances)) (2 (2 by) (2 (2 (2 Buy) (2 and)) (2 Accorsi))))))) (2 .))\n",
            "transitions: [0, 0, 0, 0, 1, 1, 0, 0, 0, 1, 0, 0, 0, 1, 0, 1, 1, 1, 1, 1, 1, 0, 1]\n",
            "subtree:(4\n",
            "  (2 's)\n",
            "  (4\n",
            "    (3 (2 a) (4 (3 lovely) (2 film)))\n",
            "    (3\n",
            "      (2 with)\n",
            "      (4\n",
            "        (3 (3 lovely) (2 performances))\n",
            "        (2 (2 by) (2 (2 (2 Buy) (2 and)) (2 Accorsi)))))))\n",
            "tokens:[\"'s\", 'a', 'lovely', 'film', 'with', 'lovely', 'performances', 'by', 'Buy', 'and', 'Accorsi']\n",
            "label:4\n",
            "<class 'str'>\n",
            "string: (4\n",
            "  (2 's)\n",
            "  (4\n",
            "    (3 (2 a) (4 (3 lovely) (2 film)))\n",
            "    (3\n",
            "      (2 with)\n",
            "      (4\n",
            "        (3 (3 lovely) (2 performances))\n",
            "        (2 (2 by) (2 (2 (2 Buy) (2 and)) (2 Accorsi)))))))\n",
            "cleaned string: (4 (2 's) (4 (3 (2 a) (4 (3 lovely) (2 film))) (3 (2 with) (4 (3 (3 lovely) (2 performances)) (2 (2 by) (2 (2 (2 Buy) (2 and)) (2 Accorsi)))))))\n",
            "transitions: [0, 0, 0, 0, 1, 1, 0, 0, 0, 1, 0, 0, 0, 1, 0, 1, 1, 1, 1, 1, 1]\n",
            "subtree:(2 's)\n",
            "tokens:[\"'s\"]\n",
            "label:2\n",
            "<class 'str'>\n",
            "string: (2 's)\n",
            "cleaned string: (2 's)\n",
            "transitions: [0]\n",
            "subtree:(4\n",
            "  (3 (2 a) (4 (3 lovely) (2 film)))\n",
            "  (3\n",
            "    (2 with)\n",
            "    (4\n",
            "      (3 (3 lovely) (2 performances))\n",
            "      (2 (2 by) (2 (2 (2 Buy) (2 and)) (2 Accorsi))))))\n",
            "tokens:['a', 'lovely', 'film', 'with', 'lovely', 'performances', 'by', 'Buy', 'and', 'Accorsi']\n",
            "label:4\n",
            "<class 'str'>\n",
            "string: (4\n",
            "  (3 (2 a) (4 (3 lovely) (2 film)))\n",
            "  (3\n",
            "    (2 with)\n",
            "    (4\n",
            "      (3 (3 lovely) (2 performances))\n",
            "      (2 (2 by) (2 (2 (2 Buy) (2 and)) (2 Accorsi))))))\n",
            "cleaned string: (4 (3 (2 a) (4 (3 lovely) (2 film))) (3 (2 with) (4 (3 (3 lovely) (2 performances)) (2 (2 by) (2 (2 (2 Buy) (2 and)) (2 Accorsi))))))\n",
            "transitions: [0, 0, 0, 1, 1, 0, 0, 0, 1, 0, 0, 0, 1, 0, 1, 1, 1, 1, 1]\n",
            "subtree:(3 (2 a) (4 (3 lovely) (2 film)))\n",
            "tokens:['a', 'lovely', 'film']\n",
            "label:3\n",
            "<class 'str'>\n",
            "string: (3 (2 a) (4 (3 lovely) (2 film)))\n",
            "cleaned string: (3 (2 a) (4 (3 lovely) (2 film)))\n",
            "transitions: [0, 0, 0, 1, 1]\n",
            "subtree:(2 a)\n",
            "tokens:['a']\n",
            "label:2\n",
            "<class 'str'>\n",
            "string: (2 a)\n",
            "cleaned string: (2 a)\n",
            "transitions: [0]\n",
            "subtree:(4 (3 lovely) (2 film))\n",
            "tokens:['lovely', 'film']\n",
            "label:4\n",
            "<class 'str'>\n",
            "string: (4 (3 lovely) (2 film))\n",
            "cleaned string: (4 (3 lovely) (2 film))\n",
            "transitions: [0, 0, 1]\n",
            "subtree:(3 lovely)\n",
            "tokens:['lovely']\n",
            "label:3\n",
            "<class 'str'>\n",
            "string: (3 lovely)\n",
            "cleaned string: (3 lovely)\n",
            "transitions: [0]\n",
            "subtree:(2 film)\n",
            "tokens:['film']\n",
            "label:2\n",
            "<class 'str'>\n",
            "string: (2 film)\n",
            "cleaned string: (2 film)\n",
            "transitions: [0]\n",
            "subtree:(3\n",
            "  (2 with)\n",
            "  (4\n",
            "    (3 (3 lovely) (2 performances))\n",
            "    (2 (2 by) (2 (2 (2 Buy) (2 and)) (2 Accorsi)))))\n",
            "tokens:['with', 'lovely', 'performances', 'by', 'Buy', 'and', 'Accorsi']\n",
            "label:3\n",
            "<class 'str'>\n",
            "string: (3\n",
            "  (2 with)\n",
            "  (4\n",
            "    (3 (3 lovely) (2 performances))\n",
            "    (2 (2 by) (2 (2 (2 Buy) (2 and)) (2 Accorsi)))))\n",
            "cleaned string: (3 (2 with) (4 (3 (3 lovely) (2 performances)) (2 (2 by) (2 (2 (2 Buy) (2 and)) (2 Accorsi)))))\n",
            "transitions: [0, 0, 0, 1, 0, 0, 0, 1, 0, 1, 1, 1, 1]\n",
            "subtree:(2 with)\n",
            "tokens:['with']\n",
            "label:2\n",
            "<class 'str'>\n",
            "string: (2 with)\n",
            "cleaned string: (2 with)\n",
            "transitions: [0]\n",
            "subtree:(4\n",
            "  (3 (3 lovely) (2 performances))\n",
            "  (2 (2 by) (2 (2 (2 Buy) (2 and)) (2 Accorsi))))\n",
            "tokens:['lovely', 'performances', 'by', 'Buy', 'and', 'Accorsi']\n",
            "label:4\n",
            "<class 'str'>\n",
            "string: (4\n",
            "  (3 (3 lovely) (2 performances))\n",
            "  (2 (2 by) (2 (2 (2 Buy) (2 and)) (2 Accorsi))))\n",
            "cleaned string: (4 (3 (3 lovely) (2 performances)) (2 (2 by) (2 (2 (2 Buy) (2 and)) (2 Accorsi))))\n",
            "transitions: [0, 0, 1, 0, 0, 0, 1, 0, 1, 1, 1]\n",
            "subtree:(3 (3 lovely) (2 performances))\n",
            "tokens:['lovely', 'performances']\n",
            "label:3\n",
            "<class 'str'>\n",
            "string: (3 (3 lovely) (2 performances))\n",
            "cleaned string: (3 (3 lovely) (2 performances))\n",
            "transitions: [0, 0, 1]\n",
            "subtree:(3 lovely)\n",
            "tokens:['lovely']\n",
            "label:3\n",
            "<class 'str'>\n",
            "string: (3 lovely)\n",
            "cleaned string: (3 lovely)\n",
            "transitions: [0]\n",
            "subtree:(2 performances)\n",
            "tokens:['performances']\n",
            "label:2\n",
            "<class 'str'>\n",
            "string: (2 performances)\n",
            "cleaned string: (2 performances)\n",
            "transitions: [0]\n",
            "subtree:(2 (2 by) (2 (2 (2 Buy) (2 and)) (2 Accorsi)))\n",
            "tokens:['by', 'Buy', 'and', 'Accorsi']\n",
            "label:2\n",
            "<class 'str'>\n",
            "string: (2 (2 by) (2 (2 (2 Buy) (2 and)) (2 Accorsi)))\n",
            "cleaned string: (2 (2 by) (2 (2 (2 Buy) (2 and)) (2 Accorsi)))\n",
            "transitions: [0, 0, 0, 1, 0, 1, 1]\n",
            "subtree:(2 by)\n",
            "tokens:['by']\n",
            "label:2\n",
            "<class 'str'>\n",
            "string: (2 by)\n",
            "cleaned string: (2 by)\n",
            "transitions: [0]\n",
            "subtree:(2 (2 (2 Buy) (2 and)) (2 Accorsi))\n",
            "tokens:['Buy', 'and', 'Accorsi']\n",
            "label:2\n",
            "<class 'str'>\n",
            "string: (2 (2 (2 Buy) (2 and)) (2 Accorsi))\n",
            "cleaned string: (2 (2 (2 Buy) (2 and)) (2 Accorsi))\n",
            "transitions: [0, 0, 1, 0, 1]\n",
            "subtree:(2 (2 Buy) (2 and))\n",
            "tokens:['Buy', 'and']\n",
            "label:2\n",
            "<class 'str'>\n",
            "string: (2 (2 Buy) (2 and))\n",
            "cleaned string: (2 (2 Buy) (2 and))\n",
            "transitions: [0, 0, 1]\n",
            "subtree:(2 Buy)\n",
            "tokens:['Buy']\n",
            "label:2\n",
            "<class 'str'>\n",
            "string: (2 Buy)\n",
            "cleaned string: (2 Buy)\n",
            "transitions: [0]\n",
            "subtree:(2 and)\n",
            "tokens:['and']\n",
            "label:2\n",
            "<class 'str'>\n",
            "string: (2 and)\n",
            "cleaned string: (2 and)\n",
            "transitions: [0]\n",
            "subtree:(2 Accorsi)\n",
            "tokens:['Accorsi']\n",
            "label:2\n",
            "<class 'str'>\n",
            "string: (2 Accorsi)\n",
            "cleaned string: (2 Accorsi)\n",
            "transitions: [0]\n",
            "subtree:(2 .)\n",
            "tokens:['.']\n",
            "label:2\n",
            "<class 'str'>\n",
            "string: (2 .)\n",
            "cleaned string: (2 .)\n",
            "transitions: [0]\n"
          ]
        }
      ]
    },
    {
      "cell_type": "code",
      "source": [
        "def example_from_subtree(subtree):\n",
        "  \"\"\"returns an Example object created from input subtree\"\"\"\n",
        "  tokens = subtree.leaves()\n",
        "  label = int(subtree.label())\n",
        "  string = \" \".join(str(subtree).split())\n",
        "  trans = transitions_from_treestring(string)\n",
        "  return Example(tokens=tokens, tree=subtree, label=label, transitions=trans)"
      ],
      "metadata": {
        "id": "p9mk0hN5nr4O"
      },
      "execution_count": 13,
      "outputs": []
    },
    {
      "cell_type": "code",
      "source": [
        "import copy\n",
        "train_data_substrings = copy.deepcopy(train_data) # create a copy of train data to be extended with all substrings\n",
        "print(f'size of training data before expanding it with subtrees: {len(train_data_substrings)}')\n",
        "\n",
        "for example in train_data:\n",
        "  for subtree in example.tree.subtrees():\n",
        "    train_data_substrings.append(example_from_subtree(subtree))\n",
        "\n",
        "print(f'size of training after expanding it with subtrees: {len(train_data_substrings)}')"
      ],
      "metadata": {
        "colab": {
          "base_uri": "https://localhost:8080/"
        },
        "id": "Q-5lWZgJmGD1",
        "outputId": "a2ee4389-bff0-4da4-bc3c-e5b5303df445"
      },
      "execution_count": 14,
      "outputs": [
        {
          "output_type": "stream",
          "name": "stdout",
          "text": [
            "size of training data before expanding it with subtrees: 8544\n",
            "size of training after expanding it with subtrees: 327126\n"
          ]
        }
      ]
    },
    {
      "cell_type": "code",
      "source": [
        "# doing this to save myself from changing the variable name multiple times later\n",
        "train_data = train_data_substrings"
      ],
      "metadata": {
        "id": "RdwFNE7jxU9S"
      },
      "execution_count": 15,
      "outputs": []
    },
    {
      "cell_type": "markdown",
      "metadata": {
        "id": "y0067ax54-rd"
      },
      "source": [
        "## PyTorch\n",
        "\n",
        "We are going to need PyTorch and Google Colab does not have it installed by default. Run the cell below to install it.\n",
        "\n",
        "*For installing PyTorch in your own computer, follow the instructions on [pytorch.org](pytorch.org) instead. This is for Google Colab only.*"
      ]
    },
    {
      "cell_type": "code",
      "execution_count": 16,
      "metadata": {
        "colab": {
          "base_uri": "https://localhost:8080/"
        },
        "id": "qKQMGtkR5KWr",
        "outputId": "e21bef14-c840-494a-fb03-ecd130b13fec"
      },
      "outputs": [
        {
          "output_type": "stream",
          "name": "stdout",
          "text": [
            "Using torch 2.5.1+cu121\n"
          ]
        }
      ],
      "source": [
        "import torch\n",
        "print(\"Using torch\", torch.__version__) # should say 1.7.0+cu101"
      ]
    },
    {
      "cell_type": "code",
      "execution_count": 17,
      "metadata": {
        "id": "mnvPcd_E1xH8"
      },
      "outputs": [],
      "source": [
        "# Let's also import torch.nn, a PyTorch package that\n",
        "# makes building neural networks more convenient.\n",
        "from torch import nn"
      ]
    },
    {
      "cell_type": "code",
      "execution_count": 18,
      "metadata": {
        "id": "BYt8uTyGCKc7",
        "outputId": "2161a932-4871-4ffc-ad9a-384f07aaa1db",
        "colab": {
          "base_uri": "https://localhost:8080/"
        }
      },
      "outputs": [
        {
          "output_type": "execute_result",
          "data": {
            "text/plain": [
              "device(type='cuda')"
            ]
          },
          "metadata": {},
          "execution_count": 18
        }
      ],
      "source": [
        "# PyTorch can run on CPU or on Nvidia GPU (video card) using CUDA\n",
        "# This cell selects the GPU if one is available.\n",
        "device = torch.device('cuda' if torch.cuda.is_available() else 'cpu')\n",
        "device"
      ]
    },
    {
      "cell_type": "code",
      "execution_count": 19,
      "metadata": {
        "id": "2d1VMOOYx1Bw"
      },
      "outputs": [],
      "source": [
        "# Seed manually to make runs reproducible\n",
        "# You need to set this again if you do multiple runs of the same model\n",
        "torch.manual_seed(42)\n",
        "\n",
        "# When running on the CuDNN backend two further options must be set for reproducibility\n",
        "if torch.cuda.is_available():\n",
        "  torch.backends.cudnn.deterministic = True\n",
        "  torch.backends.cudnn.benchmark = False"
      ]
    },
    {
      "cell_type": "markdown",
      "metadata": {
        "id": "WSAw292WxuP4"
      },
      "source": [
        "#### Preparing an example for input\n",
        "\n",
        "To feed sentences to our PyTorch model, we need to convert a sequence of tokens to a sequence of IDs. The `prepare_example` function below takes care of this for us. We then use these IDs as indices for the word embedding table."
      ]
    },
    {
      "cell_type": "code",
      "execution_count": 20,
      "metadata": {
        "id": "YWeGTC_OGReV"
      },
      "outputs": [],
      "source": [
        "def prepare_example(example, vocab):\n",
        "  \"\"\"\n",
        "  Map tokens to their IDs for a single example\n",
        "  \"\"\"\n",
        "\n",
        "  # vocab returns 0 if the word is not there (i2w[0] = <unk>)\n",
        "  x = [vocab.w2i.get(t, 0) for t in example.tokens]\n",
        "\n",
        "  x = torch.LongTensor([x])\n",
        "  x = x.to(device)\n",
        "\n",
        "  y = torch.LongTensor([example.label])\n",
        "  y = y.to(device)\n",
        "\n",
        "  return x, y"
      ]
    },
    {
      "cell_type": "markdown",
      "metadata": {
        "id": "oKNQjEc0yXnJ"
      },
      "source": [
        "#### Evaluation\n",
        "We now need to define an evaluation metric.\n",
        "How many predictions do we get right? The accuracy will tell us.\n",
        "Make sure that you understand this code block.\n"
      ]
    },
    {
      "cell_type": "code",
      "execution_count": 21,
      "metadata": {
        "id": "yGmQLcVYKZsh"
      },
      "outputs": [],
      "source": [
        "def simple_evaluate(model, data, prep_fn=prepare_example, **kwargs):\n",
        "  \"\"\"Accuracy of a model on given data set.\"\"\"\n",
        "  correct = 0\n",
        "  total = 0\n",
        "  model.eval()  # disable dropout (explained later)\n",
        "\n",
        "  for example in data:\n",
        "\n",
        "    # convert the example input and label to PyTorch tensors\n",
        "    x, target = prep_fn(example, model.vocab)\n",
        "\n",
        "    # forward pass without backpropagation (no_grad)\n",
        "    # get the output from the neural network for input x\n",
        "    with torch.no_grad():\n",
        "      logits = model(x)\n",
        "\n",
        "    # get the prediction\n",
        "    prediction = logits.argmax(dim=-1)\n",
        "\n",
        "    # add the number of correct predictions to the total correct\n",
        "    correct += (prediction == target).sum().item()\n",
        "    total += 1\n",
        "\n",
        "  return correct, total, correct / float(total)"
      ]
    },
    {
      "cell_type": "markdown",
      "metadata": {
        "id": "5KlIGFXllWWm"
      },
      "source": [
        "We are using accuracy as a handy evaluation metric. Please consider using [alternative metrics](https://scikit-learn.org/stable/modules/classes.html#classification-metrics) for your experiments if that makes more theoretical sense."
      ]
    },
    {
      "cell_type": "markdown",
      "metadata": {
        "id": "dIk6OtSdzGRP"
      },
      "source": [
        "#### Example feed\n",
        "For stochastic gradient descent (SGD) we will need a random training example for every update.\n",
        "We implement this by shuffling the training data and returning examples one by one using `yield`.\n",
        "\n",
        "Shuffling is optional so that we get to use this function to get validation and test examples, too."
      ]
    },
    {
      "cell_type": "code",
      "execution_count": 22,
      "metadata": {
        "id": "dxDFOZLfCXvJ"
      },
      "outputs": [],
      "source": [
        "def get_examples(data, shuffle=True, **kwargs):\n",
        "  \"\"\"Shuffle data set and return 1 example at a time (until nothing left)\"\"\"\n",
        "  if shuffle:\n",
        "    print(\"Shuffling training data\")\n",
        "    random.shuffle(data)  # shuffle training data each epoch\n",
        "  for example in data:\n",
        "    yield example"
      ]
    },
    {
      "cell_type": "markdown",
      "metadata": {
        "id": "g09SM8yb2cjx"
      },
      "source": [
        "#### Exercise: Training function\n",
        "\n",
        "Your task is now to complete the training loop below.\n",
        "Before you do so, please read the section about optimisation."
      ]
    },
    {
      "cell_type": "markdown",
      "metadata": {
        "id": "TVfUukVdM_1c"
      },
      "source": [
        "**Optimisation**\n",
        "\n",
        "As mentioned in the \"Intro to PyTorch\" notebook, one of the perks of using PyTorch is automatic differentiation. We will use it to train our BOW model.\n",
        "\n",
        "We train our model by feeding it an input, performing a **forward** pass, obtaining an output prediction, and calculating a **loss** with our loss function.\n",
        "After the gradients are computed in the **backward** pass, we can take a step on the surface of the loss function towards more optimal parameter settings (gradient descent).\n",
        "\n",
        "The package we will use to do this optimisation is [torch.optim](https://pytorch.org/docs/stable/optim.html)."
      ]
    },
    {
      "cell_type": "code",
      "execution_count": 23,
      "metadata": {
        "id": "KhQigDrQ--YU"
      },
      "outputs": [],
      "source": [
        "from torch import optim"
      ]
    },
    {
      "cell_type": "markdown",
      "metadata": {
        "id": "wGIvcTZU_Cez"
      },
      "source": [
        "Besides implementations of stochastic gradient descent (SGD), this package also implements the optimisation algorithm Adam, which we'll be using in this practical.\n",
        "For the purposes of this assignment you do not need to know what Adam does besides that it uses gradient information to update our model parameters by calling:\n",
        "\n",
        "```\n",
        "optimizer.step()\n",
        "```\n",
        "Remember when we updated our parameters in the PyTorch tutorial in a loop?\n",
        "\n",
        "\n",
        "```python\n",
        "# update weights\n",
        "learning_rate = 0.5\n",
        "for f in net.parameters():\n",
        "    # for each parameter, take a small step in the opposite dir of the gradient\n",
        "    p.data = p.data - p.grad.data * learning_rate\n",
        "\n",
        "```\n",
        "The function call optimizer.step() does effectively the same thing.\n",
        "\n",
        "*(If you want to know more about optimisation algorithms using gradient information, [this blog](http://ruder.io/optimizing-gradient-descent/.) gives a nice intuitive overview.)*"
      ]
    },
    {
      "cell_type": "markdown",
      "metadata": {
        "id": "MQZ5flHwiiHY"
      },
      "source": [
        "# Pre-trained word embeddings"
      ]
    },
    {
      "cell_type": "code",
      "execution_count": 24,
      "metadata": {
        "id": "lGYr02WWO993",
        "outputId": "ccd56c57-68ad-40b0-df3a-b8dabdcfef85",
        "colab": {
          "base_uri": "https://localhost:8080/"
        }
      },
      "outputs": [
        {
          "output_type": "stream",
          "name": "stdout",
          "text": [
            "--2024-12-13 16:26:39--  https://gist.githubusercontent.com/bastings/b094de2813da58056a05e8e7950d4ad1/raw/3fbd3976199c2b88de2ae62afc0ecc6f15e6f7ce/glove.840B.300d.sst.txt\n",
            "Resolving gist.githubusercontent.com (gist.githubusercontent.com)... 185.199.108.133, 185.199.109.133, 185.199.110.133, ...\n",
            "Connecting to gist.githubusercontent.com (gist.githubusercontent.com)|185.199.108.133|:443... connected.\n",
            "HTTP request sent, awaiting response... 200 OK\n",
            "Length: 53933315 (51M) [text/plain]\n",
            "Saving to: ‘glove.840B.300d.sst.txt.1’\n",
            "\n",
            "glove.840B.300d.sst 100%[===================>]  51.43M   222MB/s    in 0.2s    \n",
            "\n",
            "2024-12-13 16:26:39 (222 MB/s) - ‘glove.840B.300d.sst.txt.1’ saved [53933315/53933315]\n",
            "\n"
          ]
        }
      ],
      "source": [
        "# This downloads the Glove 840B 300d embeddings.\n",
        "# The original file is at http://nlp.stanford.edu/data/glove.840B.300d.zip\n",
        "# Since that file is 2GB, we provide you with a *filtered version*\n",
        "# which contains all the words you need for this data set.\n",
        "\n",
        "# You only need to do this once.\n",
        "# Please comment this cell out after downloading.\n",
        "\n",
        "!wget https://gist.githubusercontent.com/bastings/b094de2813da58056a05e8e7950d4ad1/raw/3fbd3976199c2b88de2ae62afc0ecc6f15e6f7ce/glove.840B.300d.sst.txt"
      ]
    },
    {
      "cell_type": "code",
      "execution_count": 25,
      "metadata": {
        "id": "6NLsgFGiTjmI",
        "outputId": "82d0b881-f48c-45e5-9c04-1c376ea66999",
        "colab": {
          "base_uri": "https://localhost:8080/"
        }
      },
      "outputs": [
        {
          "output_type": "stream",
          "name": "stdout",
          "text": [
            "--2024-12-13 16:26:39--  https://gist.githubusercontent.com/bastings/4d1c346c68969b95f2c34cfbc00ba0a0/raw/76b4fefc9ef635a79d0d8002522543bc53ca2683/googlenews.word2vec.300d.txt\n",
            "Resolving gist.githubusercontent.com (gist.githubusercontent.com)... 185.199.108.133, 185.199.111.133, 185.199.110.133, ...\n",
            "Connecting to gist.githubusercontent.com (gist.githubusercontent.com)|185.199.108.133|:443... connected.\n",
            "HTTP request sent, awaiting response... 200 OK\n",
            "Length: 66209703 (63M) [text/plain]\n",
            "Saving to: ‘googlenews.word2vec.300d.txt.1’\n",
            "\n",
            "googlenews.word2vec 100%[===================>]  63.14M   182MB/s    in 0.3s    \n",
            "\n",
            "2024-12-13 16:26:40 (182 MB/s) - ‘googlenews.word2vec.300d.txt.1’ saved [66209703/66209703]\n",
            "\n"
          ]
        }
      ],
      "source": [
        "# This downloads the word2vec 300D Google News vectors\n",
        "# The file has been truncated to only contain words that appear in our data set.\n",
        "# You can find the original file here: https://code.google.com/archive/p/word2vec/\n",
        "\n",
        "# You only need to do this once.\n",
        "# Please comment this out after downloading.\n",
        "!wget https://gist.githubusercontent.com/bastings/4d1c346c68969b95f2c34cfbc00ba0a0/raw/76b4fefc9ef635a79d0d8002522543bc53ca2683/googlenews.word2vec.300d.txt"
      ]
    },
    {
      "cell_type": "code",
      "execution_count": 26,
      "metadata": {
        "cellView": "both",
        "id": "GXBITzPRQUQb",
        "outputId": "1e542219-36ff-44c2-85db-c63129eacb73",
        "colab": {
          "base_uri": "https://localhost:8080/"
        }
      },
      "outputs": [
        {
          "output_type": "stream",
          "name": "stdout",
          "text": [
            "Drive already mounted at /gdrive; to attempt to forcibly remount, call drive.mount(\"/gdrive\", force_remount=True).\n"
          ]
        }
      ],
      "source": [
        "# Mount Google Drive (to save the downloaded files)\n",
        "from google.colab import drive\n",
        "drive.mount('/gdrive')"
      ]
    },
    {
      "cell_type": "code",
      "execution_count": 27,
      "metadata": {
        "id": "uFvzPuiKSCbl"
      },
      "outputs": [],
      "source": [
        "# Copy word vectors *to* Google Drive\n",
        "\n",
        "# You only need to do this once.\n",
        "# Please comment this out after running it.\n",
        "!cp \"glove.840B.300d.sst.txt\" \"/gdrive/My Drive/\"\n",
        "!cp \"googlenews.word2vec.300d.txt\" \"/gdrive/My Drive/\""
      ]
    },
    {
      "cell_type": "code",
      "execution_count": 28,
      "metadata": {
        "id": "kUMH0bM6BuY9"
      },
      "outputs": [],
      "source": [
        "# If you copied the word vectors to your Drive before,\n",
        "# here is where you copy them back to the Colab notebook.\n",
        "\n",
        "# Copy Glove vectors *from* Google Drive\n",
        "!cp \"/gdrive/My Drive/glove.840B.300d.sst.txt\" .\n",
        "!cp \"/gdrive/My Drive/googlenews.word2vec.300d.txt\" ."
      ]
    },
    {
      "cell_type": "code",
      "execution_count": 29,
      "metadata": {
        "id": "xcpkoh6PIjfe"
      },
      "outputs": [],
      "source": [
        "# Uncomment these 2 lines below if went for the OPTIONAL method described above\n",
        "# !cp \"glove.840B.300d.sst.txt\" \"./\"\n",
        "# !cp \"googlenews.word2vec.300d.txt\" \"./\""
      ]
    },
    {
      "cell_type": "markdown",
      "metadata": {
        "id": "WIVCkUkE_IjR"
      },
      "source": [
        "#### Exercise: New Vocabulary\n",
        "\n",
        "Since we now use pre-trained word embeddings, we need to create a new vocabulary.\n",
        "This is because of two reasons:\n",
        "\n",
        "1. We do not have pre-trained word embeddings for all words in our SST training set, and we do not want words in our vocabulary for which we have no word embeddings.\n",
        "2. We should be able to look up the pre-trained word embedding for words in the validation and test set, even if these words are unseen in training.\n",
        "\n",
        "Now, create a new vocabulary object `v` based on the word set of pre-trained embeddings, and load the corresponding embeddings into a list `vectors`.\n",
        "\n",
        "The vocabulary `v` should consist of:\n",
        " - a  `<unk>` token at position 0,\n",
        " - a  `<pad>` token at position 1,\n",
        " - and then all words in the pre-trained embedding set.\n",
        "\n",
        "\n",
        "After storing each vector in a list `vectors`, turn the list into a numpy matrix like this:\n",
        "```python\n",
        " vectors = np.stack(vectors, axis=0)\n",
        "```\n",
        "\n",
        "Remember to add new embeddings for the `<unk>` and `<pad>` tokens, as they're not part of the word2vec/GloVe embeddings. These embeddings can be randomly initialized or 0-valued, think about what makes sense and see what the effects are.\n"
      ]
    },
    {
      "cell_type": "code",
      "source": [
        "class NewVocabulary:\n",
        "  \"\"\"A vocabulary, assigns IDs to tokens\"\"\"\n",
        "\n",
        "  def __init__(self):\n",
        "    self.w2i = {}\n",
        "    self.i2w = []\n",
        "\n",
        "  def add_token(self, t):\n",
        "    self.w2i[t] = len(self.w2i)\n",
        "    self.i2w.append(t)\n",
        "\n",
        "  def build(self):\n",
        "    self.add_token(\"<unk>\")  # reserve 0 for <unk>\n",
        "    self.add_token(\"<pad>\")  # reserve 1 for <pad>"
      ],
      "metadata": {
        "id": "UT2Hze-YUoOo"
      },
      "execution_count": 30,
      "outputs": []
    },
    {
      "cell_type": "code",
      "source": [
        "# YOUR CODE HERE\n",
        "# v =\n",
        "# vectors = ...\n",
        "v = NewVocabulary()\n",
        "v.build()\n",
        "vectors = [np.random.uniform(-0.01, 0.01, 300), np.zeros(300)]  # Random `<unk>` and zero `<pad>`\n",
        "\n",
        "with open(\"/gdrive/My Drive/googlenews.word2vec.300d.txt\", \"r\", encoding=\"utf-8\") as f:\n",
        "  for line in f:\n",
        "      word, *vector = line.split()\n",
        "      v.add_token(word)\n",
        "      vectors.append(np.array(vector, dtype=np.float32))\n",
        "# Convert vectors to numpy array\n",
        "vectors = np.stack(vectors, axis=0)\n",
        "\n",
        "print(\"New vocabulary size:\", len(v.w2i))"
      ],
      "metadata": {
        "id": "liOnxkedev4q",
        "outputId": "7ccdf91a-43b6-4cec-9163-7c3ce75b975d",
        "colab": {
          "base_uri": "https://localhost:8080/"
        }
      },
      "execution_count": 31,
      "outputs": [
        {
          "output_type": "stream",
          "name": "stdout",
          "text": [
            "New vocabulary size: 18922\n"
          ]
        }
      ]
    },
    {
      "cell_type": "markdown",
      "metadata": {
        "id": "xC-7mRyYNG9b"
      },
      "source": [
        "#### Exercise: words not in our pre-trained set\n",
        "\n",
        "How many words in the training, dev, and test set are also in your vector set?\n",
        "How many words are not there?\n",
        "\n",
        "Store the words that are not in the word vector set in the set below."
      ]
    },
    {
      "cell_type": "code",
      "execution_count": 32,
      "metadata": {
        "id": "K6MA3-wF_X5M",
        "outputId": "b033dc58-e6b5-4029-ebb5-42d1f4277a04",
        "colab": {
          "base_uri": "https://localhost:8080/"
        }
      },
      "outputs": [
        {
          "output_type": "stream",
          "name": "stdout",
          "text": [
            "2779\n"
          ]
        }
      ],
      "source": [
        "# Collect missing words\n",
        "\n",
        "words_not_found = set()\n",
        "\n",
        "for word_set in [train_data, dev_data, test_data]:\n",
        "    words = set(word for example in word_set for word in example.tokens)\n",
        "    words_not_found.update(words - set(v.i2w))\n",
        "\n",
        "#print(len(words))\n",
        "print(len(words_not_found))\n",
        "\n",
        "# YOUR CODE HERE"
      ]
    },
    {
      "cell_type": "markdown",
      "metadata": {
        "id": "g41yW4PL9jG0"
      },
      "source": [
        "# LSTM"
      ]
    },
    {
      "cell_type": "code",
      "execution_count": 33,
      "metadata": {
        "id": "zJ9m5kLMd7-v"
      },
      "outputs": [],
      "source": [
        "class MyLSTMCell(nn.Module):\n",
        "  \"\"\"Our own LSTM cell\"\"\"\n",
        "\n",
        "  def __init__(self, input_size, hidden_size, bias=True):\n",
        "    \"\"\"Creates the weights for this LSTM\"\"\"\n",
        "    super(MyLSTMCell, self).__init__()\n",
        "\n",
        "    self.input_size = input_size\n",
        "    self.hidden_size = hidden_size\n",
        "    self.bias = bias\n",
        "\n",
        "    # YOUR CODE HERE\n",
        "    # Weight matrices for input-to-hidden connections\n",
        "    # self.W_ih = nn.Parameter(torch.Tensor(hidden_size, input_size))\n",
        "    self.W_ii = nn.Parameter(torch.Tensor(hidden_size, input_size))\n",
        "    self.W_if = nn.Parameter(torch.Tensor(hidden_size, input_size))\n",
        "    self.W_ig = nn.Parameter(torch.Tensor(hidden_size, input_size))\n",
        "    self.W_io = nn.Parameter(torch.Tensor(hidden_size, input_size))\n",
        "\n",
        "    # Weight matrices for hidden-to-hidden connections\n",
        "    # self.W_hh = nn.Parameter(torch.Tensor(hidden_size, hidden_size))\n",
        "    self.W_hi = nn.Parameter(torch.Tensor(hidden_size, hidden_size))\n",
        "    self.W_hf = nn.Parameter(torch.Tensor(hidden_size, hidden_size))\n",
        "    self.W_hg = nn.Parameter(torch.Tensor(hidden_size, hidden_size))\n",
        "    self.W_ho = nn.Parameter(torch.Tensor(hidden_size, hidden_size))\n",
        "\n",
        "    # Bias vectors\n",
        "    # self.b = nn.Parameter(torch.Tensor(hidden_size))\n",
        "    self.b_ii = nn.Parameter(torch.Tensor(hidden_size))\n",
        "    self.b_if = nn.Parameter(torch.Tensor(hidden_size))\n",
        "    self.b_ig = nn.Parameter(torch.Tensor(hidden_size))\n",
        "    self.b_io = nn.Parameter(torch.Tensor(hidden_size))\n",
        "    self.b_hi = nn.Parameter(torch.Tensor(hidden_size))\n",
        "    self.b_hf = nn.Parameter(torch.Tensor(hidden_size))\n",
        "    self.b_hg = nn.Parameter(torch.Tensor(hidden_size))\n",
        "    self.b_ho = nn.Parameter(torch.Tensor(hidden_size))\n",
        "\n",
        "    self.reset_parameters()\n",
        "\n",
        "  def reset_parameters(self):\n",
        "    \"\"\"This is PyTorch's default initialization method\"\"\"\n",
        "    stdv = 1.0 / math.sqrt(self.hidden_size)\n",
        "    for weight in self.parameters():\n",
        "      weight.data.uniform_(-stdv, stdv)\n",
        "\n",
        "  def forward(self, input_, hx, mask=None):\n",
        "    \"\"\"\n",
        "    input is (batch, input_size)\n",
        "    hx is ((batch, hidden_size), (batch, hidden_size))\n",
        "    \"\"\"\n",
        "    prev_h, prev_c = hx\n",
        "\n",
        "    # project input and prev state\n",
        "    # YOUR CODE HERE\n",
        "\n",
        "    # raise NotImplementedError(\"Implement this\")\n",
        "\n",
        "    # main LSTM computation\n",
        "\n",
        "    # Project input and previous hidden state\n",
        "    i = torch.sigmoid(\n",
        "        torch.matmul(input_, self.W_ii.t()) + self.b_ii +\n",
        "        torch.matmul(prev_h, self.W_hi.t()) + self.b_hi\n",
        "    )  # Input gate\n",
        "\n",
        "    f = torch.sigmoid(\n",
        "        torch.matmul(input_, self.W_if.t()) + self.b_if +\n",
        "        torch.matmul(prev_h, self.W_hf.t()) + self.b_hf\n",
        "    )  # Forget gate\n",
        "    # print(b_ii)\n",
        "    # print(b_hi)\n",
        "\n",
        "    g = torch.tanh(\n",
        "        torch.matmul(input_, self.W_ig.t()) + self.b_ig +\n",
        "        torch.matmul(prev_h, self.W_hg.t()) + self.b_hg\n",
        "    )  # Candidate memory cell\n",
        "\n",
        "    o = torch.sigmoid(\n",
        "        torch.matmul(input_, self.W_io.t()) + self.b_io +\n",
        "        torch.matmul(prev_h, self.W_ho.t()) + self.b_ho\n",
        "    )  # Output gate\n",
        "\n",
        "    # Update the cell state\n",
        "    c = f * prev_c + i * g  # Cell state\n",
        "\n",
        "    # Update the hidden state\n",
        "    h = o * torch.tanh(c)  # Hidden state\n",
        "\n",
        "    return h, c\n",
        "\n",
        "  def __repr__(self):\n",
        "    return \"{}({:d}, {:d})\".format(\n",
        "        self.__class__.__name__, self.input_size, self.hidden_size)"
      ]
    },
    {
      "cell_type": "markdown",
      "metadata": {
        "id": "X9gA-UcqSBe0"
      },
      "source": [
        "#### LSTM Classifier\n",
        "\n",
        "Having an LSTM cell is not enough: we still need some code that calls it repeatedly, and then makes a prediction from the final hidden state.\n",
        "You will find that code below. Make sure that you understand it."
      ]
    },
    {
      "cell_type": "code",
      "execution_count": 34,
      "metadata": {
        "id": "3iuYZm5poEn5"
      },
      "outputs": [],
      "source": [
        "class LSTMClassifier(nn.Module):\n",
        "  \"\"\"Encodes sentence with an LSTM and projects final hidden state\"\"\"\n",
        "\n",
        "  def __init__(self, vocab_size, embedding_dim, hidden_dim, output_dim, vocab):\n",
        "    super(LSTMClassifier, self).__init__()\n",
        "    self.vocab = vocab\n",
        "    self.hidden_dim = hidden_dim\n",
        "    self.embed = nn.Embedding(vocab_size, embedding_dim, padding_idx=1)\n",
        "    self.rnn = MyLSTMCell(embedding_dim, hidden_dim)\n",
        "\n",
        "    self.output_layer = nn.Sequential(\n",
        "        nn.Dropout(p=0.5),  # explained later\n",
        "        nn.Linear(hidden_dim, output_dim)\n",
        "    )\n",
        "\n",
        "  def forward(self, x):\n",
        "\n",
        "    B = x.size(0)  # batch size (this is 1 for now, i.e. 1 single example)\n",
        "    T = x.size(1)  # timesteps (the number of words in the sentence)\n",
        "\n",
        "    input_ = self.embed(x)\n",
        "\n",
        "    # here we create initial hidden states containing zeros\n",
        "    # we use a trick here so that, if input is on the GPU, then so are hx and cx\n",
        "    hx = input_.new_zeros(B, self.rnn.hidden_size)\n",
        "    cx = input_.new_zeros(B, self.rnn.hidden_size)\n",
        "\n",
        "    # process input sentences one word/timestep at a time\n",
        "    # input is batch-major (i.e., batch size is the first dimension)\n",
        "    # so the first word(s) is (are) input_[:, 0]\n",
        "    outputs = []\n",
        "    for i in range(T):\n",
        "      hx, cx = self.rnn(input_[:, i], (hx, cx))\n",
        "      outputs.append(hx)\n",
        "\n",
        "    # if we have a single example, our final LSTM state is the last hx\n",
        "    if B == 1:\n",
        "      final = hx\n",
        "    else:\n",
        "      #\n",
        "      # This part is explained in next section, ignore this else-block for now.\n",
        "      #\n",
        "      # We processed sentences with different lengths, so some of the sentences\n",
        "      # had already finished and we have been adding padding inputs to hx.\n",
        "      # We select the final state based on the length of each sentence.\n",
        "\n",
        "      # two lines below not needed if using LSTM from pytorch\n",
        "      outputs = torch.stack(outputs, dim=0)           # [T, B, D]\n",
        "      outputs = outputs.transpose(0, 1).contiguous()  # [B, T, D]\n",
        "\n",
        "      # to be super-sure we're not accidentally indexing the wrong state\n",
        "      # we zero out positions that are invalid\n",
        "      pad_positions = (x == 1).unsqueeze(-1)\n",
        "\n",
        "      outputs = outputs.contiguous()\n",
        "      outputs = outputs.masked_fill_(pad_positions, 0.)\n",
        "\n",
        "      mask = (x != 1)  # true for valid positions [B, T]\n",
        "      lengths = mask.sum(dim=1)                 # [B, 1]\n",
        "\n",
        "      indexes = (lengths - 1) + torch.arange(B, device=x.device, dtype=x.dtype) * T\n",
        "      final = outputs.view(-1, self.hidden_dim)[indexes]  # [B, D]\n",
        "\n",
        "    # we use the last hidden state to classify the sentence\n",
        "    logits = self.output_layer(final)\n",
        "    return logits"
      ]
    },
    {
      "cell_type": "markdown",
      "metadata": {
        "id": "YEw6XHQY_AAQ"
      },
      "source": [
        "# Mini-batching\n",
        "\n"
      ]
    },
    {
      "cell_type": "code",
      "execution_count": 35,
      "metadata": {
        "id": "IoAE2JBiXJ3P"
      },
      "outputs": [],
      "source": [
        "def get_minibatch(data, batch_size=25, shuffle=True):\n",
        "  \"\"\"Return minibatches, optional shuffling\"\"\"\n",
        "\n",
        "  if shuffle:\n",
        "    print(\"Shuffling training data\")\n",
        "    random.shuffle(data)  # shuffle training data each epoch\n",
        "\n",
        "  batch = []\n",
        "\n",
        "  # yield minibatches\n",
        "  for example in data:\n",
        "    batch.append(example)\n",
        "\n",
        "    if len(batch) == batch_size:\n",
        "      yield batch\n",
        "      batch = []\n",
        "\n",
        "  # in case there is something left\n",
        "  if len(batch) > 0:\n",
        "    yield batch"
      ]
    },
    {
      "cell_type": "markdown",
      "metadata": {
        "id": "DwZM-XYkT8Zx"
      },
      "source": [
        "#### Padding function\n",
        "We will need a function that adds padding 1s to a sequence of IDs so that\n",
        "it becomes as long as the longest sequence in the minibatch."
      ]
    },
    {
      "cell_type": "code",
      "execution_count": 36,
      "metadata": {
        "id": "sp0sK1ghw4Ft",
        "outputId": "05a8f018-6ad8-4486-e0a5-afb235b8c9dc",
        "colab": {
          "base_uri": "https://localhost:8080/"
        }
      },
      "outputs": [
        {
          "output_type": "execute_result",
          "data": {
            "text/plain": [
              "[2, 3, 4, 1, 1]"
            ]
          },
          "metadata": {},
          "execution_count": 36
        }
      ],
      "source": [
        "def pad(tokens, length, pad_value=1):\n",
        "  \"\"\"add padding 1s to a sequence to that it has the desired length\"\"\"\n",
        "  return tokens + [pad_value] * (length - len(tokens))\n",
        "\n",
        "# example\n",
        "tokens = [2, 3, 4]\n",
        "pad(tokens, 5)"
      ]
    },
    {
      "cell_type": "markdown",
      "metadata": {
        "id": "SL2iixMYUgfh"
      },
      "source": [
        "#### New `prepare` function\n",
        "\n",
        "We will also need a new function that turns a mini-batch into PyTorch tensors."
      ]
    },
    {
      "cell_type": "code",
      "execution_count": 37,
      "metadata": {
        "id": "ZID0cqozWks8"
      },
      "outputs": [],
      "source": [
        "def prepare_minibatch(mb, vocab):\n",
        "  \"\"\"\n",
        "  Minibatch is a list of examples.\n",
        "  This function converts words to IDs and returns\n",
        "  torch tensors to be used as input/targets.\n",
        "  \"\"\"\n",
        "  batch_size = len(mb)\n",
        "  maxlen = max([len(ex.tokens) for ex in mb])\n",
        "\n",
        "  # vocab returns 0 if the word is not there\n",
        "  x = [pad([vocab.w2i.get(t, 0) for t in ex.tokens], maxlen) for ex in mb]\n",
        "\n",
        "  x = torch.LongTensor(x)\n",
        "  x = x.to(device)\n",
        "\n",
        "  y = [ex.label for ex in mb]\n",
        "  y = torch.LongTensor(y)\n",
        "  y = y.to(device)\n",
        "\n",
        "  return x, y"
      ]
    },
    {
      "cell_type": "code",
      "execution_count": 38,
      "metadata": {
        "id": "OwDAtCv1x2hB",
        "outputId": "63ce69f5-7534-414f-b5ac-72f849df3db7",
        "colab": {
          "base_uri": "https://localhost:8080/"
        }
      },
      "outputs": [
        {
          "output_type": "stream",
          "name": "stdout",
          "text": [
            "Example(tokens=['The', 'Rock', 'is', 'destined', 'to', 'be', 'the', '21st', 'Century', \"'s\", 'new', '``', 'Conan', \"''\", 'and', 'that', 'he', \"'s\", 'going', 'to', 'make', 'a', 'splash', 'even', 'greater', 'than', 'Arnold', 'Schwarzenegger', ',', 'Jean-Claud', 'Van', 'Damme', 'or', 'Steven', 'Segal', '.'], tree=Tree('3', [Tree('2', [Tree('2', ['The']), Tree('2', ['Rock'])]), Tree('4', [Tree('3', [Tree('2', ['is']), Tree('4', [Tree('2', ['destined']), Tree('2', [Tree('2', [Tree('2', [Tree('2', [Tree('2', ['to']), Tree('2', [Tree('2', ['be']), Tree('2', [Tree('2', ['the']), Tree('2', [Tree('2', ['21st']), Tree('2', [Tree('2', [Tree('2', ['Century']), Tree('2', [\"'s\"])]), Tree('2', [Tree('3', ['new']), Tree('2', [Tree('2', ['``']), Tree('2', ['Conan'])])])])])])])]), Tree('2', [\"''\"])]), Tree('2', ['and'])]), Tree('3', [Tree('2', ['that']), Tree('3', [Tree('2', ['he']), Tree('3', [Tree('2', [\"'s\"]), Tree('3', [Tree('2', ['going']), Tree('3', [Tree('2', ['to']), Tree('4', [Tree('3', [Tree('2', ['make']), Tree('3', [Tree('3', [Tree('2', ['a']), Tree('3', ['splash'])]), Tree('2', [Tree('2', ['even']), Tree('3', ['greater'])])])]), Tree('2', [Tree('2', ['than']), Tree('2', [Tree('2', [Tree('2', [Tree('2', [Tree('1', [Tree('2', ['Arnold']), Tree('2', ['Schwarzenegger'])]), Tree('2', [','])]), Tree('2', [Tree('2', ['Jean-Claud']), Tree('2', [Tree('2', ['Van']), Tree('2', ['Damme'])])])]), Tree('2', ['or'])]), Tree('2', [Tree('2', ['Steven']), Tree('2', ['Segal'])])])])])])])])])])])])]), Tree('2', ['.'])])]), label=3, transitions=[0, 0, 1, 0, 0, 0, 0, 0, 0, 0, 0, 1, 0, 0, 0, 1, 1, 1, 1, 1, 1, 1, 0, 1, 0, 1, 0, 0, 0, 0, 0, 0, 0, 0, 1, 0, 0, 1, 1, 1, 0, 0, 0, 1, 0, 1, 0, 0, 0, 1, 1, 1, 0, 1, 0, 0, 1, 1, 1, 1, 1, 1, 1, 1, 1, 1, 1, 1, 0, 1, 1])\n",
            "Example(tokens=['The', 'gorgeously', 'elaborate', 'continuation', 'of', '``', 'The', 'Lord', 'of', 'the', 'Rings', \"''\", 'trilogy', 'is', 'so', 'huge', 'that', 'a', 'column', 'of', 'words', 'can', 'not', 'adequately', 'describe', 'co-writer/director', 'Peter', 'Jackson', \"'s\", 'expanded', 'vision', 'of', 'J.R.R.', 'Tolkien', \"'s\", 'Middle-earth', '.'], tree=Tree('4', [Tree('4', [Tree('4', [Tree('2', ['The']), Tree('4', [Tree('3', ['gorgeously']), Tree('3', [Tree('2', ['elaborate']), Tree('2', ['continuation'])])])]), Tree('2', [Tree('2', [Tree('2', ['of']), Tree('2', ['``'])]), Tree('2', [Tree('2', ['The']), Tree('2', [Tree('2', [Tree('2', ['Lord']), Tree('2', [Tree('2', ['of']), Tree('2', [Tree('2', ['the']), Tree('2', ['Rings'])])])]), Tree('2', [Tree('2', [\"''\"]), Tree('2', ['trilogy'])])])])])]), Tree('2', [Tree('3', [Tree('2', [Tree('2', ['is']), Tree('2', [Tree('2', ['so']), Tree('2', ['huge'])])]), Tree('2', [Tree('2', ['that']), Tree('3', [Tree('2', [Tree('2', [Tree('2', ['a']), Tree('2', ['column'])]), Tree('2', [Tree('2', ['of']), Tree('2', ['words'])])]), Tree('2', [Tree('2', [Tree('2', [Tree('2', ['can']), Tree('1', ['not'])]), Tree('3', ['adequately'])]), Tree('2', [Tree('2', ['describe']), Tree('2', [Tree('3', [Tree('2', [Tree('2', ['co-writer/director']), Tree('2', [Tree('2', ['Peter']), Tree('3', [Tree('2', ['Jackson']), Tree('2', [\"'s\"])])])]), Tree('3', [Tree('2', ['expanded']), Tree('2', ['vision'])])]), Tree('2', [Tree('2', ['of']), Tree('2', [Tree('2', [Tree('2', ['J.R.R.']), Tree('2', [Tree('2', ['Tolkien']), Tree('2', [\"'s\"])])]), Tree('2', ['Middle-earth'])])])])])])])])]), Tree('2', ['.'])])]), label=4, transitions=[0, 0, 0, 0, 1, 1, 1, 0, 0, 1, 0, 0, 0, 0, 0, 1, 1, 1, 0, 0, 1, 1, 1, 1, 1, 0, 0, 0, 1, 1, 0, 0, 0, 1, 0, 0, 1, 1, 0, 0, 1, 0, 1, 0, 0, 0, 0, 0, 1, 1, 1, 0, 0, 1, 1, 0, 0, 0, 0, 1, 1, 0, 1, 1, 1, 1, 1, 1, 1, 1, 0, 1, 1])\n",
            "Example(tokens=['Singer/composer', 'Bryan', 'Adams', 'contributes', 'a', 'slew', 'of', 'songs', '--', 'a', 'few', 'potential', 'hits', ',', 'a', 'few', 'more', 'simply', 'intrusive', 'to', 'the', 'story', '--', 'but', 'the', 'whole', 'package', 'certainly', 'captures', 'the', 'intended', ',', 'er', ',', 'spirit', 'of', 'the', 'piece', '.'], tree=Tree('3', [Tree('3', [Tree('2', [Tree('2', [Tree('2', [Tree('2', [Tree('2', ['Singer/composer']), Tree('2', [Tree('2', ['Bryan']), Tree('2', ['Adams'])])]), Tree('2', [Tree('2', ['contributes']), Tree('2', [Tree('2', [Tree('2', ['a']), Tree('2', ['slew'])]), Tree('2', [Tree('2', ['of']), Tree('2', ['songs'])])])])]), Tree('2', [Tree('2', ['--']), Tree('2', [Tree('2', [Tree('2', [Tree('2', ['a']), Tree('2', [Tree('2', ['few']), Tree('3', ['potential'])])]), Tree('2', [Tree('2', [Tree('2', ['hits']), Tree('2', [','])]), Tree('2', [Tree('2', [Tree('2', ['a']), Tree('2', ['few'])]), Tree('1', [Tree('1', [Tree('2', ['more']), Tree('1', [Tree('2', ['simply']), Tree('2', ['intrusive'])])]), Tree('2', [Tree('2', ['to']), Tree('2', [Tree('2', ['the']), Tree('2', ['story'])])])])])])]), Tree('2', ['--'])])])]), Tree('2', ['but'])]), Tree('3', [Tree('4', [Tree('2', ['the']), Tree('3', [Tree('2', ['whole']), Tree('2', ['package'])])]), Tree('2', [Tree('3', ['certainly']), Tree('3', [Tree('2', ['captures']), Tree('2', [Tree('1', [Tree('2', ['the']), Tree('2', [Tree('2', [Tree('2', ['intended']), Tree('2', [Tree('2', [',']), Tree('2', [Tree('2', ['er']), Tree('2', [','])])])]), Tree('3', ['spirit'])])]), Tree('2', [Tree('2', ['of']), Tree('2', [Tree('2', ['the']), Tree('2', ['piece'])])])])])])])]), Tree('2', ['.'])]), label=3, transitions=[0, 0, 0, 1, 1, 0, 0, 0, 1, 0, 0, 1, 1, 1, 1, 0, 0, 0, 0, 1, 1, 0, 0, 1, 0, 0, 1, 0, 0, 0, 1, 1, 0, 0, 0, 1, 1, 1, 1, 1, 1, 0, 1, 1, 1, 0, 1, 0, 0, 0, 1, 1, 0, 0, 0, 0, 0, 0, 0, 1, 1, 1, 0, 1, 1, 0, 0, 0, 1, 1, 1, 1, 1, 1, 1, 0, 1])\n"
          ]
        }
      ],
      "source": [
        "# Let's test our new function.\n",
        "# This should give us 3 examples.\n",
        "mb = next(get_minibatch(train_data, batch_size=3, shuffle=False))\n",
        "for ex in mb:\n",
        "  print(ex)"
      ]
    },
    {
      "cell_type": "code",
      "execution_count": 39,
      "metadata": {
        "id": "dg8zEK8zyUCH",
        "outputId": "bce0c314-8009-433a-b208-835869f761eb",
        "colab": {
          "base_uri": "https://localhost:8080/"
        }
      },
      "outputs": [
        {
          "output_type": "stream",
          "name": "stdout",
          "text": [
            "x tensor([[    7,  2859,     5,  6371,     0,    16,    11,     0,  5692,     0,\n",
            "            63,     0, 10539,     0,     0,     4,    22,     0,   120,     0,\n",
            "           105,     0,  7353,   149,  1293,    58,  5253,  4871,     0,     0,\n",
            "          6320, 18377,    28,  3325, 10866,     0,     1,     1,     1],\n",
            "        [    7, 15627,  4596,  6453,     0,     0,     7,  3404,     0,    11,\n",
            "          8913,     0,  9777,     5,    83,   913,     4,     0,  2974,     0,\n",
            "          1071,    48,    13,  5992,  3454, 18481,  1646,  1081,     0,  2431,\n",
            "          2201,     0,     0, 14081,     0,     0,     0,     1,     1],\n",
            "        [    0,  4202,  2907,  6524,     0,  6895,     0,  2014,     0,     0,\n",
            "           261,   602,   925,     0,     0,   261,    38,  1080,  9346,     0,\n",
            "            11,   511,     0,    32,    11,   806,  1714,  1172,  7027,    11,\n",
            "          1993,     0,  9494,     0,  2688,     0,    11,  1608,     0]],\n",
            "       device='cuda:0')\n",
            "y tensor([3, 4, 3], device='cuda:0')\n"
          ]
        }
      ],
      "source": [
        "# We should find padding 1s at the end\n",
        "x, y = prepare_minibatch(mb, v)\n",
        "print(\"x\", x)\n",
        "print(\"y\", y)"
      ]
    },
    {
      "cell_type": "markdown",
      "metadata": {
        "id": "xYBJEoSNUwI0"
      },
      "source": [
        "#### Evaluate (mini-batch version)\n",
        "\n",
        "We can now update our evaluation function to use mini-batches"
      ]
    },
    {
      "cell_type": "code",
      "execution_count": 40,
      "metadata": {
        "id": "eiZZpEghzqou"
      },
      "outputs": [],
      "source": [
        "def evaluate(model, data,\n",
        "             batch_fn=get_minibatch, prep_fn=prepare_minibatch,\n",
        "             batch_size=16):\n",
        "  \"\"\"Accuracy of a model on given data set (using mini-batches)\"\"\"\n",
        "  correct = 0\n",
        "  total = 0\n",
        "  model.eval()  # disable dropout\n",
        "\n",
        "  for mb in batch_fn(data, batch_size=batch_size, shuffle=False):\n",
        "    x, targets = prep_fn(mb, model.vocab)\n",
        "    with torch.no_grad():\n",
        "      logits = model(x)\n",
        "\n",
        "    predictions = logits.argmax(dim=-1).view(-1)\n",
        "\n",
        "    # add the number of correct predictions to the total correct\n",
        "    correct += (predictions == targets.view(-1)).sum().item()\n",
        "    total += targets.size(0)\n",
        "\n",
        "  return correct, total, correct / float(total)"
      ]
    },
    {
      "cell_type": "markdown",
      "metadata": {
        "id": "q7WjcxXntMi5"
      },
      "source": [
        "# Tree-LSTM"
      ]
    },
    {
      "cell_type": "markdown",
      "metadata": {
        "id": "jyj_UD6GtO5M"
      },
      "source": [
        "In the final part of this lab we will exploit the tree structure of the SST data.\n",
        "Until now we only used the surface tokens, but remember that our data examples include binary trees with a sentiment score at every node.\n",
        "\n",
        "In particular, we will implement **N-ary Tree-LSTMs** which are described in:\n",
        "\n",
        "> Kai Sheng Tai, Richard Socher, and Christopher D. Manning. [Improved Semantic Representations From Tree-Structured Long Short-Term Memory Networks](http://aclweb.org/anthology/P/P15/P15-1150.pdf) ACL 2015.\n",
        "\n",
        "Since our trees are binary (i.e., N=2), we can refer to these as *Binary Tree-LSTMs*. If you study equations (9) to (14) in the paper, you will find that they are not all too different from the original LSTM that you already have.\n",
        "\n",
        "You should read this paper carefully and make sure that you understand the approach. You will also find our LSTM baseline there.\n",
        "Note however that Tree-LSTMs were proposed around the same time by two other groups:\n",
        "\n",
        "> Phong Le and Willem Zuidema. [Compositional distributional semantics with long short term memory](http://anthology.aclweb.org/S/S15/S15-1002.pdf). *SEM 2015.\n",
        "\n",
        "> Xiaodan Zhu, Parinaz Sobihani,  and Hongyu Guo. [Long short-term memory over recursive structures](http://proceedings.mlr.press/v37/zhub15.pdf). ICML 2015.\n",
        "\n",
        "It is good scientific practice to cite all three papers in your report.\n",
        "\n",
        "\n"
      ]
    },
    {
      "cell_type": "markdown",
      "metadata": {
        "id": "1rDzvSos3JFp"
      },
      "source": [
        "## Computation\n",
        "\n",
        "Do you remember the `transitions_from_treestring` function all the way in the beginning of this lab? Every example contains a **transition sequence** produced by this function. Let's look at it again:\n",
        "\n"
      ]
    },
    {
      "cell_type": "markdown",
      "metadata": {
        "id": "ceBFe9fU4BI_"
      },
      "source": [
        "Note that the tree is **binary**. Every node has two children, except for pre-terminal nodes.\n",
        "\n",
        "A tree like this can be described by a sequence of **SHIFT (0)** and **REDUCE (1)** actions.\n",
        "\n",
        "To construct a tree, we can use the transitions as follows:\n",
        "- **reverse** the sentence (a list of tokens) and call this the **buffer**\n",
        "   - the first word is now on top (last in the list), and we would get it when calling pop() on the buffer\n",
        "- create an empty list and call it the **stack**\n",
        "- iterate through the transition sequence:\n",
        "  - if it says SHIFT(0), we pop a word from the buffer, and push it to the stack\n",
        "  - if it says REDUCE(1), we pop the **top two items** from the stack, and combine them (e.g. with a Tree-LSTM!), creating a new node that we push back on the stack\n",
        "  \n",
        "Convince yourself that going through the transition sequence above will result in the tree that you see.\n",
        "For example, we would start by putting the following words on the stack (by shifting 5 times, starting with `It`):\n",
        "\n",
        "```\n",
        "Top of the stack:\n",
        "-----------------\n",
        "film\n",
        "lovely\n",
        "a\n",
        "'s  \n",
        "It\n",
        "```\n",
        "Now we find a REDUCE in the transition sequence, so we get the top two words (film and lovely), and combine them, so our new stack becomes:\n",
        "```\n",
        "Top of the stack:\n",
        "-----------------\n",
        "lovely film\n",
        "a\n",
        "'s  \n",
        "It\n",
        "```\n",
        "\n",
        "We will use this approach when encoding sentences with our Tree-LSTM.\n",
        "Now, our sentence is a reversed list of word embeddings.\n",
        "When we shift, we move a word embedding to the stack.\n",
        "When we reduce, we apply the Tree-LSTM to the top two vectors, and the result is a single vector that we put back on the stack.\n",
        "After going through the whole transition sequence, we will have the root node on our stack! We can use that to classify the sentence.\n",
        "\n"
      ]
    },
    {
      "cell_type": "markdown",
      "metadata": {
        "id": "pDWKShm1AfmR"
      },
      "source": [
        "## Obtaining the transition sequence\n"
      ]
    },
    {
      "cell_type": "markdown",
      "metadata": {
        "id": "fO7VKWVpAbWj"
      },
      "source": [
        "\n",
        "So what goes on in the `transitions_from_treestring` function?\n",
        "\n",
        "The idea ([explained in this blog post](https://devblogs.nvidia.com/recursive-neural-networks-pytorch/)) is that, if we had a tree, we could traverse through the tree, and every time that we find a node containing only a word, we output a SHIFT.\n",
        "Every time **after** we have finished visiting the children of a node, we output a REDUCE.\n",
        "(What is this tree traversal called?)\n",
        "\n",
        "However, our `transitions_from_treestring` function operates directly on the string representation. It works as follows.\n",
        "\n",
        "We start with the representation:\n",
        "\n",
        "```\n",
        "(3 (2 It) (4 (4 (2 's) (4 (3 (2 a) (4 (3 lovely) (2 film))) (3 (2 with) (4 (3 (3 lovely) (2 performances)) (2 (2 by) (2 (2 (2 Buy) (2 and)) (2 Accorsi))))))) (2 .)))\n",
        "```\n",
        "\n",
        "First we remove pre-terminal nodes (and add spaces before closing brackets):\n",
        "\n",
        "```\n",
        "(3 It (4 (4 's (4 (3 a (4 lovely film ) ) (3 with (4 (3 lovely performances ) (2 by (2 (2 Buy and )  Accorsi ) ) ) ) ) ) . ) )\n",
        "```\n",
        "\n",
        "Then we remove node labels:\n",
        "\n",
        "```\n",
        "( It ( ( 's ( ( a ( lovely film ) ) ( with ( ( lovely performances) ( by ( ( Buy and )  Accorsi ) ) ) ) ) ) . ) )\n",
        "```\n",
        "\n",
        "Then we remove opening brackets:\n",
        "\n",
        "```\n",
        "It 's a lovely film ) ) with lovely performances ) by Buy and ) Accorsi ) ) ) ) ) ) . ) )\n",
        "```\n",
        "\n",
        "Now we replace words by S (for SHIFT), and closing brackets by R (for REDUCE):\n",
        "\n",
        "```\n",
        "S S S S S R R S S S R S S S R S R R R R R R S R R\n",
        "0 0 0 0 0 1 1 0 0 0 1 0 0 0 1 0 1 1 1 1 1 1 0 1 1\n",
        "```\n",
        "\n",
        "Et voilà. We just obtained the transition sequence!"
      ]
    },
    {
      "cell_type": "code",
      "execution_count": 41,
      "metadata": {
        "id": "1y069gM4_v64",
        "outputId": "812b5579-b7df-45b2-b047-09e1d40deada",
        "colab": {
          "base_uri": "https://localhost:8080/"
        }
      },
      "outputs": [
        {
          "output_type": "stream",
          "name": "stdout",
          "text": [
            "S S S R R S S S R S S R R R R S S S S R R S S R S S R S S S R R S S S R R R R R R S R R R S R S S S R R S S S S S S S R R R S R R S S S R R R R R R R S R\n",
            "0 0 0 1 1 0 0 0 1 0 0 1 1 1 1 0 0 0 0 1 1 0 0 1 0 0 1 0 0 0 1 1 0 0 0 1 1 1 1 1 1 0 1 1 1 0 1 0 0 0 1 1 0 0 0 0 0 0 0 1 1 1 0 1 1 0 0 0 1 1 1 1 1 1 1 0 1\n"
          ]
        }
      ],
      "source": [
        "# for comparison\n",
        "seq = ex.transitions\n",
        "s = \" \".join([\"S\" if t == 0 else \"R\" for t in seq])\n",
        "print(s)\n",
        "print(\" \".join(map(str, seq)))"
      ]
    },
    {
      "cell_type": "markdown",
      "metadata": {
        "id": "d-qOuKbDAiBn"
      },
      "source": [
        "## Coding the Tree-LSTM\n",
        "\n",
        "The code below contains a Binary Tree-LSTM cell.\n",
        "It is used in the TreeLSTM class below it, which in turn is used in the TreeLSTMClassifier.\n",
        "The job of the TreeLSTM class is to encode a complete sentence and return the root node.\n",
        "The job of the TreeLSTMCell is to return a new state when provided with two children (a reduce action). By repeatedly calling the TreeLSTMCell, the TreeLSTM will encode a sentence. This can be done for multiple sentences at the same time.\n",
        "\n",
        "\n",
        "#### Exercise\n",
        "Check the `forward` function and complete the Tree-LSTM formulas.\n",
        "You can see that we defined a large linear layer for you, that projects the *concatenation* of the left and right child into the input gate, left forget gate, right forget gate, candidate, and output gate."
      ]
    },
    {
      "cell_type": "code",
      "source": [
        "def train_model(model, optimizer, num_iterations=10000,\n",
        "                print_every=1000, eval_every=1000,\n",
        "                batch_fn=get_examples,\n",
        "                prep_fn=prepare_example,\n",
        "                eval_fn=simple_evaluate,\n",
        "                batch_size=1, eval_batch_size=None):\n",
        "  \"\"\"Train a model.\"\"\"\n",
        "  iter_i = 0\n",
        "  train_loss = 0.\n",
        "  print_num = 0\n",
        "  start = time.time()\n",
        "  criterion = nn.CrossEntropyLoss() # loss function\n",
        "  best_eval = 0.\n",
        "  best_iter = 0\n",
        "\n",
        "  # store train loss and validation accuracy during training\n",
        "  # so we can plot them afterwards\n",
        "  losses = []\n",
        "  accuracies = []\n",
        "\n",
        "  if eval_batch_size is None:\n",
        "    eval_batch_size = batch_size\n",
        "\n",
        "  while True:  # when we run out of examples, shuffle and continue\n",
        "    for batch in batch_fn(train_data, batch_size=batch_size):\n",
        "\n",
        "      # forward pass\n",
        "      model.train()\n",
        "      x, targets = prep_fn(batch, model.vocab)\n",
        "      logits = model(x)\n",
        "\n",
        "      B = targets.size(0)  # later we will use B examples per update\n",
        "\n",
        "      # compute cross-entropy loss (our criterion)\n",
        "      # note that the cross entropy loss function computes the softmax for us\n",
        "      loss = criterion(logits.view([B, -1]), targets.view(-1))\n",
        "      train_loss += loss.item()\n",
        "\n",
        "      # backward pass (tip: check the Introduction to PyTorch notebook)\n",
        "\n",
        "      # erase previous gradients\n",
        "      optimizer.zero_grad()\n",
        "\n",
        "      # compute gradients\n",
        "      loss.backward()\n",
        "      # YOUR CODE HERE\n",
        "\n",
        "      # update weights - take a small step in the opposite dir of the gradient\n",
        "      optimizer.step()\n",
        "      # YOUR CODE HERE\n",
        "\n",
        "      print_num += 1\n",
        "      iter_i += 1\n",
        "\n",
        "      # print info\n",
        "      if iter_i % print_every == 0:\n",
        "        print(\"Iter %r: loss=%.4f, time=%.2fs\" %\n",
        "              (iter_i, train_loss, time.time()-start))\n",
        "        losses.append(train_loss)\n",
        "        print_num = 0\n",
        "        train_loss = 0.\n",
        "\n",
        "      # evaluate\n",
        "      if iter_i % eval_every == 0:\n",
        "        _, _, accuracy = eval_fn(model, dev_data, batch_size=eval_batch_size,\n",
        "                                 batch_fn=batch_fn, prep_fn=prep_fn)\n",
        "        accuracies.append(accuracy)\n",
        "        print(\"iter %r: dev acc=%.4f\" % (iter_i, accuracy))\n",
        "\n",
        "        # save best model parameters\n",
        "        if accuracy > best_eval:\n",
        "          print(\"new highscore\")\n",
        "          best_eval = accuracy\n",
        "          best_iter = iter_i\n",
        "          path = \"{}.pt\".format(model.__class__.__name__)\n",
        "          ckpt = {\n",
        "              \"state_dict\": model.state_dict(),\n",
        "              \"optimizer_state_dict\": optimizer.state_dict(),\n",
        "              \"best_eval\": best_eval,\n",
        "              \"best_iter\": best_iter\n",
        "          }\n",
        "          torch.save(ckpt, path)\n",
        "\n",
        "      # done training\n",
        "      if iter_i == num_iterations:\n",
        "        print(\"Done training\")\n",
        "\n",
        "        # evaluate on train, dev, and test with best model\n",
        "        print(\"Loading best model\")\n",
        "        path = \"{}.pt\".format(model.__class__.__name__)\n",
        "        ckpt = torch.load(path)\n",
        "        model.load_state_dict(ckpt[\"state_dict\"])\n",
        "\n",
        "        _, _, train_acc = eval_fn(\n",
        "            model, train_data, batch_size=eval_batch_size,\n",
        "            batch_fn=batch_fn, prep_fn=prep_fn)\n",
        "        _, _, dev_acc = eval_fn(\n",
        "            model, dev_data, batch_size=eval_batch_size,\n",
        "            batch_fn=batch_fn, prep_fn=prep_fn)\n",
        "        _, _, test_acc = eval_fn(\n",
        "            model, test_data, batch_size=eval_batch_size,\n",
        "            batch_fn=batch_fn, prep_fn=prep_fn)\n",
        "\n",
        "        print(\"best model iter {:d}: \"\n",
        "              \"train acc={:.4f}, dev acc={:.4f}, test acc={:.4f}\".format(\n",
        "                  best_iter, train_acc, dev_acc, test_acc))\n",
        "\n",
        "        return losses, accuracies"
      ],
      "metadata": {
        "id": "8493ysjD4SYd"
      },
      "execution_count": 42,
      "outputs": []
    },
    {
      "cell_type": "code",
      "execution_count": 43,
      "metadata": {
        "id": "J9b9mjMlN7Pb"
      },
      "outputs": [],
      "source": [
        "class TreeLSTMCell(nn.Module):\n",
        "  \"\"\"A Binary Tree LSTM cell\"\"\"\n",
        "\n",
        "  def __init__(self, input_size, hidden_size, bias=True):\n",
        "    \"\"\"Creates the weights for this LSTM\"\"\"\n",
        "    super(TreeLSTMCell, self).__init__()\n",
        "\n",
        "    self.input_size = input_size\n",
        "    self.hidden_size = hidden_size\n",
        "    self.bias = bias\n",
        "\n",
        "    self.reduce_layer = nn.Linear(2 * hidden_size, 5 * hidden_size)\n",
        "    self.dropout_layer = nn.Dropout(p=0.25)\n",
        "\n",
        "    self.reset_parameters()\n",
        "\n",
        "  def reset_parameters(self):\n",
        "    \"\"\"This is PyTorch's default initialization method\"\"\"\n",
        "    stdv = 1.0 / math.sqrt(self.hidden_size)\n",
        "    for weight in self.parameters():\n",
        "      weight.data.uniform_(-stdv, stdv)\n",
        "\n",
        "  def forward(self, hx_l, hx_r, mask=None):\n",
        "    \"\"\"\n",
        "    hx_l is ((batch, hidden_size), (batch, hidden_size))\n",
        "    hx_r is ((batch, hidden_size), (batch, hidden_size))\n",
        "    \"\"\"\n",
        "    prev_h_l, prev_c_l = hx_l  # left child\n",
        "    prev_h_r, prev_c_r = hx_r  # right child\n",
        "\n",
        "    B = prev_h_l.size(0)\n",
        "\n",
        "    # we concatenate the left and right children\n",
        "    # you can also project from them separately and then sum\n",
        "    children = torch.cat([prev_h_l, prev_h_r], dim=1)\n",
        "\n",
        "    # project the combined children into a 5D tensor for i,fl,fr,g,o\n",
        "    # this is done for speed, and you could also do it separately\n",
        "    proj = self.reduce_layer(children)  # shape: B x 5D\n",
        "\n",
        "    # each shape: B x D\n",
        "    i, f_l, f_r, g, o = torch.chunk(proj, 5, dim=-1)\n",
        "\n",
        "    # main Tree LSTM computation\n",
        "\n",
        "    # YOUR CODE HERE\n",
        "    # You only need to complete the commented lines below.\n",
        "\n",
        "    # The shape of each of these is [batch_size, hidden_size]\n",
        "\n",
        "    i = torch.sigmoid(i)\n",
        "    f_l = torch.sigmoid(f_l)\n",
        "    f_r = torch.sigmoid(f_r)\n",
        "    g = torch.tanh(g)\n",
        "    o = torch.sigmoid(o)\n",
        "\n",
        "    c = i * g + f_l * prev_c_l + f_r * prev_c_r\n",
        "    h = o * torch.tanh(c)\n",
        "\n",
        "    return h, c\n",
        "\n",
        "  def __repr__(self):\n",
        "    return \"{}({:d}, {:d})\".format(\n",
        "        self.__class__.__name__, self.input_size, self.hidden_size)"
      ]
    },
    {
      "cell_type": "markdown",
      "metadata": {
        "id": "Dj5dYSGh_643"
      },
      "source": [
        "## Explanation of the TreeLSTM class\n",
        "\n",
        "\n",
        "The code below contains the TreeLSTM class, which implements everything we need in order to encode a sentence from word embeddings. The calculations are the same as in the paper, implemented such that the class `TreeLSTMCell` above is as general as possible and only takes two children to reduce them into a parent.\n",
        "\n",
        "\n",
        "**Initialize $\\mathbf{h}$ and $\\mathbf{c}$ outside of the cell for the leaves**\n",
        "\n",
        "At the leaves of each tree the children nodes are **empty**, whereas in higher levels the nodes are binary tree nodes that *do* have a left and right child (but no input $x$). By initializing the leaf nodes outside of the cell class (`TreeLSTMCell`), we avoid if-else statements in the forward pass.\n",
        "\n",
        "The `TreeLSTM` class (among other things) pre-calculates an initial $h$ and $c$ for every word in the sentence. Since the initial left and right child are 0, the only calculations we need to do are based on $x$, and we can drop the forget gate calculation (`prev_c_l` and `prev_c_r` are zero). The calculations we do in order to initalize $h$ and $c$ are then:\n",
        "\n",
        "$$\n",
        "c_1 =  W^{(u)}x_1 \\\\\n",
        "o_1 = \\sigma (W^{(i)}x_1) \\\\\n",
        "h_1 = o_1 \\odot \\text{tanh}(c_1)$$\n",
        "*NB: note that these equations are chosen as initializations of $c$ and $h$, other initializations are possible and might work equally well.*\n",
        "\n",
        "**Sentence Representations**\n",
        "\n",
        "All our leaf nodes are now initialized, so we can start processing the sentence in its tree form. Each sentence is represented by a buffer (initially a list with a concatenation of $[h_1, c_1]$ for every word in the reversed sentence), a stack (initially an empty list) and a transition sequence. To encode our sentence, we construct the tree from its transition sequence as explained earlier.\n",
        "\n",
        "*A short example that constructs a tree:*\n",
        "\n",
        "We loop over the time dimension of the batched transition sequences (i.e. row by row), which contain values of 0's, 1's and 2's (representing SHIFT, REDUCE and padding respectively). If we have a batch of size 2 where the first example has a transition sequence given by [0, 0, 1, 0, 0, 0, 1] and the second by [0, 0, 1, 0, 0, 1], our transition batch will be given by the following two-dimensional numpy array:\n",
        "\n",
        "$$\n",
        "\\text{transitions} =\n",
        "\\begin{pmatrix}\n",
        "0 & 0\\\\\n",
        "0 & 0\\\\\n",
        "1 & 1\\\\\n",
        "0 & 0\\\\\n",
        "0 & 0\\\\\n",
        "0 & 1\\\\\n",
        "1 & 2\n",
        "\\end{pmatrix}\n",
        "$$\n",
        "The inner loop (`for transition, buffer, stack in zip(t_batch, buffers, stacks)`) goes over each example in the batch and updates its buffer and stack. The nested loop for this example will then do roughy the following:\n",
        "\n",
        "```\n",
        "Time = 0:  t_batch = [0, 0], the inner loop performs 2 SHIFTs.\n",
        "\n",
        "Time = 1:  t_batch = [0, 0], \"..\"\n",
        "\n",
        "Time = 2:  t_batch = [1, 1], causing the inner loop to fill the list child_l and child_r for both examples in the batch. Now the statement if child_l will return True, triggering a REDUCE action to be performed by our Tree LSTM cell with a batch size of 2.\n",
        "\n",
        "Time = 3:  t_batch = [0, 0], \"..\".\n",
        "\n",
        "Time = 4:  t_batch = [0, 0], \"..\"\n",
        "\n",
        "Time = 5:  t_batch = [0, 1], one SHIFT will be done and another REDUCE action will be performed by our Tree LSTM, this time of batch size 1.  \n",
        "\n",
        "Time = 6:  t_batch = [1, 2], triggering another REDUCE action with batch size 1.\n",
        "```\n",
        "*NB: note that this was an artificial example for the purpose of demonstrating parts of the code, the transition sequences do not necessarily represent actual trees.*\n",
        "\n",
        "**Batching and Unbatching**\n",
        "\n",
        "Within the body of the outer loop over time, we use the functions for batching and unbatching.\n",
        "\n",
        "*Batching*\n",
        "\n",
        "Before passing two lists of children to the reduce layer (an instance of `TreeLSTMCell`), we batch the children as they are at this point a list of tensors of variable length based on how many REDUCE actions there are to perform at a certain time step across the batch (let's call the length `L`). To do an efficient forward pass we want to transform the list to a pair of tensors of shape `([L, D], [L, D])`, which the function `batch` achieves.\n",
        "\n",
        "*Unbatching*\n",
        "\n",
        "In the same line where we batched the children, we unbatch the output of the forward pass to become a list of states of length `L` again. We do this because we need to loop over each example's transition at the current time step and push the children that are reduced into a parent to the stack.\n",
        "\n",
        "*The batch and unbatch functions let us switch between the \"PyTorch world\" (Tensors) and the Python world (easy to manipulate lists).*\n"
      ]
    },
    {
      "cell_type": "code",
      "execution_count": 44,
      "metadata": {
        "id": "5PixvTd4AqsQ"
      },
      "outputs": [],
      "source": [
        "# Helper functions for batching and unbatching states\n",
        "# For speed we want to combine computations by batching, but\n",
        "# for processing logic we want to turn the output into lists again\n",
        "# to easily manipulate.\n",
        "\n",
        "def batch(states):\n",
        "  \"\"\"\n",
        "  Turns a list of states into a single tensor for fast processing.\n",
        "  This function also chunks (splits) each state into a (h, c) pair\"\"\"\n",
        "  return torch.cat(states, 0).chunk(2, 1)\n",
        "\n",
        "def unbatch(state):\n",
        "  \"\"\"\n",
        "  Turns a tensor back into a list of states.\n",
        "  First, (h, c) are merged into a single state.\n",
        "  Then the result is split into a list of sentences.\n",
        "  \"\"\"\n",
        "  return torch.split(torch.cat(state, 1), 1, 0)"
      ]
    },
    {
      "cell_type": "markdown",
      "metadata": {
        "id": "CynltDasaLPt"
      },
      "source": [
        "Take some time to understand the class below, having read the explanation above."
      ]
    },
    {
      "cell_type": "code",
      "execution_count": 45,
      "metadata": {
        "id": "rQOqMXG4gX5G"
      },
      "outputs": [],
      "source": [
        "class TreeLSTM(nn.Module):\n",
        "  \"\"\"Encodes a sentence using a TreeLSTMCell\"\"\"\n",
        "\n",
        "  def __init__(self, input_size, hidden_size, bias=True):\n",
        "    \"\"\"Creates the weights for this LSTM\"\"\"\n",
        "    super(TreeLSTM, self).__init__()\n",
        "\n",
        "    self.input_size = input_size\n",
        "    self.hidden_size = hidden_size\n",
        "    self.bias = bias\n",
        "    self.reduce = TreeLSTMCell(input_size, hidden_size)\n",
        "\n",
        "    # project word to initial c\n",
        "    self.proj_x = nn.Linear(input_size, hidden_size)\n",
        "    self.proj_x_gate = nn.Linear(input_size, hidden_size)\n",
        "\n",
        "    self.buffers_dropout = nn.Dropout(p=0.5)\n",
        "\n",
        "  def forward(self, x, transitions):\n",
        "    \"\"\"\n",
        "    WARNING: assuming x is reversed!\n",
        "    :param x: word embeddings [B, T, E]\n",
        "    :param transitions: [2T-1, B]\n",
        "    :return: root states\n",
        "    \"\"\"\n",
        "\n",
        "    B = x.size(0)  # batch size\n",
        "    T = x.size(1)  # time\n",
        "\n",
        "    # compute an initial c and h for each word\n",
        "    # Note: this corresponds to input x in the Tai et al. Tree LSTM paper.\n",
        "    # We do not handle input x in the TreeLSTMCell itself.\n",
        "    buffers_c = self.proj_x(x)\n",
        "    buffers_h = buffers_c.tanh()\n",
        "    buffers_h_gate = self.proj_x_gate(x).sigmoid()\n",
        "    buffers_h = buffers_h_gate * buffers_h\n",
        "\n",
        "    # concatenate h and c for each word\n",
        "    buffers = torch.cat([buffers_h, buffers_c], dim=-1)\n",
        "\n",
        "    D = buffers.size(-1) // 2\n",
        "\n",
        "    # we turn buffers into a list of stacks (1 stack for each sentence)\n",
        "    # first we split buffers so that it is a list of sentences (length B)\n",
        "    # then we split each sentence to be a list of word vectors\n",
        "    buffers = buffers.split(1, dim=0)  # Bx[T, 2D]\n",
        "    buffers = [list(b.squeeze(0).split(1, dim=0)) for b in buffers]  # BxTx[2D]\n",
        "\n",
        "    # create B empty stacks\n",
        "    stacks = [[] for _ in buffers]\n",
        "\n",
        "    # t_batch holds 1 transition for each sentence\n",
        "    for t_batch in transitions:\n",
        "\n",
        "      child_l = []  # contains the left child for each sentence with reduce action\n",
        "      child_r = []  # contains the corresponding right child\n",
        "\n",
        "      # iterate over sentences in the batch\n",
        "      # each has a transition t, a buffer and a stack\n",
        "      for transition, buffer, stack in zip(t_batch, buffers, stacks):\n",
        "        if transition == SHIFT:\n",
        "          stack.append(buffer.pop())\n",
        "        elif transition == REDUCE:\n",
        "          assert len(stack) >= 2, \\\n",
        "            \"Stack too small! Should not happen with valid transition sequences\"\n",
        "          child_r.append(stack.pop())  # right child is on top\n",
        "          child_l.append(stack.pop())\n",
        "\n",
        "      # if there are sentences with reduce transition, perform them batched\n",
        "      if child_l:\n",
        "        reduced = iter(unbatch(self.reduce(batch(child_l), batch(child_r))))\n",
        "        for transition, stack in zip(t_batch, stacks):\n",
        "          if transition == REDUCE:\n",
        "            stack.append(next(reduced))\n",
        "\n",
        "    final = [stack.pop().chunk(2, -1)[0] for stack in stacks]\n",
        "    final = torch.cat(final, dim=0)  # tensor [B, D]\n",
        "\n",
        "    return final"
      ]
    },
    {
      "cell_type": "markdown",
      "metadata": {
        "id": "s4EzbVzqaXkw"
      },
      "source": [
        "Just like the LSTM before, we will need an extra class that does the classifications."
      ]
    },
    {
      "cell_type": "code",
      "execution_count": 46,
      "metadata": {
        "id": "nLxpYRvtQKge"
      },
      "outputs": [],
      "source": [
        "class TreeLSTMClassifier(nn.Module):\n",
        "  \"\"\"Encodes sentence with a TreeLSTM and projects final hidden state\"\"\"\n",
        "\n",
        "  def __init__(self, vocab_size, embedding_dim, hidden_dim, output_dim, vocab):\n",
        "    super(TreeLSTMClassifier, self).__init__()\n",
        "    self.vocab = vocab\n",
        "    self.hidden_dim = hidden_dim\n",
        "    self.embed = nn.Embedding(vocab_size, embedding_dim, padding_idx=1)\n",
        "    self.treelstm = TreeLSTM(embedding_dim, hidden_dim)\n",
        "    self.output_layer = nn.Sequential(\n",
        "        nn.Dropout(p=0.5),\n",
        "        nn.Linear(hidden_dim, output_dim, bias=True)\n",
        "    )\n",
        "\n",
        "  def forward(self, x):\n",
        "\n",
        "    # x is a pair here of words and transitions; we unpack it here.\n",
        "    # x is batch-major: [B, T], transitions is time major [2T-1, B]\n",
        "    x, transitions = x\n",
        "    emb = self.embed(x)\n",
        "\n",
        "    # we use the root/top state of the Tree LSTM to classify the sentence\n",
        "    root_states = self.treelstm(emb, transitions)\n",
        "\n",
        "    # we use the last hidden state to classify the sentence\n",
        "    logits = self.output_layer(root_states)\n",
        "    return logits"
      ]
    },
    {
      "cell_type": "markdown",
      "metadata": {
        "id": "gh9RbhGwaiLg"
      },
      "source": [
        "## Special `prepare` function for Tree-LSTM\n",
        "\n",
        "We need yet another `prepare` function. For our implementation, sentences need to be *reversed*. We will do that here."
      ]
    },
    {
      "cell_type": "code",
      "execution_count": 47,
      "metadata": {
        "id": "DiqH-_2xdm9H"
      },
      "outputs": [],
      "source": [
        "def prepare_treelstm_minibatch(mb, vocab):\n",
        "  \"\"\"\n",
        "  Returns sentences reversed (last word first)\n",
        "  Returns transitions together with the sentences.\n",
        "  \"\"\"\n",
        "  batch_size = len(mb)\n",
        "  maxlen = max([len(ex.tokens) for ex in mb])\n",
        "\n",
        "  # vocab returns 0 if the word is not there\n",
        "  # NOTE: reversed sequence!\n",
        "  x = [pad([vocab.w2i.get(t, 0) for t in ex.tokens], maxlen)[::-1] for ex in mb]\n",
        "\n",
        "  x = torch.LongTensor(x)\n",
        "  x = x.to(device)\n",
        "\n",
        "  y = [ex.label for ex in mb]\n",
        "  y = torch.LongTensor(y)\n",
        "  y = y.to(device)\n",
        "\n",
        "  maxlen_t = max([len(ex.transitions) for ex in mb])\n",
        "  transitions = [pad(ex.transitions, maxlen_t, pad_value=2) for ex in mb]\n",
        "  transitions = np.array(transitions)\n",
        "  transitions = transitions.T  # time-major\n",
        "\n",
        "  return (x, transitions), y"
      ]
    },
    {
      "cell_type": "markdown",
      "metadata": {
        "id": "IMUsrlL9ayVe"
      },
      "source": [
        "## Training"
      ]
    },
    {
      "cell_type": "code",
      "source": [
        "# Here we print each parameter name, shape, and if it is trainable.\n",
        "def print_parameters(model):\n",
        "  total = 0\n",
        "  for name, p in model.named_parameters():\n",
        "    total += np.prod(p.shape)\n",
        "    print(\"{:24s} {:12s} requires_grad={}\".format(name, str(list(p.shape)), p.requires_grad))\n",
        "  print(\"\\nTotal number of parameters: {}\\n\".format(total))"
      ],
      "metadata": {
        "id": "RWPFTnV04AyM"
      },
      "execution_count": 48,
      "outputs": []
    },
    {
      "cell_type": "code",
      "execution_count": 49,
      "metadata": {
        "id": "IpOYUdg2D3v0",
        "outputId": "af6c0d41-220f-44dd-e21d-9f437952e411",
        "colab": {
          "base_uri": "https://localhost:8080/"
        }
      },
      "outputs": [
        {
          "output_type": "stream",
          "name": "stdout",
          "text": [
            "TreeLSTMClassifier(\n",
            "  (embed): Embedding(18922, 300, padding_idx=1)\n",
            "  (treelstm): TreeLSTM(\n",
            "    (reduce): TreeLSTMCell(300, 150)\n",
            "    (proj_x): Linear(in_features=300, out_features=150, bias=True)\n",
            "    (proj_x_gate): Linear(in_features=300, out_features=150, bias=True)\n",
            "    (buffers_dropout): Dropout(p=0.5, inplace=False)\n",
            "  )\n",
            "  (output_layer): Sequential(\n",
            "    (0): Dropout(p=0.5, inplace=False)\n",
            "    (1): Linear(in_features=150, out_features=5, bias=True)\n",
            "  )\n",
            ")\n",
            "embed.weight             [18922, 300] requires_grad=False\n",
            "treelstm.reduce.reduce_layer.weight [750, 300]   requires_grad=True\n",
            "treelstm.reduce.reduce_layer.bias [750]        requires_grad=True\n",
            "treelstm.proj_x.weight   [150, 300]   requires_grad=True\n",
            "treelstm.proj_x.bias     [150]        requires_grad=True\n",
            "treelstm.proj_x_gate.weight [150, 300]   requires_grad=True\n",
            "treelstm.proj_x_gate.bias [150]        requires_grad=True\n",
            "output_layer.1.weight    [5, 150]     requires_grad=True\n",
            "output_layer.1.bias      [5]          requires_grad=True\n",
            "\n",
            "Total number of parameters: 5993405\n",
            "\n",
            "Shuffling training data\n",
            "Iter 250: loss=321.7165, time=15.87s\n",
            "iter 250: dev acc=0.2498\n",
            "new highscore\n",
            "Iter 500: loss=248.8539, time=29.40s\n",
            "iter 500: dev acc=0.2943\n",
            "new highscore\n",
            "Iter 750: loss=224.7390, time=42.97s\n",
            "iter 750: dev acc=0.3470\n",
            "new highscore\n",
            "Iter 1000: loss=203.7600, time=56.54s\n",
            "iter 1000: dev acc=0.3760\n",
            "new highscore\n",
            "Iter 1250: loss=193.5040, time=70.79s\n",
            "iter 1250: dev acc=0.3824\n",
            "new highscore\n",
            "Iter 1500: loss=187.2311, time=85.16s\n",
            "iter 1500: dev acc=0.3606\n",
            "Iter 1750: loss=185.1027, time=98.79s\n",
            "iter 1750: dev acc=0.3942\n",
            "new highscore\n",
            "Iter 2000: loss=175.7172, time=112.22s\n",
            "iter 2000: dev acc=0.3824\n",
            "Iter 2250: loss=177.4690, time=125.98s\n",
            "iter 2250: dev acc=0.3560\n",
            "Iter 2500: loss=173.9242, time=139.38s\n",
            "iter 2500: dev acc=0.3960\n",
            "new highscore\n",
            "Iter 2750: loss=168.4190, time=152.74s\n",
            "iter 2750: dev acc=0.4024\n",
            "new highscore\n",
            "Iter 3000: loss=165.2024, time=166.56s\n",
            "iter 3000: dev acc=0.3969\n",
            "Iter 3250: loss=164.8554, time=180.41s\n",
            "iter 3250: dev acc=0.4051\n",
            "new highscore\n",
            "Iter 3500: loss=165.6712, time=194.44s\n",
            "iter 3500: dev acc=0.4169\n",
            "new highscore\n",
            "Iter 3750: loss=168.9804, time=208.42s\n",
            "iter 3750: dev acc=0.3987\n",
            "Iter 4000: loss=162.7029, time=222.10s\n",
            "iter 4000: dev acc=0.4214\n",
            "new highscore\n",
            "Iter 4250: loss=159.9193, time=236.06s\n",
            "iter 4250: dev acc=0.4169\n",
            "Iter 4500: loss=155.5934, time=250.22s\n",
            "iter 4500: dev acc=0.4005\n",
            "Iter 4750: loss=160.7077, time=264.04s\n",
            "iter 4750: dev acc=0.4251\n",
            "new highscore\n",
            "Iter 5000: loss=155.2143, time=278.29s\n",
            "iter 5000: dev acc=0.4269\n",
            "new highscore\n",
            "Iter 5250: loss=158.9697, time=292.25s\n",
            "iter 5250: dev acc=0.4242\n",
            "Iter 5500: loss=160.0985, time=306.16s\n",
            "iter 5500: dev acc=0.4332\n",
            "new highscore\n",
            "Iter 5750: loss=157.4224, time=319.84s\n",
            "iter 5750: dev acc=0.4469\n",
            "new highscore\n",
            "Iter 6000: loss=160.1656, time=333.62s\n",
            "iter 6000: dev acc=0.4233\n",
            "Iter 6250: loss=157.5834, time=347.76s\n",
            "iter 6250: dev acc=0.4423\n",
            "Iter 6500: loss=155.0380, time=360.60s\n",
            "iter 6500: dev acc=0.4450\n",
            "Iter 6750: loss=156.5134, time=373.96s\n",
            "iter 6750: dev acc=0.4450\n",
            "Iter 7000: loss=148.4278, time=387.21s\n",
            "iter 7000: dev acc=0.4478\n",
            "new highscore\n",
            "Iter 7250: loss=151.7557, time=400.82s\n",
            "iter 7250: dev acc=0.4369\n",
            "Iter 7500: loss=150.6040, time=414.17s\n",
            "iter 7500: dev acc=0.4514\n",
            "new highscore\n",
            "Iter 7750: loss=154.5884, time=427.76s\n",
            "iter 7750: dev acc=0.4505\n",
            "Iter 8000: loss=154.2389, time=441.90s\n",
            "iter 8000: dev acc=0.4287\n",
            "Iter 8250: loss=151.6594, time=455.42s\n",
            "iter 8250: dev acc=0.4478\n",
            "Iter 8500: loss=155.2462, time=469.03s\n",
            "iter 8500: dev acc=0.4469\n",
            "Iter 8750: loss=155.9385, time=482.49s\n",
            "iter 8750: dev acc=0.4332\n",
            "Iter 9000: loss=153.6954, time=495.86s\n",
            "iter 9000: dev acc=0.4423\n",
            "Iter 9250: loss=156.2904, time=508.90s\n",
            "iter 9250: dev acc=0.4278\n",
            "Iter 9500: loss=153.0776, time=521.46s\n",
            "iter 9500: dev acc=0.4305\n",
            "Iter 9750: loss=155.4370, time=534.26s\n",
            "iter 9750: dev acc=0.4450\n",
            "Iter 10000: loss=151.0421, time=547.50s\n",
            "iter 10000: dev acc=0.4342\n",
            "Iter 10250: loss=150.8731, time=561.29s\n",
            "iter 10250: dev acc=0.4478\n",
            "Iter 10500: loss=152.3345, time=574.66s\n",
            "iter 10500: dev acc=0.4432\n",
            "Iter 10750: loss=152.6191, time=588.16s\n",
            "iter 10750: dev acc=0.4487\n",
            "Iter 11000: loss=153.1624, time=601.43s\n",
            "iter 11000: dev acc=0.4296\n",
            "Iter 11250: loss=151.2482, time=614.42s\n",
            "iter 11250: dev acc=0.4450\n",
            "Iter 11500: loss=150.3726, time=627.62s\n",
            "iter 11500: dev acc=0.4450\n",
            "Iter 11750: loss=156.2830, time=640.49s\n",
            "iter 11750: dev acc=0.4550\n",
            "new highscore\n",
            "Iter 12000: loss=148.2365, time=653.13s\n",
            "iter 12000: dev acc=0.4278\n",
            "Iter 12250: loss=150.3711, time=665.97s\n",
            "iter 12250: dev acc=0.4541\n",
            "Iter 12500: loss=148.1451, time=679.17s\n",
            "iter 12500: dev acc=0.4541\n",
            "Iter 12750: loss=145.6807, time=691.88s\n",
            "iter 12750: dev acc=0.4578\n",
            "new highscore\n",
            "Iter 13000: loss=146.8315, time=704.93s\n",
            "iter 13000: dev acc=0.4441\n",
            "Shuffling training data\n",
            "Iter 13250: loss=147.5588, time=718.71s\n",
            "iter 13250: dev acc=0.4487\n",
            "Iter 13500: loss=152.3562, time=732.16s\n",
            "iter 13500: dev acc=0.4668\n",
            "new highscore\n",
            "Iter 13750: loss=150.0246, time=745.82s\n",
            "iter 13750: dev acc=0.4378\n",
            "Iter 14000: loss=148.8548, time=759.52s\n",
            "iter 14000: dev acc=0.4723\n",
            "new highscore\n",
            "Iter 14250: loss=150.2821, time=772.48s\n",
            "iter 14250: dev acc=0.4569\n",
            "Iter 14500: loss=146.3204, time=785.42s\n",
            "iter 14500: dev acc=0.4559\n",
            "Iter 14750: loss=150.6503, time=799.02s\n",
            "iter 14750: dev acc=0.4569\n",
            "Iter 15000: loss=149.6103, time=812.39s\n",
            "iter 15000: dev acc=0.4532\n",
            "Iter 15250: loss=150.7577, time=825.72s\n",
            "iter 15250: dev acc=0.4605\n",
            "Iter 15500: loss=149.8766, time=839.16s\n",
            "iter 15500: dev acc=0.4550\n",
            "Iter 15750: loss=147.6929, time=852.48s\n",
            "iter 15750: dev acc=0.4478\n",
            "Iter 16000: loss=147.6838, time=865.99s\n",
            "iter 16000: dev acc=0.4523\n",
            "Iter 16250: loss=153.4187, time=879.50s\n",
            "iter 16250: dev acc=0.4505\n",
            "Iter 16500: loss=143.1174, time=892.51s\n",
            "iter 16500: dev acc=0.4578\n",
            "Iter 16750: loss=144.5011, time=905.04s\n",
            "iter 16750: dev acc=0.4550\n",
            "Iter 17000: loss=147.4322, time=917.47s\n",
            "iter 17000: dev acc=0.4596\n",
            "Iter 17250: loss=148.5604, time=930.47s\n",
            "iter 17250: dev acc=0.4605\n",
            "Iter 17500: loss=145.6156, time=943.72s\n",
            "iter 17500: dev acc=0.4632\n",
            "Iter 17750: loss=144.8625, time=957.40s\n",
            "iter 17750: dev acc=0.4632\n",
            "Iter 18000: loss=146.9385, time=970.50s\n",
            "iter 18000: dev acc=0.4578\n",
            "Iter 18250: loss=143.6956, time=984.09s\n",
            "iter 18250: dev acc=0.4650\n",
            "Iter 18500: loss=147.6218, time=997.58s\n",
            "iter 18500: dev acc=0.4514\n",
            "Iter 18750: loss=145.5267, time=1011.54s\n",
            "iter 18750: dev acc=0.4514\n",
            "Iter 19000: loss=144.6054, time=1024.53s\n",
            "iter 19000: dev acc=0.4668\n",
            "Iter 19250: loss=145.4090, time=1036.92s\n",
            "iter 19250: dev acc=0.4559\n",
            "Iter 19500: loss=148.8571, time=1050.22s\n",
            "iter 19500: dev acc=0.4578\n",
            "Iter 19750: loss=147.1842, time=1063.62s\n",
            "iter 19750: dev acc=0.4541\n",
            "Iter 20000: loss=145.6421, time=1077.21s\n",
            "iter 20000: dev acc=0.4750\n",
            "new highscore\n",
            "Iter 20250: loss=148.3003, time=1090.49s\n",
            "iter 20250: dev acc=0.4750\n",
            "Iter 20500: loss=147.2244, time=1103.69s\n",
            "iter 20500: dev acc=0.4569\n",
            "Iter 20750: loss=144.6836, time=1117.06s\n",
            "iter 20750: dev acc=0.4750\n",
            "Iter 21000: loss=138.0394, time=1130.66s\n",
            "iter 21000: dev acc=0.4605\n",
            "Iter 21250: loss=145.8187, time=1144.24s\n",
            "iter 21250: dev acc=0.4605\n",
            "Iter 21500: loss=148.0708, time=1158.12s\n",
            "iter 21500: dev acc=0.4714\n",
            "Iter 21750: loss=145.1659, time=1171.88s\n",
            "iter 21750: dev acc=0.4741\n",
            "Iter 22000: loss=139.5591, time=1184.65s\n",
            "iter 22000: dev acc=0.4841\n",
            "new highscore\n",
            "Iter 22250: loss=145.9512, time=1197.41s\n",
            "iter 22250: dev acc=0.4732\n",
            "Iter 22500: loss=144.3463, time=1210.11s\n",
            "iter 22500: dev acc=0.4759\n",
            "Iter 22750: loss=143.6262, time=1223.56s\n",
            "iter 22750: dev acc=0.4796\n",
            "Iter 23000: loss=148.3567, time=1237.02s\n",
            "iter 23000: dev acc=0.4532\n",
            "Iter 23250: loss=145.6101, time=1250.24s\n",
            "iter 23250: dev acc=0.4678\n",
            "Iter 23500: loss=142.4644, time=1263.64s\n",
            "iter 23500: dev acc=0.4650\n",
            "Iter 23750: loss=134.4873, time=1276.46s\n",
            "iter 23750: dev acc=0.4623\n",
            "Iter 24000: loss=143.6549, time=1289.58s\n",
            "iter 24000: dev acc=0.4641\n",
            "Iter 24250: loss=151.9392, time=1302.95s\n",
            "iter 24250: dev acc=0.4623\n",
            "Iter 24500: loss=142.1638, time=1315.65s\n",
            "iter 24500: dev acc=0.4623\n",
            "Iter 24750: loss=144.9271, time=1328.93s\n",
            "iter 24750: dev acc=0.4732\n",
            "Iter 25000: loss=138.2638, time=1342.14s\n",
            "iter 25000: dev acc=0.4696\n",
            "Iter 25250: loss=140.6732, time=1355.14s\n",
            "iter 25250: dev acc=0.4650\n",
            "Iter 25500: loss=139.5295, time=1368.54s\n",
            "iter 25500: dev acc=0.4614\n",
            "Iter 25750: loss=145.6604, time=1381.88s\n",
            "iter 25750: dev acc=0.4768\n",
            "Iter 26000: loss=140.5993, time=1395.09s\n",
            "iter 26000: dev acc=0.4650\n",
            "Shuffling training data\n",
            "Iter 26250: loss=135.6658, time=1408.62s\n",
            "iter 26250: dev acc=0.4696\n",
            "Iter 26500: loss=138.4514, time=1421.93s\n",
            "iter 26500: dev acc=0.4587\n",
            "Iter 26750: loss=136.7362, time=1435.51s\n",
            "iter 26750: dev acc=0.4741\n",
            "Iter 27000: loss=140.6983, time=1447.90s\n",
            "iter 27000: dev acc=0.4687\n",
            "Iter 27250: loss=141.7918, time=1460.72s\n",
            "iter 27250: dev acc=0.4750\n",
            "Iter 27500: loss=142.5935, time=1473.92s\n",
            "iter 27500: dev acc=0.4623\n",
            "Iter 27750: loss=144.7048, time=1487.38s\n",
            "iter 27750: dev acc=0.4632\n",
            "Iter 28000: loss=140.7312, time=1500.76s\n",
            "iter 28000: dev acc=0.4668\n",
            "Iter 28250: loss=140.3684, time=1514.07s\n",
            "iter 28250: dev acc=0.4723\n",
            "Iter 28500: loss=141.4129, time=1528.32s\n",
            "iter 28500: dev acc=0.4723\n",
            "Iter 28750: loss=136.4650, time=1541.37s\n",
            "iter 28750: dev acc=0.4687\n",
            "Iter 29000: loss=139.6378, time=1554.58s\n",
            "iter 29000: dev acc=0.4641\n",
            "Iter 29250: loss=137.3881, time=1567.91s\n",
            "iter 29250: dev acc=0.4659\n",
            "Iter 29500: loss=142.5378, time=1580.65s\n",
            "iter 29500: dev acc=0.4596\n",
            "Iter 29750: loss=136.2081, time=1593.38s\n",
            "iter 29750: dev acc=0.4696\n",
            "Iter 30000: loss=136.8112, time=1606.03s\n",
            "iter 30000: dev acc=0.4678\n",
            "Done training\n",
            "Loading best model\n"
          ]
        },
        {
          "output_type": "stream",
          "name": "stderr",
          "text": [
            "<ipython-input-42-0fae1946e422>:91: FutureWarning: You are using `torch.load` with `weights_only=False` (the current default value), which uses the default pickle module implicitly. It is possible to construct malicious pickle data which will execute arbitrary code during unpickling (See https://github.com/pytorch/pytorch/blob/main/SECURITY.md#untrusted-models for more details). In a future release, the default value for `weights_only` will be flipped to `True`. This limits the functions that could be executed during unpickling. Arbitrary objects will no longer be allowed to be loaded via this mode unless they are explicitly allowlisted by the user via `torch.serialization.add_safe_globals`. We recommend you start setting `weights_only=True` for any use case where you don't have full control of the loaded file. Please open an issue on GitHub for any issues related to this experimental feature.\n",
            "  ckpt = torch.load(path)\n"
          ]
        },
        {
          "output_type": "stream",
          "name": "stdout",
          "text": [
            "best model iter 22000: train acc=0.7765, dev acc=0.4841, test acc=0.4729\n"
          ]
        }
      ],
      "source": [
        "# Now let's train the Tree LSTM!\n",
        "\n",
        "tree_model = TreeLSTMClassifier(\n",
        "    len(v.w2i), 300, 150, len(t2i), v)\n",
        "\n",
        "with torch.no_grad():\n",
        "  tree_model.embed.weight.data.copy_(torch.from_numpy(vectors))\n",
        "  tree_model.embed.weight.requires_grad = False\n",
        "\n",
        "def do_train(model):\n",
        "\n",
        "  print(model)\n",
        "  print_parameters(model)\n",
        "\n",
        "  model = model.to(device)\n",
        "\n",
        "  optimizer = optim.Adam(model.parameters(), lr=2e-4)\n",
        "\n",
        "  return train_model(\n",
        "      model, optimizer, num_iterations=30000,\n",
        "      print_every=250, eval_every=250,\n",
        "      prep_fn=prepare_treelstm_minibatch,\n",
        "      eval_fn=evaluate,\n",
        "      batch_fn=get_minibatch,\n",
        "      batch_size=25, eval_batch_size=25)\n",
        "\n",
        "results = do_train(tree_model)"
      ]
    },
    {
      "cell_type": "code",
      "source": [
        "tree_lstm_losses, tree_lstm_accuracies = results\n",
        "\n",
        "# Create subplots\n",
        "fig, axes = plt.subplots(1, 2, figsize=(14, 6))  # 1 row, 2 columns\n",
        "\n",
        "# Plot validation loss on the first subplot\n",
        "axes[0].plot(tree_lstm_losses, color='red', linewidth=2, label=\"Validation Loss\")\n",
        "axes[0].set_title(\"Validation Loss\", fontsize=16)\n",
        "axes[0].set_xlabel(\"Epochs\", fontsize=14)\n",
        "axes[0].set_ylabel(\"Loss\", fontsize=14)\n",
        "axes[0].grid(alpha=0.4)\n",
        "axes[0].legend(fontsize=12)\n",
        "\n",
        "# Plot validation accuracy on the second subplot\n",
        "axes[1].plot(tree_lstm_accuracies, color='blue', linewidth=2, label=\"Validation Accuracy\")\n",
        "axes[1].set_title(\"Validation Accuracy\", fontsize=16)\n",
        "axes[1].set_xlabel(\"Epochs\", fontsize=14)\n",
        "axes[1].set_ylabel(\"Accuracy\", fontsize=14)\n",
        "axes[1].grid(alpha=0.4)\n",
        "axes[1].legend(fontsize=12)\n",
        "\n",
        "# Add a main title above both subplots\n",
        "fig.suptitle(\"Binary tree LSTM, sentiment at each node\", fontsize=20)\n",
        "\n",
        "# Adjust layout to prevent overlap\n",
        "plt.tight_layout()\n",
        "\n",
        "# Show the plots\n",
        "plt.show()\n"
      ],
      "metadata": {
        "colab": {
          "base_uri": "https://localhost:8080/",
          "height": 631
        },
        "id": "ao80dZgxy7tr",
        "outputId": "0d3a5bb9-c9a2-43ed-eea3-a0e85d1567c8"
      },
      "execution_count": 50,
      "outputs": [
        {
          "output_type": "display_data",
          "data": {
            "text/plain": [
              "<Figure size 1400x600 with 2 Axes>"
            ],
            "image/png": "[encoded data removed]"
          },
          "metadata": {}
        }
      ]
    },
    {
      "cell_type": "markdown",
      "metadata": {
        "id": "f7QZZH86eHqu"
      },
      "source": [
        "# Further experiments and report\n",
        "\n",
        "For your report, you are expected to answer research questions by doing further experiments.\n",
        "\n",
        "## Research Questions\n",
        "\n",
        "Make sure you cover at least the following:\n",
        "\n",
        "- How important is word order for this task?\n",
        "- Does the tree structure help to get a better accuracy?\n",
        "- How does performance depend on the sentence length? Compare the various models. Is there a model that does better on longer sentences? If so, why?\n",
        "- Do you get better performance if you supervise the sentiment **at each node in the tree**? You can extract more training examples by treating every node in each tree as a separate tree. You will need to write a function that extracts all subtrees given a treestring.\n",
        "    - Warning: NLTK's Tree function seems to result in invalid trees in some cases, so be careful if you want to parse the string to a tree structure before extraction the phrases.\n",
        "\n",
        "**To be able to obtain a full grade (10), you should conduct further investigations.** For example, you can also investigate one the following:\n",
        "\n",
        "- When making a wrong prediction, can you figure out at what point in the tree (sentence) the model fails? You can make a prediction at each node to investigate.\n",
        "- How does N-ary Tree LSTM compare to the Child-Sum Tree LSTM?\n",
        "- How do the Tai et al. Tree LSTMs compare to Le & Zuidema's formulation?\n",
        "- Or... your own research question!\n",
        "\n",
        "These examples should give you an idea of the expected scope of your further investigations. The maximum number of points awarded for these further investigations depends on the depth of your analysis, and can also be awarded for one of the further research questions already listed above.\n",
        "\n",
        "In general:\n",
        "\n",
        "- ***When you report numbers, please report the mean accuracy across 3 (or more) runs with different random seed, together with the standard deviation.*** This is because the final performance may vary per random seed.\n",
        "More precisely, you should run each model with 3 different seeds, and for each of these 3 runs, evaluate the best model (according to the validation) on the test dataset. The validation dataset is used for finding the best model over iterations, but the accuracy you report should be on the test dataset.\n",
        "\n",
        "## Report instructions\n",
        "\n",
        "Your report needs to be written in LaTeX. You are required to use the ACL 2023 template which you can download from or edit directly on [Overleaf](https://www.overleaf.com/latex/templates/acl-2023-proceedings-template/qjdgcrdwcnwp). Make sure your names and student numbers are visible at the top. (Tip: you need to uncomment `\\aclfinalcopy`).\n",
        "You can find some general tips about writing a research paper [here](https://www.microsoft.com/en-us/research/academic-program/write-great-research-paper/), but note that you need to make your own judgment about what is appropriate for this project.\n",
        "\n",
        "We expect you to use the following structure:\n",
        "1. Introduction (~1 page) - describe the problem, your research questions and goals, a summary of your findings and contributions. Please cite related work (models, data set) as part of your introduction here, since this is a short paper.\n",
        "    - Introduce the task and the main goal\n",
        "    - Present your research questions\n",
        "    - Motivate the importance of the questions\n",
        "    - Present and explain your expectations\n",
        "    - Make clear whether the research questions are addressed or not addressed in the literature\n",
        "    - Describe the approach you use to answer the research questions\n",
        "    - Summarise your findings\n",
        "2. Background (~1/2-1 page) -\n",
        "cover the main techniques (\"building blocks\") used in your project (e.g. word embeddings, LSTM, Tree-LSTM) and intuitions behind them. Be accurate and concise.\n",
        "    - How does each technique work? (Don't just copy the formulas)\n",
        "    - What is the relation between the techniques?\n",
        "3. Models (~1/2 page) - Describe the architecture of the final models.\n",
        "    - How do you use LSTM or Tree-LSTM for the sentiment classification task?\n",
        "    - What layers do you have, how do you do classification?\n",
        "    - What is your loss function?\n",
        "    - Etc.\n",
        "4. Experiments (~1/2 page) - Describe your experimental setup. This section should allow someone else to reproduce your experiments. Describe how you evaluate the models.\n",
        "    - Task and the data\n",
        "    - Training (model, data, parameters and hyper parameters, training algorithms, supervision signals, etc.)\n",
        "    - Evaluation (e.g. metrics)\n",
        "5. Results and Analysis (~1 page). Present the results and analyse your findings.\n",
        "    - Answer each of the research questions you raised in the introduction.\n",
        "    - Use figures and tables to highlight interesting patterns\n",
        "    - What are the factors that make model A better than model B in task C? Investigate to prove their effect!\n",
        "6. Conclusion (~1/4 page). Present the conclusions that can be drawn from your experiments.\n",
        "    - What have you learned from you experiments?\n",
        "    - How do your findings relate to what is already known in the literature?\n",
        "    - Were the results as expected? Any surprising results? Why?\n",
        "    - Based on what you learned, what would you suggest doing next?\n",
        "\n",
        "\n",
        "General Tips:\n",
        "\n",
        "- Math notation – define each variable (either in running text, or in a pseudo-legenda after or before the equation).\n",
        "- Define technical terminology you need.\n",
        "- Avoid colloquial language – everything can be said in a scientific-sounding way.\n",
        "- Avoid lengthy sentences, stay to the point.\n",
        "- Do not spend space on \"obvious\" things.\n",
        "- Do not go over the page limit. (We will deduct points for that.)\n",
        "- The page limit is 4 pages excluding references and appendix. This is a strict limit; points will be deducted for longer reports.\n",
        "- There is no strict limit to references and appendix. However, the report needs to remain fully self-contained: the appendix should only include content that is not necessary to understand your work. For example, preprocessing decisions, model parameters, pseudocode, sample system inputs/outputs, and other details that are necessary for the exact replication of your work can be put into the appendix.\n",
        "\n",
        "\n",
        "An ideal report:\n",
        "- Precise, scientific, technical, to the point\n",
        "  - Little general “waffle”/chit-chat\n",
        "- Not boring – because you don’t explain obvious things too much\n",
        "- Efficient delivery of (only) the facts that we need to know to understand/reimplement\n",
        "- Results visually well-presented and described with the correct priority of importance of sub-results\n",
        "- Insightful analysis – speculation should connect to something interesting and not be too much; the reader “learns something new”\n",
        "- No typos, no colloquialisms – well-considered language\n",
        "- This normally means several re-draftings (re-orderings of information)\n"
      ]
    }
  ],
  "metadata": {
    "accelerator": "GPU",
    "colab": {
      "provenance": [],
      "gpuType": "T4"
    },
    "kernelspec": {
      "display_name": "Python 3",
      "name": "python3"
    },
    "language_info": {
      "codemirror_mode": {
        "name": "ipython",
        "version": 3
      },
      "file_extension": ".py",
      "mimetype": "text/x-python",
      "name": "python",
      "nbconvert_exporter": "python",
      "pygments_lexer": "ipython3",
      "version": "3.9.9"
    }
  },
  "nbformat": 4,
  "nbformat_minor": 0
}